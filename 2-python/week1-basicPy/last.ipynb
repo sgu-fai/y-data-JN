{
 "cells": [
  {
   "cell_type": "markdown",
   "metadata": {
    "tags": [
     "intro"
    ]
   },
   "source": [
    "# Grading process\n",
    "\n",
    "This notebook will be autovalidated with `papermill`. The exact command is the following:\n",
    "\n",
    "```bash\n",
    "papermill assignment.ipynb <student>-assignment.ipynb -p TEST True\n",
    "```\n",
    "\n",
    "This will inject new cell after each cell tagged as `parameters` (see `View > Cell toolbar > Tags`). Notebook will be executed from top to bottom in linear order. `solutions.py` contains correct implementations used to validate your solutions.\n",
    "\n",
    "Different problems give different number of points. All problems in the basic section give 1 point, while all problems in intermediate section give 2 points.\n",
    "\n",
    "Please, fill `STUDENT` variable with your name, so that we call collect the results automatically. Each problem contains specific validation details. We will do our best to review your assignments, but please keep in mind, that for this assignment automatic grade (between $0$ an $1$) is the primary source of ground truth."
   ]
  },
  {
   "cell_type": "code",
   "execution_count": 1,
   "metadata": {
    "ExecuteTime": {
     "end_time": "2019-10-30T22:26:04.111972Z",
     "start_time": "2019-10-30T22:26:04.107385Z"
    }
   },
   "outputs": [],
   "source": [
    "import numpy as np"
   ]
  },
  {
   "cell_type": "code",
   "execution_count": 4,
   "metadata": {
    "ExecuteTime": {
     "end_time": "2019-10-30T22:26:04.372936Z",
     "start_time": "2019-10-30T22:26:04.364608Z"
    },
    "tags": [
     "parameters"
    ]
   },
   "outputs": [],
   "source": [
    "STUDENT = \"Samuel Guedj\"\n",
    "ASSIGNMENT = 1\n",
    "TEST = False\n",
    "# TEST = True\n"
   ]
  },
  {
   "cell_type": "code",
   "execution_count": 5,
   "metadata": {
    "ExecuteTime": {
     "end_time": "2019-10-30T22:39:38.188583Z",
     "start_time": "2019-10-30T22:39:38.182534Z"
    }
   },
   "outputs": [],
   "source": [
    "if TEST:\n",
    "    import solutions\n",
    "    total_grade = 0\n",
    "    MAX_POINTS = 12"
   ]
  },
  {
   "cell_type": "markdown",
   "metadata": {},
   "source": [
    "# Basic arrays"
   ]
  },
  {
   "cell_type": "markdown",
   "metadata": {
    "tags": [
     "problem"
    ]
   },
   "source": [
    "### 1. Calculate $\\sin(x)$ for $0\\leq x < 2\\pi$ with a step of $0.1$.\n",
    "\n",
    "You need to implement a function, which calculates the required array. Result must be **1-dimensional**, and **will be tested against precomputed values**.\n",
    "\n",
    "Note, that `numpy` provides [constants](https://docs.scipy.org/doc/numpy-1.15.0/reference/constants.html), you can take $\\pi$ from there. "
   ]
  },
  {
   "cell_type": "code",
   "execution_count": 97,
   "metadata": {
    "ExecuteTime": {
     "end_time": "2019-10-30T22:26:07.100307Z",
     "start_time": "2019-10-30T22:26:07.092132Z"
    },
    "tags": [
     "solution"
    ]
   },
   "outputs": [],
   "source": [
    "def sin_basic():\n",
    "    return np.sin(np.arange(0, 2 * np.pi, 0.1))\n",
    "    "
   ]
  },
  {
   "cell_type": "code",
   "execution_count": 6,
   "metadata": {
    "ExecuteTime": {
     "end_time": "2019-10-30T22:26:07.334174Z",
     "start_time": "2019-10-30T22:26:07.322103Z"
    },
    "tags": [
     "validation"
    ]
   },
   "outputs": [],
   "source": [
    "PROBLEM_ID = 1\n",
    "\n",
    "if TEST:\n",
    "    total_grade += solutions.check(STUDENT, PROBLEM_ID, sin_basic)"
   ]
  },
  {
   "cell_type": "markdown",
   "metadata": {
    "tags": [
     "problem"
    ]
   },
   "source": [
    "### 2. Create a function, which calculates $n$ values of $\\sin(x)$ for $0\\leq x \\leq 2\\pi$.\n",
    "\n",
    "Both $0$ and $2\\pi$ must be included and $x$ values must be equidistant. Result must be **1-dimensional**, and **will be tested against three random values for $10 \\leq n < 100 $**.\n",
    "\n",
    "For example, $n=3$ means that the function must calculate values for $\\sin(0)$,$\\sin(\\pi)$ and $\\sin(2\\pi)$. \n"
   ]
  },
  {
   "cell_type": "code",
   "execution_count": 83,
   "metadata": {
    "ExecuteTime": {
     "end_time": "2019-10-30T22:26:08.274476Z",
     "start_time": "2019-10-30T22:26:08.268426Z"
    },
    "tags": [
     "solution"
    ]
   },
   "outputs": [],
   "source": [
    "def sin_enumerated(n):\n",
    "    return np.sin(np.linspace(0, 2 * np.pi, n))\n"
   ]
  },
  {
   "cell_type": "code",
   "execution_count": 84,
   "metadata": {},
   "outputs": [
    {
     "name": "stdout",
     "output_type": "stream",
     "text": [
      "[ 0.0000000e+00  1.2246468e-16 -2.4492936e-16]\n"
     ]
    }
   ],
   "source": [
    "#np.linspace(0, 4, 4)\n",
    "#print(sin_enumerated(3))\n",
    "#print(sin_enumerated(1))"
   ]
  },
  {
   "cell_type": "code",
   "execution_count": 79,
   "metadata": {
    "ExecuteTime": {
     "end_time": "2019-10-30T22:26:08.554208Z",
     "start_time": "2019-10-30T22:26:08.542546Z"
    },
    "tags": [
     "validation"
    ]
   },
   "outputs": [],
   "source": [
    "PROBLEM_ID = 2\n",
    "\n",
    "if TEST:\n",
    "    total_grade += solutions.check(STUDENT, PROBLEM_ID, sin_enumerated)"
   ]
  },
  {
   "cell_type": "markdown",
   "metadata": {
    "tags": [
     "problem"
    ]
   },
   "source": [
    "### 3. Create a function, which calculates $n$ values of truncated $\\sin(x)$ for $0\\leq x \\leq 2\\pi$.\n",
    "\n",
    "Truncated $\\sin(x)$ is defined as the following:\n",
    "\n",
    "$$\n",
    "\\sin_{trunc}(x) =\n",
    "\\left\\{\n",
    "\\begin{array}{l}\n",
    "\\sin(x), \\sin(x)\\geq 0, \\\\\n",
    "0, \\sin(x) < 0.\n",
    "\\end{array}\\right.\n",
    "$$\n",
    "\n",
    "Otherwise, the requirements are the same as in Problem 2."
   ]
  },
  {
   "cell_type": "code",
   "execution_count": 99,
   "metadata": {
    "ExecuteTime": {
     "end_time": "2019-10-30T22:26:08.950073Z",
     "start_time": "2019-10-30T22:26:08.944541Z"
    },
    "tags": [
     "solution"
    ]
   },
   "outputs": [],
   "source": [
    "def sin_truncated(n):\n",
    "    answer = np.sin(np.linspace(0, 2 * np.pi, n))\n",
    "    return np.where(answer >= 0, answer, 0)"
   ]
  },
  {
   "cell_type": "code",
   "execution_count": 100,
   "metadata": {},
   "outputs": [],
   "source": [
    "# print(np.linspace(0, 2 * np.pi, 10))\n",
    "# sin_truncated(10)"
   ]
  },
  {
   "cell_type": "code",
   "execution_count": null,
   "metadata": {
    "ExecuteTime": {
     "end_time": "2019-10-30T22:26:09.170219Z",
     "start_time": "2019-10-30T22:26:09.158251Z"
    },
    "tags": [
     "validation"
    ]
   },
   "outputs": [],
   "source": [
    "PROBLEM_ID = 3\n",
    "\n",
    "if TEST:\n",
    "    total_grade += solutions.check(STUDENT, PROBLEM_ID, sin_truncated)"
   ]
  },
  {
   "cell_type": "markdown",
   "metadata": {
    "tags": [
     "problem"
    ]
   },
   "source": [
    "### 4. Statistics on multi-dimensional arrays.\n",
    "\n",
    "Given the 3-dimensional array, calculate mean and standard deviation along dimensions $(1,2)$. Result must be **2-dimensional**, and **will be tested against three random combinations of input array dimensions ($10 \\leq n < 100 $)**. Array values will be drawn from standard normal distribution (`np.random.randn`).\n",
    "\n",
    "For example, for $(10, 5, 5)$ array result must be of shape $(10,2)$, with column 0 representing mean value for each \"row\" of the original array, and column 1 representing standard deviation."
   ]
  },
  {
   "cell_type": "code",
   "execution_count": 1,
   "metadata": {
    "ExecuteTime": {
     "end_time": "2019-10-30T22:26:09.531869Z",
     "start_time": "2019-10-30T22:26:09.523705Z"
    },
    "tags": [
     "solution"
    ]
   },
   "outputs": [],
   "source": [
    "def array_stats(arr):\n",
    "    mean = np.mean(arr, axis=(1,2))\n",
    "    std = np.std(arr, axis=(1,2))\n",
    "    c = np.vstack([mean, std])\n",
    "    return c.T"
   ]
  },
  {
   "cell_type": "code",
   "execution_count": null,
   "metadata": {
    "ExecuteTime": {
     "end_time": "2019-10-30T22:26:09.716713Z",
     "start_time": "2019-10-30T22:26:09.707934Z"
    },
    "tags": [
     "validation"
    ]
   },
   "outputs": [],
   "source": [
    "PROBLEM_ID = 4\n",
    "\n",
    "if TEST:\n",
    "    total_grade += solutions.check(STUDENT, PROBLEM_ID, array_stats)"
   ]
  },
  {
   "cell_type": "markdown",
   "metadata": {
    "tags": [
     "problem"
    ]
   },
   "source": [
    "### 5. Softmax activation function.\n",
    "\n",
    "Given the 2-dimensional array, calculate it's $\\texttt{softmax}$ for each row. $\\texttt{softmax}$ activation for a vector is defined as the following:\n",
    "\n",
    "$$\n",
    "\\texttt{softmax} (x_i) = \\frac{e^{x_i}}{\\sum_i e^{x_i}}.\n",
    "$$\n",
    "\n",
    "Correspondingly, for entire array the expression is the following:\n",
    "\n",
    "$$\n",
    "\\texttt{softmax} (x_{ij}) = \\frac{e^{x_{ij}}}{\\sum_j e^{x_{ij}}}.\n",
    "$$\n",
    "\n",
    "For example, for $(10, 5)$ array result must be of the same shape $(10, 5)$. Result must be **2-dimensional**, and **will be tested against three random combinations of input array dimensions ($10 \\leq n < 100 $)**. Array elements are drawn from standard normal distribution."
   ]
  },
  {
   "cell_type": "code",
   "execution_count": 87,
   "metadata": {
    "ExecuteTime": {
     "end_time": "2019-10-30T22:26:10.100800Z",
     "start_time": "2019-10-30T22:26:10.089613Z"
    },
    "tags": [
     "solution"
    ]
   },
   "outputs": [],
   "source": [
    "def softmax(arr):\n",
    "    exp_arr_view = np.exp(arr)\n",
    "    return exp_arr_view / np.sum(exp_arr_view, axis=1, keepdims=True)"
   ]
  },
  {
   "cell_type": "code",
   "execution_count": 101,
   "metadata": {},
   "outputs": [],
   "source": [
    "# import scipy\n",
    "# from scipy import special\n",
    "\n",
    "\n",
    "# arr_view = np.array([[i for i in range(2)] for j in range(5)])\n",
    "# print(arr_view)\n",
    "# b = scipy.special.softmax(arr_view, axis=1)\n",
    "# print(\"b:{}\".format(b))\n",
    "# answer = softmax(arr_view)\n",
    "# print(\"answer:{}\".format(answer))"
   ]
  },
  {
   "cell_type": "code",
   "execution_count": null,
   "metadata": {
    "ExecuteTime": {
     "end_time": "2019-10-30T22:26:10.298555Z",
     "start_time": "2019-10-30T22:26:10.290806Z"
    },
    "tags": [
     "validation"
    ]
   },
   "outputs": [],
   "source": [
    "PROBLEM_ID = 5\n",
    "\n",
    "if TEST:\n",
    "    total_grade += solutions.check(STUDENT, PROBLEM_ID, softmax)"
   ]
  },
  {
   "cell_type": "markdown",
   "metadata": {
    "tags": [
     "problem"
    ]
   },
   "source": [
    "### 6. Class prediction.\n",
    "\n",
    "$\\texttt{softmax}$ is used to represent probabilities. Result of the Problem 5 may be treated as predictions of some classification model. For example, $(10, 3)$ array outputted from the function in Problem 5 may be a probabilistic prediction of 3-class classification model for 10 examples. Note, that $\\texttt{softmax}$ normalizes the input, such that each row sums to $1$.\n",
    "\n",
    "In this problem, you need to calculate the exact class, i.e. determine, which probability is the highest for each example. For example, for the following array\n",
    "\n",
    "$$\n",
    "\\left(\n",
    "\\begin{array}{ccc}\n",
    "0.3 && 0.6 && 0.1 \\\\\n",
    "0.8 && 0.05 && 0.15\n",
    "\\end{array}\n",
    "\\right)\n",
    "$$\n",
    "\n",
    "the result must be\n",
    "\n",
    "$$\n",
    "\\left(\n",
    "\\begin{array}{c}\n",
    "1 \\\\\n",
    "0\n",
    "\\end{array}\n",
    "\\right)\n",
    "$$\n",
    "\n",
    "Note, that result must be **2-dimensional**, such that input array of shape $(N, M)$ is transformed into output array of shape $(N,1)$. Input arrays are generated in the same way as in Problem 5 with $\\texttt{softmax}$ applied on top."
   ]
  },
  {
   "cell_type": "code",
   "execution_count": 90,
   "metadata": {
    "ExecuteTime": {
     "end_time": "2019-10-30T22:26:10.680534Z",
     "start_time": "2019-10-30T22:26:10.674286Z"
    },
    "tags": [
     "solution"
    ]
   },
   "outputs": [],
   "source": [
    "def predict(arr):\n",
    "    return np.argmax(arr, axis=1).reshape(-1,1)"
   ]
  },
  {
   "cell_type": "code",
   "execution_count": 102,
   "metadata": {},
   "outputs": [],
   "source": [
    "# arr = np.array([[0.3, 0.6, 0.1], [0.8, 0.05, .015]])\n",
    "# #arr = np.array([[0.3 0.6 0.1], [0.8 0.05 .015]])\n",
    "# print(arr)\n",
    "# print(predict(arr).shape)\n",
    "# #print(arr.shape)\n"
   ]
  },
  {
   "cell_type": "code",
   "execution_count": null,
   "metadata": {
    "ExecuteTime": {
     "end_time": "2019-10-30T22:26:10.881238Z",
     "start_time": "2019-10-30T22:26:10.873344Z"
    },
    "tags": [
     "validation"
    ]
   },
   "outputs": [],
   "source": [
    "PROBLEM_ID = 6\n",
    "\n",
    "if TEST:\n",
    "    total_grade += solutions.check(STUDENT, PROBLEM_ID, predict)"
   ]
  },
  {
   "cell_type": "markdown",
   "metadata": {},
   "source": [
    "# Intermediate arrays"
   ]
  },
  {
   "cell_type": "markdown",
   "metadata": {
    "tags": [
     "problem"
    ]
   },
   "source": [
    "### 7. One-hot encoding.\n",
    "\n",
    "Given 1-dimensional array of class labels, construct it's one-hot encoded transformation. One-hot encoding of an array of shape $(N,)$ is defined as an array of shape $(N,L)$, such that $e_{ij}$ is $1$ if $i$-th example belongs to class $j$ and $0$ otherwise. $L$ is the number of classes.\n",
    "\n",
    "For example, array $(1,0,2,1,1,2,0)$ is transformed to\n",
    "\n",
    "$$\n",
    "\\left(\n",
    "\\begin{array}{ccc}\n",
    "0 && 1 && 0\\\\\n",
    "1 && 0 && 0\\\\\n",
    "0 && 0 && 1\\\\\n",
    "0 && 1 && 0\\\\\n",
    "0 && 1 && 0\\\\\n",
    "0 && 0 && 1\\\\\n",
    "1 && 0 && 0\n",
    "\\end{array}\n",
    "\\right)\n",
    "$$\n",
    "\n",
    "This anction will be tested against three input arrays of random shape $(n,)$ ($10 \\leq n < 100 $) filled with random integers."
   ]
  },
  {
   "cell_type": "code",
   "execution_count": 92,
   "metadata": {
    "ExecuteTime": {
     "end_time": "2019-10-30T22:26:11.485735Z",
     "start_time": "2019-10-30T22:26:11.480300Z"
    },
    "tags": [
     "solution"
    ]
   },
   "outputs": [],
   "source": [
    "def onehot(labels):\n",
    "    Col = np.max(labels) + 1\n",
    "    Row = labels.shape[0]\n",
    "    mat = np.zeros((Row, Col))\n",
    "    mat[np.arange(Row), labels] = 1\n",
    "    return mat"
   ]
  },
  {
   "cell_type": "code",
   "execution_count": 103,
   "metadata": {},
   "outputs": [],
   "source": [
    "# np.random.seed(657743)\n",
    "# #my_input = np.random.rand(10) * 10\n",
    "# #my_input = np.random.randint(10, size=10)\n",
    "# my_input = np.array([1, 0, 2, 1, 1, 2, 0])\n",
    "# print(my_input)\n",
    "# print(\"shape:{}\".format(my_input.shape))\n",
    "# print(\"answer:\\n{}\".format(onehot(my_input)))"
   ]
  },
  {
   "cell_type": "code",
   "execution_count": null,
   "metadata": {
    "ExecuteTime": {
     "end_time": "2019-10-30T22:26:11.681172Z",
     "start_time": "2019-10-30T22:26:11.675846Z"
    },
    "tags": [
     "validation"
    ]
   },
   "outputs": [],
   "source": [
    "PROBLEM_ID = 7\n",
    "\n",
    "if TEST:\n",
    "    total_grade += solutions.check(STUDENT, PROBLEM_ID, onehot)"
   ]
  },
  {
   "cell_type": "markdown",
   "metadata": {
    "tags": [
     "problem"
    ]
   },
   "source": [
    "### 8. Fixing missing values.\n",
    "\n",
    "Given an array, which contains some $NaN$s (not-a-number, represented as `np.nan`), positive and negative infinities (represented as `np.inf`), contruct a \"repaired\" version of that array. All missing or broken values must be replaced by average of valid elements of an array.\n",
    "\n",
    "For example, array $(0., np.nan, 2., np.inf)$ misu be transformed to $(0., 1., 2., 1.)$. Input arrays will be drawn from standard normal distribution, with small fraction of values transformed to either `np.nan`, `np.inf` or `-np.inf`."
   ]
  },
  {
   "cell_type": "code",
   "execution_count": null,
   "metadata": {},
   "outputs": [],
   "source": [
    "#not mention the dimensions\n",
    "# what is the input type ? just nan and inf or all infinit number ()"
   ]
  },
  {
   "cell_type": "code",
   "execution_count": 105,
   "metadata": {
    "ExecuteTime": {
     "end_time": "2019-10-30T22:26:12.413494Z",
     "start_time": "2019-10-30T22:26:12.408306Z"
    },
    "tags": [
     "solution"
    ]
   },
   "outputs": [],
   "source": [
    "def fix(arr):\n",
    "    view = ~(np.isinf(arr) | np.isnan(arr))\n",
    "    the_mean = np.mean(arr[view])\n",
    "    repaired = np.copy(arr)\n",
    "    repaired[~view] = the_mean\n",
    "    return repaired\n",
    "    "
   ]
  },
  {
   "cell_type": "code",
   "execution_count": 104,
   "metadata": {},
   "outputs": [],
   "source": [
    "# arr = np.array([0, -np.inf, 2, np.nan])\n",
    "# print(arr)\n",
    "# print(\"answer:{}\".format(fix(arr)))\n"
   ]
  },
  {
   "cell_type": "code",
   "execution_count": null,
   "metadata": {
    "ExecuteTime": {
     "end_time": "2019-10-30T22:26:12.602616Z",
     "start_time": "2019-10-30T22:26:12.596587Z"
    },
    "tags": [
     "validation"
    ]
   },
   "outputs": [],
   "source": [
    "PROBLEM_ID = 8\n",
    "\n",
    "if TEST:\n",
    "    total_grade += solutions.check(STUDENT, PROBLEM_ID, fix)"
   ]
  },
  {
   "cell_type": "markdown",
   "metadata": {
    "tags": [
     "problem"
    ]
   },
   "source": [
    "### 9. Calculate class distribution.\n",
    "\n",
    "Given 1-dimensional array of class labels, calculate occurrence of each class.\n",
    "\n",
    "For example, array $(1,0,2,1,1,2,0)$ is transformed to $(2/7, 3/7, 2/7)$. Note the ordering and consider using one-hot representation to calculate class counts."
   ]
  },
  {
   "cell_type": "code",
   "execution_count": null,
   "metadata": {},
   "outputs": [],
   "source": [
    "# issue in the exemple 1 should be 3/7 -> non one-hot representation "
   ]
  },
  {
   "cell_type": "code",
   "execution_count": 106,
   "metadata": {
    "ExecuteTime": {
     "end_time": "2019-10-30T22:26:13.015372Z",
     "start_time": "2019-10-30T22:26:13.008340Z"
    },
    "tags": [
     "solution"
    ]
   },
   "outputs": [],
   "source": [
    "def class_freq(labels):\n",
    "    return np.unique(labels, return_counts=True)[1] / len(labels)"
   ]
  },
  {
   "cell_type": "code",
   "execution_count": 107,
   "metadata": {},
   "outputs": [],
   "source": [
    "# a = np.array([1,0,2,1,1,2,0])\n",
    "# print(class_freq(a))"
   ]
  },
  {
   "cell_type": "code",
   "execution_count": null,
   "metadata": {
    "ExecuteTime": {
     "end_time": "2019-10-30T22:26:13.218968Z",
     "start_time": "2019-10-30T22:26:13.214080Z"
    },
    "tags": [
     "validation"
    ]
   },
   "outputs": [],
   "source": [
    "PROBLEM_ID = 9\n",
    "\n",
    "if TEST:\n",
    "    total_grade += solutions.check(STUDENT, PROBLEM_ID, class_freq)"
   ]
  },
  {
   "cell_type": "markdown",
   "metadata": {},
   "source": [
    "# Your grade"
   ]
  },
  {
   "cell_type": "code",
   "execution_count": null,
   "metadata": {
    "ExecuteTime": {
     "end_time": "2019-10-30T22:39:26.661611Z",
     "start_time": "2019-10-30T22:39:26.654545Z"
    }
   },
   "outputs": [],
   "source": [
    "if TEST:\n",
    "    print(f\"{STUDENT}: {int(100 * total_grade / MAX_POINTS)}\")"
   ]
  },
  {
   "cell_type": "code",
   "execution_count": null,
   "metadata": {},
   "outputs": [],
   "source": []
  }
 ],
 "metadata": {
  "kernelspec": {
   "display_name": "Python 3 (ipykernel)",
   "language": "python",
   "name": "python3"
  },
  "language_info": {
   "codemirror_mode": {
    "name": "ipython",
    "version": 3
   },
   "file_extension": ".py",
   "mimetype": "text/x-python",
   "name": "python",
   "nbconvert_exporter": "python",
   "pygments_lexer": "ipython3",
   "version": "3.12.7"
  }
 },
 "nbformat": 4,
 "nbformat_minor": 4
}
