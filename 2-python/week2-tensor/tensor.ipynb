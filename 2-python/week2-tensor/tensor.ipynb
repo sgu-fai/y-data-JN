{
 "cells": [
  {
   "cell_type": "markdown",
   "metadata": {
    "colab_type": "text",
    "id": "_0Pj5l6c2zOE",
    "tags": [
     "intro"
    ]
   },
   "source": [
    "# Notes\n",
    "\n",
    "Different problems give different number of points: 2, 3 or 4.\n",
    "\n",
    "Please, fill `STUDENT` variable with your name, so that we call collect the results automatically. Each problem contains specific validation details. We will do our best to review your assignments, but please keep in mind, that for this assignment automatic grade (between $0$ an $1$) is the primary source of ground truth."
   ]
  },
  {
   "cell_type": "code",
   "execution_count": 2,
   "metadata": {
    "ExecuteTime": {
     "end_time": "2019-11-07T07:36:51.948437Z",
     "start_time": "2019-11-07T07:36:51.931056Z"
    },
    "colab": {
     "base_uri": "https://localhost:8080/",
     "height": 34
    },
    "colab_type": "code",
    "id": "QoavyqMu2zOG",
    "outputId": "b3245fcc-6eba-4493-e2ea-b1d35c511052"
   },
   "outputs": [
    {
     "name": "stdout",
     "output_type": "stream",
     "text": [
      "Populating the interactive namespace from numpy and matplotlib\n"
     ]
    }
   ],
   "source": [
    "%pylab inline\n",
    "plt.style.use(\"bmh\")"
   ]
  },
  {
   "cell_type": "code",
   "execution_count": 3,
   "metadata": {
    "ExecuteTime": {
     "end_time": "2019-11-07T07:45:52.980933Z",
     "start_time": "2019-11-07T07:45:52.970889Z"
    },
    "colab": {},
    "colab_type": "code",
    "id": "ACkD68522zOK"
   },
   "outputs": [],
   "source": [
    "plt.rcParams[\"figure.figsize\"] = (6,6)"
   ]
  },
  {
   "cell_type": "code",
   "execution_count": 4,
   "metadata": {
    "ExecuteTime": {
     "end_time": "2019-11-07T07:17:17.908376Z",
     "start_time": "2019-11-07T07:17:16.818066Z"
    },
    "colab": {},
    "colab_type": "code",
    "id": "Rmg6YwEB2zOM"
   },
   "outputs": [],
   "source": [
    "import numpy as np\n",
    "import torch"
   ]
  },
  {
   "cell_type": "code",
   "execution_count": null,
   "metadata": {
    "ExecuteTime": {
     "end_time": "2019-11-07T07:17:19.214308Z",
     "start_time": "2019-11-07T07:17:19.207887Z"
    },
    "colab": {},
    "colab_type": "code",
    "id": "saooNoUi2zOO",
    "tags": [
     "parameters"
    ]
   },
   "outputs": [],
   "source": [
    "STUDENT = \"Samuel Guedj\"\n",
    "ASSIGNMENT = 2\n",
    "TEST = False"
   ]
  },
  {
   "cell_type": "code",
   "execution_count": null,
   "metadata": {
    "ExecuteTime": {
     "end_time": "2019-11-07T09:54:03.031427Z",
     "start_time": "2019-11-07T09:54:03.023635Z"
    },
    "colab": {},
    "colab_type": "code",
    "id": "f06GqHwI2zOQ"
   },
   "outputs": [],
   "source": [
    "if TEST:\n",
    "    import solutions\n",
    "    total_grade = 0\n",
    "    MAX_POINTS = 19"
   ]
  },
  {
   "cell_type": "markdown",
   "metadata": {
    "colab_type": "text",
    "id": "lFtBWhpb2zOT"
   },
   "source": [
    "# NumPy broadcasting"
   ]
  },
  {
   "cell_type": "markdown",
   "metadata": {
    "colab_type": "text",
    "id": "F2hEB2Nb2zOT",
    "tags": [
     "problem"
    ]
   },
   "source": [
    "### 1. Normalize matrix rows (2 points).\n",
    "\n",
    "For 2-dimensional array `arr`, calculate an array, in which each row is a normalized version of corresponding row from `arr`.\n",
    "\n",
    "For example, for `(3,4)` input array, the output is also `(3,4)` and `out_arr[0] = (arr[0] - np.mean(arr[0])) / np.std(arr[0])` and so on for other rows.\n",
    "\n",
    "Result must be **2-dimensional**, and **will be tested against three random combinations of input array dimensions ($10 \\leq n < 100 $)**. Array values will be drawn from a normal distribution (`np.random.normal`) with random mean and standard deviation."
   ]
  },
  {
   "cell_type": "code",
   "execution_count": null,
   "metadata": {
    "ExecuteTime": {
     "end_time": "2019-10-30T22:26:07.100307Z",
     "start_time": "2019-10-30T22:26:07.092132Z"
    },
    "colab": {},
    "colab_type": "code",
    "id": "gQZvKKCq2zOU",
    "tags": [
     "solution"
    ]
   },
   "outputs": [],
   "source": [
    "def norm_rows(arr):\n",
    "  sigma = np.std(arr, axis=(1), keepdims=True)\n",
    "  sigma[sigma==0.] = 1.            \n",
    "  return (arr - np.mean(arr, axis=(1), keepdims=True)) / sigma\n",
    "    \n"
   ]
  },
  {
   "cell_type": "code",
   "execution_count": 25,
   "metadata": {
    "colab": {
     "base_uri": "https://localhost:8080/",
     "height": 170
    },
    "colab_type": "code",
    "id": "RKrbzpdKGWin",
    "outputId": "09a4c781-513e-4a90-b144-bd8f00f804ad"
   },
   "outputs": [
    {
     "name": "stdout",
     "output_type": "stream",
     "text": [
      "[[0. 0. 0. 0.]\n",
      " [0. 0. 0. 0.]\n",
      " [0. 0. 0. 0.]]\n",
      "[[0. 0. 0. 0.]\n",
      " [0. 0. 0. 0.]\n",
      " [0. 0. 0. 0.]]\n",
      "[[0. 0. 0. 0.]\n",
      " [0. 0. 0. 0.]\n",
      " [0. 0. 0. 0.]]\n"
     ]
    }
   ],
   "source": [
    "# arr = np.zeros((3,4))\n",
    "# # arr = np.random.randint(10,size=(3,4))\n",
    "# print(arr)\n",
    "# print(norm_rows(arr))\n",
    "# print(norm_rows3(arr))\n",
    "#print(([3,4] - np.mean([3,4])) / np.std([3,4]))\n",
    "# print(np.std([3,4]))\n",
    "# print(np.mean([3,4]))"
   ]
  },
  {
   "cell_type": "code",
   "execution_count": null,
   "metadata": {
    "colab": {
     "base_uri": "https://localhost:8080/",
     "height": 170
    },
    "colab_type": "code",
    "id": "Dpcfh7dd7qQN",
    "outputId": "b35be75e-6206-4174-c93f-29363f17bb8a"
   },
   "outputs": [
    {
     "name": "stdout",
     "output_type": "stream",
     "text": [
      "[[7 6 9]\n",
      " [2 2 4]\n",
      " [4 3 3]]\n",
      "[[ 1.12766778  0.68640647  2.01019039]\n",
      " [-1.07863874 -1.07863874 -0.19611614]\n",
      " [-0.19611614 -0.63737744 -0.63737744]]\n",
      "[[-0.26726124  3.53553391 12.02081528]\n",
      " [-4.27617987 -0.70710678  1.41421356]\n",
      " [-2.67261242  0.35355339 -0.70710678]]\n"
     ]
    }
   ],
   "source": [
    "# np.random.seed(657743)\n",
    "\n",
    "# #my_input = np.random.randint(10, size=(3,3))\n",
    "# #my_input = np.ones(3,3)\n",
    "# #my_input = np.ones((3,3), dtype=np.float32)\n",
    "# my_input = np.array([[7,6,9],\n",
    "#  [2,2,4],\n",
    "#  [4,3,3]])\n",
    "# print(my_input)\n",
    "# #arr = np.array(my_input)\n",
    "# print(norm_rows(my_input))\n",
    "# print(norm_rows2(my_input))"
   ]
  },
  {
   "cell_type": "code",
   "execution_count": null,
   "metadata": {
    "ExecuteTime": {
     "end_time": "2019-10-30T22:26:07.334174Z",
     "start_time": "2019-10-30T22:26:07.322103Z"
    },
    "colab": {},
    "colab_type": "code",
    "id": "8SzCta582zOW",
    "tags": [
     "validation"
    ]
   },
   "outputs": [],
   "source": [
    "PROBLEM_ID = 1\n",
    "\n",
    "if TEST:\n",
    "    total_grade += solutions.check(STUDENT, PROBLEM_ID, norm_rows)"
   ]
  },
  {
   "cell_type": "markdown",
   "metadata": {
    "colab_type": "text",
    "id": "oXDqFHg72zOZ",
    "tags": [
     "problem"
    ]
   },
   "source": [
    "### 2. Normalize matrix columns (2 points).\n",
    "\n",
    "Similar to Problem 1, but normalization must be performed along columns.\n",
    "\n",
    "For example, for `(3,4)` input array, the output is also `(3,4)` and `out_arr[:, 0] = (arr[:, 0] - np.mean(arr[:, 0])) / np.std(arr[:, 0])` and so on for other columns.\n",
    "\n",
    "Result must be **2-dimensional**, and **will be tested against three random combinations of input array dimensions ($10 \\leq n < 100 $)**. Array values will be drawn from normal distribution (`np.random.normal`) with random mean and standard deviation."
   ]
  },
  {
   "cell_type": "code",
   "execution_count": null,
   "metadata": {
    "ExecuteTime": {
     "end_time": "2019-11-07T07:28:16.084791Z",
     "start_time": "2019-11-07T07:28:16.080157Z"
    },
    "colab": {},
    "colab_type": "code",
    "id": "BwijSZjF2zOZ",
    "tags": [
     "solution"
    ]
   },
   "outputs": [],
   "source": [
    "def norm_cols(arr):\n",
    "    sigma = np.std(arr, axis=(0), keepdims=True)\n",
    "    sigma[sigma==0] = 1\n",
    "    return (arr - np.mean(arr, axis=(0), keepdims=True)) / sigma"
   ]
  },
  {
   "cell_type": "code",
   "execution_count": null,
   "metadata": {
    "ExecuteTime": {
     "end_time": "2019-10-30T22:26:08.554208Z",
     "start_time": "2019-10-30T22:26:08.542546Z"
    },
    "colab": {},
    "colab_type": "code",
    "id": "gNewxpbX2zOd",
    "tags": [
     "validation"
    ]
   },
   "outputs": [],
   "source": [
    "PROBLEM_ID = 2\n",
    "\n",
    "if TEST:\n",
    "    total_grade += solutions.check(STUDENT, PROBLEM_ID, norm_cols)"
   ]
  },
  {
   "cell_type": "markdown",
   "metadata": {
    "colab_type": "text",
    "id": "uWNge_mt2zOf",
    "tags": [
     "problem"
    ]
   },
   "source": [
    "### 3. Generic normalize routine (2 points).\n",
    "\n",
    "Similar to Problems 1 and 2, but normalization must be performed according to `axis` argument. `axis=0` means normalization along the columns, and `axis=1` means normalization along the rows."
   ]
  },
  {
   "cell_type": "code",
   "execution_count": null,
   "metadata": {
    "ExecuteTime": {
     "end_time": "2019-10-30T22:26:08.950073Z",
     "start_time": "2019-10-30T22:26:08.944541Z"
    },
    "colab": {},
    "colab_type": "code",
    "id": "qlByg8OG2zOg",
    "tags": [
     "solution"
    ]
   },
   "outputs": [],
   "source": [
    "def norm(arr, axis):\n",
    "    sigma = np.std(arr, axis=(axis), keepdims=True)\n",
    "    sigma[sigma==0] = 1\n",
    "    return (arr - np.mean(arr, axis=(axis), keepdims=True)) / sigma\n",
    " \n"
   ]
  },
  {
   "cell_type": "code",
   "execution_count": 16,
   "metadata": {
    "colab": {
     "base_uri": "https://localhost:8080/",
     "height": 85
    },
    "colab_type": "code",
    "id": "npZNwNmyqkZP",
    "outputId": "9741f2c7-7bb5-413d-8d2b-a740f27857de"
   },
   "outputs": [
    {
     "name": "stdout",
     "output_type": "stream",
     "text": [
      "my norm:[[-0.26726124 -1.06904497  1.33630621]\n",
      " [-0.70710678 -0.70710678  1.41421356]\n",
      " [ 1.41421356 -0.70710678 -0.70710678]]\n",
      "np norm:[ 8.30662386  7.         10.29563014]\n"
     ]
    }
   ],
   "source": [
    "# np.random.seed(657743)\n",
    "# my_input = np.random.randint(10, size=(3,3))\n",
    "# print(\"my norm:{}\".format(norm(my_input,1)))\n",
    "# print(\"np norm:{}\".format(np.linalg.norm(my_input, axis=0)))\n"
   ]
  },
  {
   "cell_type": "code",
   "execution_count": null,
   "metadata": {
    "ExecuteTime": {
     "end_time": "2019-10-30T22:26:09.170219Z",
     "start_time": "2019-10-30T22:26:09.158251Z"
    },
    "colab": {},
    "colab_type": "code",
    "id": "K7JSbjYJ2zOi",
    "tags": [
     "validation"
    ]
   },
   "outputs": [],
   "source": [
    "PROBLEM_ID = 3\n",
    "\n",
    "if TEST:\n",
    "    total_grade += solutions.check(STUDENT, PROBLEM_ID, norm)"
   ]
  },
  {
   "cell_type": "markdown",
   "metadata": {
    "colab_type": "text",
    "id": "k5UWmjcr2zOk",
    "tags": [
     "problem"
    ]
   },
   "source": [
    "### 4. Dot product of matrix and vector (2 points).\n",
    "\n",
    "Calculate dot product of 2-dimensional array $M$ of shape $(N,K)$ and 1-dimensional row vector $v$ of shape $(K,)$. You cannot use `np.dot` in this exercise.\n",
    "\n",
    "Result must be **1-dimensional** of shape $(N,)$, and **will be tested against three random combinations of input arrays dimensions ($10 \\leq n < 100 $)**. Arrays values will be drawn from standard normal distribution (`np.random.randn`)."
   ]
  },
  {
   "cell_type": "code",
   "execution_count": null,
   "metadata": {
    "ExecuteTime": {
     "end_time": "2019-11-07T07:32:14.866302Z",
     "start_time": "2019-11-07T07:32:14.851691Z"
    },
    "colab": {},
    "colab_type": "code",
    "id": "ftqumWlZ2zOl",
    "tags": [
     "solution"
    ]
   },
   "outputs": [],
   "source": [
    "def dot(m, v):\n",
    "    \"\"\"dot product of an array 'm' and vector 'v' (without using np.dot)\"\"\"\n",
    "\n",
    "    return np.sum(m * v, axis=1)"
   ]
  },
  {
   "cell_type": "code",
   "execution_count": 10,
   "metadata": {
    "colab": {
     "base_uri": "https://localhost:8080/",
     "height": 51
    },
    "colab_type": "code",
    "id": "nYUiUStUTFhH",
    "outputId": "40f7c314-04f8-4d6e-c80a-0af877f6c7b9"
   },
   "outputs": [
    {
     "name": "stdout",
     "output_type": "stream",
     "text": [
      "mydoc:[ 8 10 21]\n",
      "doc:[ 8 10 21]\n"
     ]
    }
   ],
   "source": [
    "# my_input = np.random.randint(10, size=(3,3))\n",
    "# #vect =  np.random.randint(10, size=(3,3))\n",
    "# vect = np.arange(3)\n",
    "# print(\"mydoc:{}\".format(dot(my_input, vect)))\n",
    "# print(\"doc:{}\".format(np.dot(my_input, vect)))\n"
   ]
  },
  {
   "cell_type": "code",
   "execution_count": null,
   "metadata": {
    "ExecuteTime": {
     "end_time": "2019-10-30T22:26:09.716713Z",
     "start_time": "2019-10-30T22:26:09.707934Z"
    },
    "colab": {},
    "colab_type": "code",
    "id": "e_5QvmQd2zOn",
    "tags": [
     "validation"
    ]
   },
   "outputs": [],
   "source": [
    "PROBLEM_ID = 4\n",
    "\n",
    "if TEST:\n",
    "    total_grade += solutions.check(STUDENT, PROBLEM_ID, dot)"
   ]
  },
  {
   "cell_type": "markdown",
   "metadata": {
    "colab_type": "text",
    "id": "51lX2NZz2zOr",
    "tags": [
     "problem"
    ]
   },
   "source": [
    "### 5. Calculate recurrence matrix (3 points).\n",
    "\n",
    "In signals (or time series) analysis, it's usualy important to quickly assess the structure (if any) of the data. This can be done in many different ways. You can test, whether a signal is stationary or look at Fourier transform to understand the frequency composition of a signal. When you want to understand, whether signal contains some recurring pattern, it's useful to perform what is called *recurrent quantification analysis*.\n",
    "\n",
    "Imagine a signal $s_i$. Recurrence matrix is then:\n",
    "\n",
    "$$\n",
    "R_{ij} = \\left\\{\n",
    "\\begin{array}{l}\n",
    "1, |s_i-s_j|<\\varepsilon \\\\\n",
    "0, |s_i-s_j|\\ge\\varepsilon \\\\\n",
    "\\end{array}\n",
    "\\right.\n",
    "$$\n",
    "\n",
    "In this exercise you need to implement a function, which calculates recurrence matrix for 1-dimensional array. The function should not use any loops and must leverage broadcasting. For reference, naive loop implementation is provided below. Plot recurrence matrices for some signals to understand, how signal structure reveals itself in the recurrence matrix.\n",
    "\n",
    "For example, for a signal of shape $(100,)$ result must be of the shape $(100, 100)$. Result must be **2-dimensional**, and **will be tested against three random combinations of input array dimensions ($100 \\leq n < 1000 $)** with different signal patterns (noise, $\\sin$, noise + randomly-placed recurrent pattern)."
   ]
  },
  {
   "cell_type": "code",
   "execution_count": null,
   "metadata": {
    "ExecuteTime": {
     "end_time": "2019-11-07T07:37:00.468930Z",
     "start_time": "2019-11-07T07:37:00.455967Z"
    },
    "colab": {},
    "colab_type": "code",
    "id": "8Az5knC12zOr"
   },
   "outputs": [],
   "source": [
    "def recm_naive(ts, eps):\n",
    "    \"\"\"Loop implementation of recurrent matrix.\"\"\"\n",
    "\n",
    "    ln = len(ts)\n",
    "\n",
    "    rm = np.zeros((ln, ln), dtype=bool)\n",
    "    \n",
    "    for i in range(ln):\n",
    "        for j in range(ln):\n",
    "            rm[i, j] = np.abs(ts[i]-ts[j])<eps\n",
    "    return rm"
   ]
  },
  {
   "cell_type": "code",
   "execution_count": null,
   "metadata": {
    "ExecuteTime": {
     "end_time": "2019-11-07T07:37:01.383692Z",
     "start_time": "2019-11-07T07:37:00.684697Z"
    },
    "colab": {
     "base_uri": "https://localhost:8080/",
     "height": 391
    },
    "colab_type": "code",
    "id": "SYOf8m-v2zOu",
    "outputId": "fbb4a85c-d9e5-43dc-9bec-22172d822782"
   },
   "outputs": [
    {
     "data": {
      "text/plain": [
       "<matplotlib.image.AxesImage at 0x7fe1908430f0>"
      ]
     },
     "execution_count": 76,
     "metadata": {
      "tags": []
     },
     "output_type": "execute_result"
    },
    {
     "data": {
      "image/png": "[encoded data removed]",
      "text/plain": [
       "<Figure size 432x432 with 1 Axes>"
      ]
     },
     "metadata": {
      "tags": []
     },
     "output_type": "display_data"
    }
   ],
   "source": [
    "random_signal = np.random.randn(200)\n",
    "plt.imshow(recm_naive(random_signal, 1e-1), cmap=plt.cm.binary)"
   ]
  },
  {
   "cell_type": "code",
   "execution_count": null,
   "metadata": {
    "ExecuteTime": {
     "end_time": "2019-11-07T07:37:18.837689Z",
     "start_time": "2019-11-07T07:37:14.458474Z"
    },
    "colab": {
     "base_uri": "https://localhost:8080/",
     "height": 391
    },
    "colab_type": "code",
    "id": "3Rbf3sdj2zOx",
    "outputId": "916a7bd7-f820-4469-a534-8dbb6f466681"
   },
   "outputs": [
    {
     "data": {
      "text/plain": [
       "<matplotlib.image.AxesImage at 0x7fe190396a20>"
      ]
     },
     "execution_count": 77,
     "metadata": {
      "tags": []
     },
     "output_type": "execute_result"
    },
    {
     "data": {
      "image/png": "[encoded data removed]",
      "text/plain": [
       "<Figure size 432x432 with 1 Axes>"
      ]
     },
     "metadata": {
      "tags": []
     },
     "output_type": "display_data"
    }
   ],
   "source": [
    "sin_signal = np.sin(np.arange(1000))\n",
    "plt.imshow(recm_naive(sin_signal, 1e-1), cmap=plt.cm.binary)"
   ]
  },
  {
   "cell_type": "code",
   "execution_count": null,
   "metadata": {
    "ExecuteTime": {
     "end_time": "2019-11-07T07:46:18.295206Z",
     "start_time": "2019-11-07T07:46:16.829691Z"
    },
    "colab": {
     "base_uri": "https://localhost:8080/",
     "height": 728
    },
    "colab_type": "code",
    "id": "53ndDRg02zOz",
    "outputId": "129317b5-f411-4424-e18e-e8c12bf2639b"
   },
   "outputs": [
    {
     "data": {
      "image/png": "[encoded data removed]",
      "text/plain": [
       "<Figure size 432x432 with 1 Axes>"
      ]
     },
     "metadata": {
      "tags": []
     },
     "output_type": "display_data"
    },
    {
     "data": {
      "image/png": "[encoded data removed]",
      "text/plain": [
       "<Figure size 432x432 with 1 Axes>"
      ]
     },
     "metadata": {
      "tags": []
     },
     "output_type": "display_data"
    }
   ],
   "source": [
    "random_signal = np.random.randn(200)\n",
    "random_signal[6:21] = 5 * np.ones((15,))\n",
    "random_signal[93:108] = 5 * np.ones((15,))\n",
    "\n",
    "random_signal[39:54] = 0.5 * np.ones((15,))\n",
    "random_signal[162:177] = 0.5 * np.ones((15,))\n",
    "\n",
    "plt.plot(random_signal)\n",
    "plt.show()\n",
    "\n",
    "plt.imshow(recm_naive(random_signal, 5e-1), cmap=plt.cm.binary);"
   ]
  },
  {
   "cell_type": "code",
   "execution_count": null,
   "metadata": {
    "ExecuteTime": {
     "end_time": "2019-11-07T07:45:58.508086Z",
     "start_time": "2019-11-07T07:45:58.499574Z"
    },
    "colab": {},
    "colab_type": "code",
    "id": "ZprOcVZM2zO1",
    "tags": [
     "solution"
    ]
   },
   "outputs": [],
   "source": [
    "def recm(ts, eps):\n",
    "    col_vector = np.expand_dims(ts,1)\n",
    "    res = np.where( np.abs(ts - col_vector) < eps, True, False)\n",
    "    return res"
   ]
  },
  {
   "cell_type": "code",
   "execution_count": 27,
   "metadata": {},
   "outputs": [
    {
     "name": "stdout",
     "output_type": "stream",
     "text": [
      "[0 1]\n",
      "[[0]\n",
      " [1]]\n",
      "[[ 0 -1]\n",
      " [ 1  0]]\n",
      "d2bis:[[[ 0 -1]]\n",
      "\n",
      " [[ 1  0]]]\n"
     ]
    }
   ],
   "source": [
    "#random_signal = np.random.randint(10, size=(3,3))\n",
    "random_signal = np.arange(2)\n",
    "print (random_signal)\n",
    "col_vector = np.expand_dims(random_signal, 1)\n",
    "print (col_vector)\n",
    "d2 = col_vector - random_signal\n",
    "print(d2)\n",
    "d2bis = np.expand_dims(d2, 1)\n",
    "print(\"d2bis:{}\".format(d2bis))\n",
    "\n",
    "# d3 = np.expand_dims(d2, 1)\n",
    "# print(d3)\n",
    "# d3sum = d3 -d2"
   ]
  },
  {
   "cell_type": "code",
   "execution_count": null,
   "metadata": {
    "colab": {
     "base_uri": "https://localhost:8080/",
     "height": 187
    },
    "colab_type": "code",
    "id": "1vz0v_GVc7a0",
    "outputId": "701a5f23-d7d6-40ec-871a-f855194f40ab"
   },
   "outputs": [
    {
     "name": "stdout",
     "output_type": "stream",
     "text": [
      "[0 1 2 3 4 5 6 7 8]\n",
      "[[ 0  1  2  3  4  5  6  7  8]\n",
      " [ 1  2  3  4  5  6  7  8  9]\n",
      " [ 2  3  4  5  6  7  8  9 10]\n",
      " [ 3  4  5  6  7  8  9 10 11]\n",
      " [ 4  5  6  7  8  9 10 11 12]\n",
      " [ 5  6  7  8  9 10 11 12 13]\n",
      " [ 6  7  8  9 10 11 12 13 14]\n",
      " [ 7  8  9 10 11 12 13 14 15]\n",
      " [ 8  9 10 11 12 13 14 15 16]]\n"
     ]
    }
   ],
   "source": [
    "\n",
    "#random_signal = np.random.randint(10, size=(3,3))\n",
    "# random_signal = np.arange(9)\n",
    "# print (random_signal)\n",
    "# col_vector = np.expand_dims(random_signal,1)\n",
    "# print(np.abs(random_signal + col_vector))\n",
    "# print (random_signal[np.arange(20)])\n",
    "# print(\"random_signal:{}\".format(random_signal))\n",
    "# print(recm_naive(random_signal, 1e-1))\n",
    "# print(\"**\")\n",
    "# print(recm(random_signal, 1e-1))"
   ]
  },
  {
   "cell_type": "code",
   "execution_count": null,
   "metadata": {
    "ExecuteTime": {
     "end_time": "2019-10-30T22:26:10.298555Z",
     "start_time": "2019-10-30T22:26:10.290806Z"
    },
    "colab": {},
    "colab_type": "code",
    "id": "Dwk7793A2zO5",
    "tags": [
     "validation"
    ]
   },
   "outputs": [],
   "source": [
    "PROBLEM_ID = 5\n",
    "\n",
    "if TEST:\n",
    "    total_grade += solutions.check(STUDENT, PROBLEM_ID, recm)"
   ]
  },
  {
   "cell_type": "markdown",
   "metadata": {
    "colab_type": "text",
    "id": "O2dZJEPC2zO9"
   },
   "source": [
    "# PyTorch"
   ]
  },
  {
   "cell_type": "markdown",
   "metadata": {
    "colab_type": "text",
    "id": "cP8yRfAE2zO-",
    "tags": [
     "problem"
    ]
   },
   "source": [
    "### 6. ReLU activation (2 points).\n",
    "\n",
    "ReLU is the most commonly used activation function in many deep learning application. It's defined as\n",
    "\n",
    "$$\n",
    "ReLU(x) = \\max(0, x).\n",
    "$$\n",
    "\n",
    "Outpu must be of the same shape as input, and **will be tested against three random combinations of input array dimensions ($100 \\leq n < 1000 $)**, while values of the input are drawn from standard normal distribution. Number of dimensions of the input will also be selected randomly and is either 1, 2 or 3."
   ]
  },
  {
   "cell_type": "code",
   "execution_count": null,
   "metadata": {
    "ExecuteTime": {
     "end_time": "2019-10-30T22:26:10.680534Z",
     "start_time": "2019-10-30T22:26:10.674286Z"
    },
    "colab": {},
    "colab_type": "code",
    "id": "xOjoo-4v2zO_",
    "tags": [
     "solution"
    ]
   },
   "outputs": [],
   "source": [
    "def relu(arr):\n",
    "    zero = torch.zeros_like(arr)\n",
    "    return torch.where(arr > 0, arr, zero)\n"
   ]
  },
  {
   "cell_type": "code",
   "execution_count": 20,
   "metadata": {
    "colab": {
     "base_uri": "https://localhost:8080/",
     "height": 51
    },
    "colab_type": "code",
    "id": "OQ23U9-uO6LR",
    "outputId": "2bc2256a-c72f-4880-acc1-fe55f54294f0"
   },
   "outputs": [
    {
     "data": {
      "text/plain": [
       "tensor([[False, False],\n",
       "        [False, False]])"
      ]
     },
     "execution_count": 20,
     "metadata": {
      "tags": []
     },
     "output_type": "execute_result"
    }
   ],
   "source": [
    "# a = torch.Tensor(2,2)\n",
    "# a < 0\n",
    "# print(a)\n",
    "# b = relu(a)\n",
    "# print(b)\n",
    "# print(torch.relu(a))"
   ]
  },
  {
   "cell_type": "code",
   "execution_count": null,
   "metadata": {
    "ExecuteTime": {
     "end_time": "2019-10-30T22:26:10.881238Z",
     "start_time": "2019-10-30T22:26:10.873344Z"
    },
    "colab": {},
    "colab_type": "code",
    "id": "Zg_MQvoT2zPB",
    "tags": [
     "validation"
    ]
   },
   "outputs": [],
   "source": [
    "PROBLEM_ID = 6\n",
    "\n",
    "if TEST:\n",
    "    total_grade += solutions.check(STUDENT, PROBLEM_ID, relu)"
   ]
  },
  {
   "cell_type": "markdown",
   "metadata": {
    "colab_type": "text",
    "id": "9APprDTM2zPC"
   },
   "source": [
    "### 7. Mean squared error (2 points).\n",
    "\n",
    "In this problem you need to calculate MSE for a pair of tensors `y_true` and `y_pred`. MSE is defined as usual:\n",
    "\n",
    "$$\n",
    "L_{MSE} = \\frac{1}{N} \\sum_i \\left(y_i - \\hat y_i\\right)^2\n",
    "$$\n",
    "\n",
    "Note, however, that `y_true` and `y_pred`may be of **different shape**. While `y_true` is always $(N,)$, `y_pred` may be $(N,1)$, $(1, N)$ or $(N,)$. Input values are drawn from standard normal distribution and **shape is selected randomly ($100 \\leq n < 1000 $)**."
   ]
  },
  {
   "cell_type": "code",
   "execution_count": null,
   "metadata": {
    "ExecuteTime": {
     "end_time": "2019-11-07T09:24:11.265735Z",
     "start_time": "2019-11-07T09:24:11.257978Z"
    },
    "colab": {},
    "colab_type": "code",
    "id": "Jvsrswtj2zPD",
    "tags": [
     "solution"
    ]
   },
   "outputs": [],
   "source": [
    "def mse(y_true, y_pred):\n",
    "    y_pred_flat = y_pred.flatten()\n",
    "    return (y_true - y_pred_flat).pow(2).mean()\n",
    "    #return torch.sqrt(y_true - y_pred_flat).mean()\n",
    "    #return torch.sum(torch.sqrt(y_true - y_pred_flat)) / len(y_pred_flat)\n",
    "    \n",
    "# def mse2(y_true: torch.Tensor, y_pred: torch.Tensor) -> torch.Tensor:\n",
    "#     \"\"\"returns the Mean-Square-Error for a pair of tensors\"\"\"\n",
    "    \n",
    "#     return (y_true - y_pred.flatten()).pow_(2).mean()"
   ]
  },
  {
   "cell_type": "code",
   "execution_count": 50,
   "metadata": {
    "colab": {
     "base_uri": "https://localhost:8080/",
     "height": 51
    },
    "colab_type": "code",
    "id": "2NcKDu3H2l4I",
    "outputId": "24ea990f-f813-441d-819b-79de6a16d524"
   },
   "outputs": [
    {
     "name": "stdout",
     "output_type": "stream",
     "text": [
      "tensor([0.5680, 1.4389, 0.4556, 0.6003])\n",
      "tensor([0.1041, 4.2872, 0.0431, 0.1299])\n"
     ]
    }
   ],
   "source": [
    "a = torch.randn(4)\n",
    "print(torch.sqrt(a))\n",
    "print(a.pow(2))"
   ]
  },
  {
   "cell_type": "code",
   "execution_count": 54,
   "metadata": {
    "colab": {
     "base_uri": "https://localhost:8080/",
     "height": 153
    },
    "colab_type": "code",
    "id": "vhtIEeHfKPQR",
    "outputId": "a53299f8-da83-430e-9960-2131f7f098f7"
   },
   "outputs": [
    {
     "name": "stdout",
     "output_type": "stream",
     "text": [
      "tensor([[1., 1., 1., 1., 1.]])\n",
      "tensor([[0.0290, 0.1568, 0.5359, 0.5640, 0.0341]])\n",
      "tensor(1.)\n",
      "tensor(1.)\n",
      "tensor(1.)\n",
      "tensor(1.)\n",
      "tensor(0.1264)\n",
      "tensor(0.1264)\n"
     ]
    }
   ],
   "source": [
    "one = torch.ones((1,5))\n",
    "oneBis = torch.ones((5,))\n",
    "deux = torch.zeros((5,))\n",
    "troie = torch.rand_like(one)\n",
    "\n",
    "\n",
    "print(one)\n",
    "print(troie)\n",
    "print(mse(one, deux))\n",
    "print(mse2(one, deux))\n",
    "\n",
    "print(mse(oneBis, deux))\n",
    "print(mse2(oneBis, deux))\n",
    "\n",
    "print(mse(troie, deux))\n",
    "print(mse2(troie, deux))\n",
    "\n",
    "# print(one)\n",
    "# print(\"max:{}\".format( max(one.size())))\n",
    "# deux = one.unsqueeze(0)\n",
    "# print(deux)"
   ]
  },
  {
   "cell_type": "code",
   "execution_count": 47,
   "metadata": {
    "colab": {
     "base_uri": "https://localhost:8080/",
     "height": 51
    },
    "colab_type": "code",
    "id": "X900NxZwNBWD",
    "outputId": "6f2e2fe6-7b25-4b27-d52a-83e419083a50"
   },
   "outputs": [
    {
     "name": "stdout",
     "output_type": "stream",
     "text": [
      "4\n",
      "tensor([1, 2, 3, 4])\n"
     ]
    }
   ],
   "source": [
    "# x = torch.tensor([1, 2, 3, 4])\n",
    "# print(max(x.size()))\n",
    "# print(x.view(max(x.size()),))\n",
    "#print(torch.unsqueeze(x, 0))\n",
    "#print(torch.unsqueeze(x, 1))"
   ]
  },
  {
   "cell_type": "code",
   "execution_count": null,
   "metadata": {
    "colab": {},
    "colab_type": "code",
    "id": "EeBxqOuuLyFZ"
   },
   "outputs": [],
   "source": []
  },
  {
   "cell_type": "code",
   "execution_count": null,
   "metadata": {
    "ExecuteTime": {
     "end_time": "2019-11-07T09:24:13.985234Z",
     "start_time": "2019-11-07T09:24:13.976203Z"
    },
    "colab": {},
    "colab_type": "code",
    "id": "Y_bTiW7k2zPF",
    "tags": [
     "validation"
    ]
   },
   "outputs": [],
   "source": [
    "PROBLEM_ID = 7\n",
    "\n",
    "if TEST:\n",
    "    total_grade += solutions.check(STUDENT, PROBLEM_ID, mse)"
   ]
  },
  {
   "cell_type": "markdown",
   "metadata": {
    "colab_type": "text",
    "id": "sT_Qzh-F2zPH",
    "tags": [
     "problem"
    ]
   },
   "source": [
    "### 8. Character-level encoding (4 points).\n",
    "\n",
    "In computations in general and in machine learning specifically letters cannot be used directly, as computers only know aboun numbers. Text data may be encoded in many different ways in natural language processing tasks.\n",
    "\n",
    "One of the simplest ways to encode letters is to use one-hot encoded representation, with letters being \"class labels\". A letter is represented by a tensor of shape $(26,)$.\n",
    "\n",
    "Then, for example, word \"python\" would be transformed into a tensor of shape $(6, 26)$ with all elements being $0$, except $(0, 15)\\sim p,\\,(1, 24)\\sim y,\\,(2, 19)\\sim t,...$ being $1$. A phrase would be represented with 3-dimensional tensor.\n",
    "\n",
    "In this problem you need to create a tensor, which represents a list of words `words` of length $N$. The only characters used are those from `string.ascii_lowercase`, and words are of different length $L_i$. Output must be of shape $(N, \\max(L_i), 26)$.\n",
    "\n",
    "Dimension 0 corresponds to words themselves, with `tensor[0]` being a represetation of `words[0]`. Note, that you need to use padding: although trivial in this case, you must remember, that tensor must accomodate for a longest word, thus dimension 1 is $\\max(L_i)$.\n",
    "\n",
    "Note also, that the only loop you need here is a loop over `words`, there's no need to loop over the resulting tensor.\n",
    "\n",
    "The result will be tested against three predefined lists of word, with all words being lowercase and containing only ASCII characters."
   ]
  },
  {
   "cell_type": "code",
   "execution_count": null,
   "metadata": {
    "ExecuteTime": {
     "end_time": "2019-10-30T22:26:11.485735Z",
     "start_time": "2019-10-30T22:26:11.480300Z"
    },
    "colab": {},
    "colab_type": "code",
    "id": "c_1ik2eN2zPI",
    "tags": [
     "solution"
    ]
   },
   "outputs": [],
   "source": [
    "def encode(words):\n",
    "  # size_list = []\n",
    "  # tab = words.split()\n",
    "  max_length = len(max(words, key=len))\n",
    "  ret = torch.zeros((len(words), max_length, 26))\n",
    "  cp = 0\n",
    "  for word in words:\n",
    "    ret[cp, np.arange(len(word)), [ord(x)-97 for x in word]] = 1\n",
    "    cp += 1\n",
    "  return ret\n",
    "\n",
    "  "
   ]
  },
  {
   "cell_type": "code",
   "execution_count": 64,
   "metadata": {
    "colab": {
     "base_uri": "https://localhost:8080/",
     "height": 969
    },
    "colab_type": "code",
    "id": "KodJa7EI2K5e",
    "outputId": "1e8906a8-4abc-4fda-e9f1-57de4ddf3a5a"
   },
   "outputs": [
    {
     "name": "stdout",
     "output_type": "stream",
     "text": [
      "tensor([[[True, True, True, True, True, True, True, True, True, True, True,\n",
      "          True, True, True, True, True, True, True, True, True, True, True,\n",
      "          True, True, True, True],\n",
      "         [True, True, True, True, True, True, True, True, True, True, True,\n",
      "          True, True, True, True, True, True, True, True, True, True, True,\n",
      "          True, True, True, True],\n",
      "         [True, True, True, True, True, True, True, True, True, True, True,\n",
      "          True, True, True, True, True, True, True, True, True, True, True,\n",
      "          True, True, True, True],\n",
      "         [True, True, True, True, True, True, True, True, True, True, True,\n",
      "          True, True, True, True, True, True, True, True, True, True, True,\n",
      "          True, True, True, True],\n",
      "         [True, True, True, True, True, True, True, True, True, True, True,\n",
      "          True, True, True, True, True, True, True, True, True, True, True,\n",
      "          True, True, True, True],\n",
      "         [True, True, True, True, True, True, True, True, True, True, True,\n",
      "          True, True, True, True, True, True, True, True, True, True, True,\n",
      "          True, True, True, True]],\n",
      "\n",
      "        [[True, True, True, True, True, True, True, True, True, True, True,\n",
      "          True, True, True, True, True, True, True, True, True, True, True,\n",
      "          True, True, True, True],\n",
      "         [True, True, True, True, True, True, True, True, True, True, True,\n",
      "          True, True, True, True, True, True, True, True, True, True, True,\n",
      "          True, True, True, True],\n",
      "         [True, True, True, True, True, True, True, True, True, True, True,\n",
      "          True, True, True, True, True, True, True, True, True, True, True,\n",
      "          True, True, True, True],\n",
      "         [True, True, True, True, True, True, True, True, True, True, True,\n",
      "          True, True, True, True, True, True, True, True, True, True, True,\n",
      "          True, True, True, True],\n",
      "         [True, True, True, True, True, True, True, True, True, True, True,\n",
      "          True, True, True, True, True, True, True, True, True, True, True,\n",
      "          True, True, True, True],\n",
      "         [True, True, True, True, True, True, True, True, True, True, True,\n",
      "          True, True, True, True, True, True, True, True, True, True, True,\n",
      "          True, True, True, True]],\n",
      "\n",
      "        [[True, True, True, True, True, True, True, True, True, True, True,\n",
      "          True, True, True, True, True, True, True, True, True, True, True,\n",
      "          True, True, True, True],\n",
      "         [True, True, True, True, True, True, True, True, True, True, True,\n",
      "          True, True, True, True, True, True, True, True, True, True, True,\n",
      "          True, True, True, True],\n",
      "         [True, True, True, True, True, True, True, True, True, True, True,\n",
      "          True, True, True, True, True, True, True, True, True, True, True,\n",
      "          True, True, True, True],\n",
      "         [True, True, True, True, True, True, True, True, True, True, True,\n",
      "          True, True, True, True, True, True, True, True, True, True, True,\n",
      "          True, True, True, True],\n",
      "         [True, True, True, True, True, True, True, True, True, True, True,\n",
      "          True, True, True, True, True, True, True, True, True, True, True,\n",
      "          True, True, True, True],\n",
      "         [True, True, True, True, True, True, True, True, True, True, True,\n",
      "          True, True, True, True, True, True, True, True, True, True, True,\n",
      "          True, True, True, True]]])\n"
     ]
    }
   ],
   "source": [
    "#print(ord('a'))\n",
    "helo = \"hello\"\n",
    "my_input=\"abdrg python world\".split(\" \")\n",
    "\n",
    "print(encode(my_input)==encode2(my_input))\n",
    "\n",
    "#helo.ind()\n",
    "# [ord(x) for x in helo]\n",
    "#   print()\n",
    "#np.arange(len(helo))\n"
   ]
  },
  {
   "cell_type": "code",
   "execution_count": null,
   "metadata": {
    "ExecuteTime": {
     "end_time": "2019-11-07T09:24:17.905999Z",
     "start_time": "2019-11-07T09:24:17.897263Z"
    },
    "colab": {},
    "colab_type": "code",
    "id": "C9uBzm2T2zPK",
    "tags": [
     "validation"
    ]
   },
   "outputs": [],
   "source": [
    "PROBLEM_ID = 8\n",
    "\n",
    "if TEST:\n",
    "    total_grade += solutions.check(STUDENT, PROBLEM_ID, encode)"
   ]
  },
  {
   "cell_type": "markdown",
   "metadata": {
    "colab_type": "text",
    "id": "2rIrHLXl2zPM"
   },
   "source": [
    "# Your grade"
   ]
  },
  {
   "cell_type": "code",
   "execution_count": null,
   "metadata": {
    "ExecuteTime": {
     "end_time": "2019-10-30T22:39:26.661611Z",
     "start_time": "2019-10-30T22:39:26.654545Z"
    },
    "colab": {},
    "colab_type": "code",
    "id": "-i__9ojX2zPN"
   },
   "outputs": [],
   "source": [
    "if TEST:\n",
    "    print(f\"{STUDENT}: {int(100 * total_grade / MAX_POINTS)}\")"
   ]
  }
 ],
 "metadata": {
  "@webio": {
   "lastCommId": null,
   "lastKernelId": null
  },
  "colab": {
   "name": "[Py4DP] [Lecture-2] [Fix] Graded Assignment.ipynb",
   "provenance": []
  },
  "kernelspec": {
   "display_name": "Python 3 (ipykernel)",
   "language": "python",
   "name": "python3"
  },
  "language_info": {
   "codemirror_mode": {
    "name": "ipython",
    "version": 3
   },
   "file_extension": ".py",
   "mimetype": "text/x-python",
   "name": "python",
   "nbconvert_exporter": "python",
   "pygments_lexer": "ipython3",
   "version": "3.12.7"
  }
 },
 "nbformat": 4,
 "nbformat_minor": 4
}
