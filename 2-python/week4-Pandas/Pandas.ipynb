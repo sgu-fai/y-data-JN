{
 "cells": [
  {
   "cell_type": "markdown",
   "metadata": {},
   "source": [
    "# Notes\n",
    "\n",
    "This assignment is devoted to `pandas`. It covers indexing and filtering, and some `groupby` and `join` operations. The assignment roughly corresponds to Week 4 and the beginning of Week 5 of the course.\n",
    "\n",
    "The main dataset you'll be using is [Titanic](https://www.kaggle.com/c/titanic)."
   ]
  },
  {
   "cell_type": "code",
   "execution_count": 1,
   "metadata": {
    "ExecuteTime": {
     "end_time": "2019-11-24T21:11:20.549144Z",
     "start_time": "2019-11-24T21:11:19.972891Z"
    },
    "scrolled": true
   },
   "outputs": [
    {
     "name": "stdout",
     "output_type": "stream",
     "text": [
      "Populating the interactive namespace from numpy and matplotlib\n"
     ]
    }
   ],
   "source": [
    "%pylab inline\n",
    "plt.style.use(\"bmh\")"
   ]
  },
  {
   "cell_type": "code",
   "execution_count": 2,
   "metadata": {
    "ExecuteTime": {
     "end_time": "2019-11-24T21:11:20.558254Z",
     "start_time": "2019-11-24T21:11:20.552761Z"
    }
   },
   "outputs": [],
   "source": [
    "plt.rcParams[\"figure.figsize\"] = (6,6)"
   ]
  },
  {
   "cell_type": "code",
   "execution_count": 3,
   "metadata": {
    "ExecuteTime": {
     "end_time": "2019-11-24T21:11:26.993364Z",
     "start_time": "2019-11-24T21:11:26.589190Z"
    },
    "scrolled": true
   },
   "outputs": [],
   "source": [
    "import numpy as np\n",
    "import pandas as pd"
   ]
  },
  {
   "cell_type": "code",
   "execution_count": 4,
   "metadata": {
    "ExecuteTime": {
     "end_time": "2019-11-24T21:11:29.467115Z",
     "start_time": "2019-11-24T21:11:29.460525Z"
    }
   },
   "outputs": [],
   "source": [
    "STUDENT = \"Samuel Guedj\"\n",
    "ASSIGNMENT = 4\n",
    "TEST = False"
   ]
  },
  {
   "cell_type": "code",
   "execution_count": null,
   "metadata": {
    "ExecuteTime": {
     "end_time": "2019-11-24T21:11:30.712517Z",
     "start_time": "2019-11-24T21:11:30.708167Z"
    }
   },
   "outputs": [],
   "source": [
    "if TEST:\n",
    "    import solutions\n",
    "    total_grade = 0\n",
    "    MAX_POINTS = 16"
   ]
  },
  {
   "cell_type": "markdown",
   "metadata": {},
   "source": [
    "# Indexing and filtering"
   ]
  },
  {
   "cell_type": "markdown",
   "metadata": {},
   "source": [
    "### 1. Fixing age (1 point).\n",
    "\n",
    "There are several known mistakes in the Titanic dataset.\n",
    "\n",
    "Namely, [Julia Florence Siegel](https://www.encyclopedia-titanica.org/titanic-survivor/julia-florence-cavendish.html) (Mrs. Tyrell William Cavendish) is mistakenly marked as being 76 years old (the age she actually died, but many years after Titanic).\n",
    "\n",
    "You must replace age value for her with her actual age at the time (25) and return the dataset. Input is indexed with `PassengerId` and is a concatenation of train and test sets. You must return a copy of the dataframe, and not perform replacement in original dataframe. Structure and indexing must be the same as in input."
   ]
  },
  {
   "cell_type": "code",
   "execution_count": 499,
   "metadata": {},
   "outputs": [
    {
     "data": {
      "text/html": [
       "<div>\n",
       "<style scoped>\n",
       "    .dataframe tbody tr th:only-of-type {\n",
       "        vertical-align: middle;\n",
       "    }\n",
       "\n",
       "    .dataframe tbody tr th {\n",
       "        vertical-align: top;\n",
       "    }\n",
       "\n",
       "    .dataframe thead th {\n",
       "        text-align: right;\n",
       "    }\n",
       "</style>\n",
       "<table border=\"1\" class=\"dataframe\">\n",
       "  <thead>\n",
       "    <tr style=\"text-align: right;\">\n",
       "      <th></th>\n",
       "      <th>Survived</th>\n",
       "      <th>Pclass</th>\n",
       "      <th>Name</th>\n",
       "      <th>Sex</th>\n",
       "      <th>Age</th>\n",
       "      <th>SibSp</th>\n",
       "      <th>Parch</th>\n",
       "      <th>Ticket</th>\n",
       "      <th>Fare</th>\n",
       "      <th>Cabin</th>\n",
       "      <th>Embarked</th>\n",
       "    </tr>\n",
       "    <tr>\n",
       "      <th>PassengerId</th>\n",
       "      <th></th>\n",
       "      <th></th>\n",
       "      <th></th>\n",
       "      <th></th>\n",
       "      <th></th>\n",
       "      <th></th>\n",
       "      <th></th>\n",
       "      <th></th>\n",
       "      <th></th>\n",
       "      <th></th>\n",
       "      <th></th>\n",
       "    </tr>\n",
       "  </thead>\n",
       "  <tbody>\n",
       "    <tr>\n",
       "      <th>1</th>\n",
       "      <td>0.0</td>\n",
       "      <td>3</td>\n",
       "      <td>Braund, Mr. Owen Harris</td>\n",
       "      <td>male</td>\n",
       "      <td>22.0</td>\n",
       "      <td>1</td>\n",
       "      <td>0</td>\n",
       "      <td>A/5 21171</td>\n",
       "      <td>7.2500</td>\n",
       "      <td>NaN</td>\n",
       "      <td>S</td>\n",
       "    </tr>\n",
       "    <tr>\n",
       "      <th>2</th>\n",
       "      <td>1.0</td>\n",
       "      <td>1</td>\n",
       "      <td>Cumings, Mrs. John Bradley (Florence Briggs Th...</td>\n",
       "      <td>female</td>\n",
       "      <td>38.0</td>\n",
       "      <td>1</td>\n",
       "      <td>0</td>\n",
       "      <td>PC 17599</td>\n",
       "      <td>71.2833</td>\n",
       "      <td>C85</td>\n",
       "      <td>C</td>\n",
       "    </tr>\n",
       "    <tr>\n",
       "      <th>3</th>\n",
       "      <td>1.0</td>\n",
       "      <td>3</td>\n",
       "      <td>Heikkinen, Miss. Laina</td>\n",
       "      <td>female</td>\n",
       "      <td>26.0</td>\n",
       "      <td>0</td>\n",
       "      <td>0</td>\n",
       "      <td>STON/O2. 3101282</td>\n",
       "      <td>7.9250</td>\n",
       "      <td>NaN</td>\n",
       "      <td>S</td>\n",
       "    </tr>\n",
       "    <tr>\n",
       "      <th>4</th>\n",
       "      <td>1.0</td>\n",
       "      <td>1</td>\n",
       "      <td>Futrelle, Mrs. Jacques Heath (Lily May Peel)</td>\n",
       "      <td>female</td>\n",
       "      <td>35.0</td>\n",
       "      <td>1</td>\n",
       "      <td>0</td>\n",
       "      <td>113803</td>\n",
       "      <td>53.1000</td>\n",
       "      <td>C123</td>\n",
       "      <td>S</td>\n",
       "    </tr>\n",
       "    <tr>\n",
       "      <th>5</th>\n",
       "      <td>0.0</td>\n",
       "      <td>3</td>\n",
       "      <td>Allen, Mr. William Henry</td>\n",
       "      <td>male</td>\n",
       "      <td>35.0</td>\n",
       "      <td>0</td>\n",
       "      <td>0</td>\n",
       "      <td>373450</td>\n",
       "      <td>8.0500</td>\n",
       "      <td>NaN</td>\n",
       "      <td>S</td>\n",
       "    </tr>\n",
       "  </tbody>\n",
       "</table>\n",
       "</div>"
      ],
      "text/plain": [
       "             Survived  Pclass  \\\n",
       "PassengerId                     \n",
       "1                 0.0       3   \n",
       "2                 1.0       1   \n",
       "3                 1.0       3   \n",
       "4                 1.0       1   \n",
       "5                 0.0       3   \n",
       "\n",
       "                                                          Name     Sex   Age  \\\n",
       "PassengerId                                                                    \n",
       "1                                      Braund, Mr. Owen Harris    male  22.0   \n",
       "2            Cumings, Mrs. John Bradley (Florence Briggs Th...  female  38.0   \n",
       "3                                       Heikkinen, Miss. Laina  female  26.0   \n",
       "4                 Futrelle, Mrs. Jacques Heath (Lily May Peel)  female  35.0   \n",
       "5                                     Allen, Mr. William Henry    male  35.0   \n",
       "\n",
       "             SibSp  Parch            Ticket     Fare Cabin Embarked  \n",
       "PassengerId                                                          \n",
       "1                1      0         A/5 21171   7.2500   NaN        S  \n",
       "2                1      0          PC 17599  71.2833   C85        C  \n",
       "3                0      0  STON/O2. 3101282   7.9250   NaN        S  \n",
       "4                1      0            113803  53.1000  C123        S  \n",
       "5                0      0            373450   8.0500   NaN        S  "
      ]
     },
     "execution_count": 499,
     "metadata": {},
     "output_type": "execute_result"
    }
   ],
   "source": [
    "\n",
    "tr = pd.read_csv(\"data/train.csv\", index_col=\"PassengerId\")\n",
    "tt = pd.read_csv(\"data/test.csv\", index_col=\"PassengerId\")\n",
    "df = pd.concat([tr, tt], sort=False)\n",
    "df.head()\n",
    "# df.append(tr)\n",
    "# df.append(tt)\n",
    "\n",
    "# print(tr.shape)\n",
    "# print(tt.shape)\n",
    "# print(df.shape)\n",
    "\n",
    "#df.head()\n",
    "#test.loc[test['Name'].str.contains(\"Julia Florence Siegel\"),'Age'] = 25\n",
    "#print(test[test['Name'].str.contains(\"Julia Florence Siegel\")]['Age'])\n",
    "#print(new[new['Name'].str.contains(\"Julia Florence Siegel\")]['Age'])\n",
    "#print(df[df['PassengerId']==98])\n",
    "#print(df.shape)\n",
    "#print(df['Name'])"
   ]
  },
  {
   "cell_type": "code",
   "execution_count": null,
   "metadata": {},
   "outputs": [],
   "source": []
  },
  {
   "cell_type": "code",
   "execution_count": 55,
   "metadata": {},
   "outputs": [],
   "source": [
    "def fix_age(df):\n",
    "    \"\"\"Fix age for Julia Florence Siegel.\"\"\"\n",
    "    ret = df.copy()\n",
    "    ret.loc[ret['Name'].str.contains(\"Julia Florence Siegel\"),'Age'] = 25\n",
    "    return ret\n",
    "\n",
    "new = fix_age(test)"
   ]
  },
  {
   "cell_type": "code",
   "execution_count": null,
   "metadata": {},
   "outputs": [],
   "source": [
    "PROBLEM_ID = 1\n",
    "\n",
    "if TEST:\n",
    "    total_grade += solutions.check(STUDENT, PROBLEM_ID, fix_age)"
   ]
  },
  {
   "cell_type": "markdown",
   "metadata": {},
   "source": [
    "### 2. Embarkment port distribution (1 point).\n",
    "\n",
    "You must find the value counts for embarkment port (`Embarked` column) for the passengers, who travelled in 3-d class, were male and between 20 and 30 years old (both inclusive). No need to treat missing values separately.\n",
    "\n",
    "Input is indexed with `PassengerId` and is a concatenation of train and test sets. You must return series, indexed with values from `Embarked`, according to `.value_counts()` method semantics."
   ]
  },
  {
   "cell_type": "code",
   "execution_count": 133,
   "metadata": {},
   "outputs": [
    {
     "name": "stdout",
     "output_type": "stream",
     "text": [
      "S    93\n",
      "C    14\n",
      "Q     3\n",
      "Name: Embarked, dtype: int64\n"
     ]
    }
   ],
   "source": [
    "#df.head()\n",
    "#b = df[(df['Age']>=20) & (df['Age']<=30) & (df['Pclass']==3) & (df['Sex']=='male')].groupby(\"Embarked\").size()#value_counts()\n",
    "a = df[(df['Age']>=20) & (df['Age']<=30) & (df['Pclass']==3) & (df['Sex']=='male')]['Embarked']\n",
    "s = pd.Series(a.value_counts())\n",
    "#print(a)\n",
    "print(s)\n",
    "#a = pd.Series(df[(df['Age']>=20) & (df['Age']<=30) & (df['Pclass']==3) & (df['Sex']=='male')].groupby(\"Embarked\").size())\n",
    "#print(a)    \n",
    "#df[(df>7) | (df<5)]\n",
    "#s_int_idx[(s_int_idx>7) | (s_int_idx<5)]\n",
    "#df[df[('Age'>=20) & ('Age'<=30)]]"
   ]
  },
  {
   "cell_type": "code",
   "execution_count": 272,
   "metadata": {
    "ExecuteTime": {
     "end_time": "2019-11-13T23:15:11.348224Z",
     "start_time": "2019-11-13T23:15:11.334569Z"
    }
   },
   "outputs": [
    {
     "data": {
      "text/plain": [
       "S    132\n",
       "C     21\n",
       "Q      7\n",
       "Name: Embarked, dtype: int64"
      ]
     },
     "execution_count": 272,
     "metadata": {},
     "output_type": "execute_result"
    }
   ],
   "source": [
    "def embarked_stats(df):\n",
    "    \"\"\"Calculate embarkment port statistics.\"\"\"\n",
    "    a = df[(df['Age']>=20) & (df['Age']<=30) & (df['Pclass']==3) & (df['Sex']=='male')]['Embarked']\n",
    "    s = pd.Series(a.value_counts())\n",
    "    return s\n",
    "\n",
    "embarked_stats(df)"
   ]
  },
  {
   "cell_type": "code",
   "execution_count": null,
   "metadata": {
    "ExecuteTime": {
     "end_time": "2019-11-13T23:25:50.106449Z",
     "start_time": "2019-11-13T23:25:50.095086Z"
    }
   },
   "outputs": [],
   "source": [
    "PROBLEM_ID = 2\n",
    "\n",
    "if TEST:\n",
    "    total_grade += solutions.check(STUDENT, PROBLEM_ID, embarked_stats)"
   ]
  },
  {
   "cell_type": "markdown",
   "metadata": {},
   "source": [
    "### 3. Fill missing age values (1 point).\n",
    "\n",
    "Some age values are missing in the Titanic dataset. You need to calculate average age, and fill missing age values in `Age` column.\n",
    "\n",
    "Input is indexed with `PassengerId` and is a concatenation of train and test sets. Output must be a **new** dataframe with the same structure, but without missing values in `Age` column."
   ]
  },
  {
   "cell_type": "code",
   "execution_count": 179,
   "metadata": {
    "ExecuteTime": {
     "end_time": "2019-11-25T08:26:56.688466Z",
     "start_time": "2019-11-25T08:26:56.684610Z"
    }
   },
   "outputs": [
    {
     "name": "stdout",
     "output_type": "stream",
     "text": [
      "     PassengerId  Survived  Pclass                                      Name  \\\n",
      "5              6         0       3                          Moran, Mr. James   \n",
      "17            18         1       2              Williams, Mr. Charles Eugene   \n",
      "19            20         1       3                   Masselmani, Mrs. Fatima   \n",
      "26            27         0       3                   Emir, Mr. Farred Chehab   \n",
      "28            29         1       3             O'Dwyer, Miss. Ellen \"Nellie\"   \n",
      "..           ...       ...     ...                                       ...   \n",
      "859          860         0       3                          Razi, Mr. Raihed   \n",
      "863          864         0       3         Sage, Miss. Dorothy Edith \"Dolly\"   \n",
      "868          869         0       3               van Melkebeke, Mr. Philemon   \n",
      "878          879         0       3                        Laleff, Mr. Kristo   \n",
      "888          889         0       3  Johnston, Miss. Catherine Helen \"Carrie\"   \n",
      "\n",
      "        Sex        Age  SibSp  Parch      Ticket     Fare Cabin Embarked  \n",
      "5      male  29.699118      0      0      330877   8.4583   NaN        Q  \n",
      "17     male  29.699118      0      0      244373  13.0000   NaN        S  \n",
      "19   female  29.699118      0      0        2649   7.2250   NaN        C  \n",
      "26     male  29.699118      0      0        2631   7.2250   NaN        C  \n",
      "28   female  29.699118      0      0      330959   7.8792   NaN        Q  \n",
      "..      ...        ...    ...    ...         ...      ...   ...      ...  \n",
      "859    male  29.699118      0      0        2629   7.2292   NaN        C  \n",
      "863  female  29.699118      8      2    CA. 2343  69.5500   NaN        S  \n",
      "868    male  29.699118      0      0      345777   9.5000   NaN        S  \n",
      "878    male  29.699118      0      0      349217   7.8958   NaN        S  \n",
      "888  female  29.699118      1      2  W./C. 6607  23.4500   NaN        S  \n",
      "\n",
      "[177 rows x 12 columns]\n"
     ]
    }
   ],
   "source": [
    "def fix_age(df):\n",
    "    \"\"\"Fix missing age values.\"\"\"\n",
    "    a = df.copy()\n",
    "    mean = a['Age'].mean()\n",
    "    a.loc[a['Age'].isna(),'Age'] = mean\n",
    "    return a\n",
    "    \n",
    "a = fix_age(df)\n",
    "\n",
    "#print(type(df))\n",
    "#print(df[df['Age']==29])\n",
    "print(a[a['Age']==29.69911764705882])\n",
    "# print(df['Age'].mean())\n",
    "# print(df['Age'].mean(skipna=False))\n",
    "# print(df['Age'].mean(skipna=True, numeric_only=True))\n",
    "#df['Age'].isna()"
   ]
  },
  {
   "cell_type": "code",
   "execution_count": null,
   "metadata": {
    "ExecuteTime": {
     "end_time": "2019-11-25T10:03:45.213116Z",
     "start_time": "2019-11-25T10:03:45.199909Z"
    }
   },
   "outputs": [],
   "source": [
    "PROBLEM_ID = 3\n",
    "\n",
    "if TEST:\n",
    "    total_grade += solutions.check(STUDENT, PROBLEM_ID, fix_age)"
   ]
  },
  {
   "cell_type": "markdown",
   "metadata": {},
   "source": [
    "### 4. Child travelling alone (1 point).\n",
    "\n",
    "You must find a child (`Age<10`) on-board, who was travelling without siblings or parents and find a name of her nursemaid.\n",
    "\n",
    "Input is indexed with `PassengerId` and is a concatenation of train and test sets. Output must be a tuple of two strings, collected from `Name` column, with one being child's name and second being nursemaid's name. It's known, that there's only one child like this."
   ]
  },
  {
   "cell_type": "code",
   "execution_count": 392,
   "metadata": {
    "ExecuteTime": {
     "end_time": "2019-11-13T23:15:11.348224Z",
     "start_time": "2019-11-13T23:15:11.334569Z"
    }
   },
   "outputs": [
    {
     "name": "stdout",
     "output_type": "stream",
     "text": [
      "Emanuel, Miss. Virginia Ethel\n",
      "Dowdell, Miss. Elizabeth\n"
     ]
    }
   ],
   "source": [
    "\n",
    "def get_nursemaid(df):\n",
    "    child = df.loc[(df['Age']<10) & (df['Parch']==0) & (df['SibSp']==0),'Name']\n",
    "    ticket = df.loc[(df['Age']<10) & (df['Parch']==0) & (df['SibSp']==0),'Ticket']\n",
    "    nurse = df.loc[(df['Ticket']==ticket.values[0]) & (df['Age']>10),'Name']\n",
    "    return (child.values[0], nurse.values[0])\n",
    " \n",
    "# one, two = get_nursemaid(df)\n",
    "# print(one)\n",
    "# print(two)\n",
    "# one, two = get_nursemaid2(df)\n",
    "# print(one)\n",
    "# print(two)\n",
    "\n",
    "\n",
    "#df[(df['Age']<10) ]\n"
   ]
  },
  {
   "cell_type": "code",
   "execution_count": null,
   "metadata": {
    "ExecuteTime": {
     "end_time": "2019-11-13T23:25:50.106449Z",
     "start_time": "2019-11-13T23:25:50.095086Z"
    }
   },
   "outputs": [],
   "source": [
    "PROBLEM_ID = 4\n",
    "\n",
    "if TEST:\n",
    "    total_grade += solutions.check(STUDENT, PROBLEM_ID, get_nursemaid)"
   ]
  },
  {
   "cell_type": "markdown",
   "metadata": {},
   "source": [
    "### 5. Port with the most children embarked (1 point).\n",
    "\n",
    "You must find, which port had the largest percentage of children (`Age<10`) embarked, i.e. number of children divided by total number of passengers embarked.\n",
    "\n",
    "Input is indexed with `PassengerId` and is a concatenation of train and test sets. Output must be a single string with port letter."
   ]
  },
  {
   "cell_type": "code",
   "execution_count": 394,
   "metadata": {
    "ExecuteTime": {
     "end_time": "2019-11-25T08:26:56.688466Z",
     "start_time": "2019-11-25T08:26:56.684610Z"
    }
   },
   "outputs": [
    {
     "name": "stdout",
     "output_type": "stream",
     "text": [
      "S    0.070022\n",
      "C    0.051852\n",
      "Q    0.032520\n",
      "Name: Embarked, dtype: float64\n",
      "S\n"
     ]
    }
   ],
   "source": [
    "def get_port(df):\n",
    "    \"\"\"Get port with the most children embarked.\"\"\"\n",
    "    ret = df.loc[df['Age']<10, 'Embarked'].value_counts() / df['Embarked'].value_counts()\n",
    "#     print(ret)\n",
    "    return ret.idxmax(axis=0)\n",
    "\n",
    "#print(get_port(df))\n",
    "\n",
    "# print(df.loc[df['Age']<10, 'Embarked'].value_counts())\n",
    "# print(df['Embarked'].value_counts())\n",
    "\n",
    "# print(ret)\n"
   ]
  },
  {
   "cell_type": "code",
   "execution_count": null,
   "metadata": {
    "ExecuteTime": {
     "end_time": "2019-11-25T08:27:11.838257Z",
     "start_time": "2019-11-25T08:27:11.720830Z"
    }
   },
   "outputs": [],
   "source": [
    "PROBLEM_ID = 5\n",
    "\n",
    "if TEST:\n",
    "    total_grade += solutions.check(STUDENT, PROBLEM_ID, get_port)"
   ]
  },
  {
   "cell_type": "markdown",
   "metadata": {},
   "source": [
    "### 6. Passengers per ticket (2 points).\n",
    "\n",
    "Calculate average and maximum number of passengers per ticket.\n",
    "\n",
    "Input is indexed with `PassengerId` and is a concatenation of train and test sets. Output must be a tuple of two values."
   ]
  },
  {
   "cell_type": "code",
   "execution_count": 321,
   "metadata": {
    "ExecuteTime": {
     "end_time": "2019-11-25T08:26:56.688466Z",
     "start_time": "2019-11-25T08:26:56.684610Z"
    }
   },
   "outputs": [
    {
     "name": "stdout",
     "output_type": "stream",
     "text": [
      "(1.4090419806243273, 11)\n"
     ]
    }
   ],
   "source": [
    "def get_ticket_stats(df):\n",
    "    \"\"\"Calculate passenger per ticket statistics.\"\"\"\n",
    "    ticket=df.groupby(['Ticket']).count()\n",
    "    return (ticket.PassengerId.mean(), ticket.PassengerId.max())\n",
    "#df.head()\n",
    "#\n",
    "#df.loc[(df['Ticket']==ticket.values[0])\n",
    "# df.loc[(df['Ticket']=='110152')]\n",
    "#df.groupby(['Ticket']).count()#.mean()\n",
    "# a=df.groupby(['Ticket']).count()\n",
    "# print()\n",
    "# print()\n",
    "#a[a.PassengerId != a.Name]\n",
    "#print(mean)\n",
    "print(get_ticket_stats(df))"
   ]
  },
  {
   "cell_type": "code",
   "execution_count": null,
   "metadata": {
    "ExecuteTime": {
     "end_time": "2019-11-25T08:27:11.838257Z",
     "start_time": "2019-11-25T08:27:11.720830Z"
    }
   },
   "outputs": [],
   "source": [
    "PROBLEM_ID = 6\n",
    "\n",
    "if TEST:\n",
    "    total_grade += solutions.check(STUDENT, PROBLEM_ID, get_ticket_stats)"
   ]
  },
  {
   "cell_type": "markdown",
   "metadata": {},
   "source": [
    "### 7. Fare per passenger (3 points).\n",
    "\n",
    "For each individual ticket, you must calculate fare per person for that ticket, and then calculate averages for each class. Note, that you will need to apply `groupby` and then you may consider using `.first()` of resulting `DataFrameGroupBy`.\n",
    "\n",
    "Input is indexed with `PassengerId` and is a concatenation of train and test sets. Output must be `Series` with three elements, indexed by class."
   ]
  },
  {
   "cell_type": "code",
   "execution_count": 330,
   "metadata": {
    "ExecuteTime": {
     "end_time": "2019-11-25T08:26:56.688466Z",
     "start_time": "2019-11-25T08:26:56.684610Z"
    }
   },
   "outputs": [
    {
     "data": {
      "text/html": [
       "<div>\n",
       "<style scoped>\n",
       "    .dataframe tbody tr th:only-of-type {\n",
       "        vertical-align: middle;\n",
       "    }\n",
       "\n",
       "    .dataframe tbody tr th {\n",
       "        vertical-align: top;\n",
       "    }\n",
       "\n",
       "    .dataframe thead th {\n",
       "        text-align: right;\n",
       "    }\n",
       "</style>\n",
       "<table border=\"1\" class=\"dataframe\">\n",
       "  <thead>\n",
       "    <tr style=\"text-align: right;\">\n",
       "      <th></th>\n",
       "      <th>Age</th>\n",
       "      <th>Cabin</th>\n",
       "      <th>Embarked</th>\n",
       "      <th>Fare</th>\n",
       "      <th>Name</th>\n",
       "      <th>Parch</th>\n",
       "      <th>PassengerId</th>\n",
       "      <th>Pclass</th>\n",
       "      <th>Sex</th>\n",
       "      <th>SibSp</th>\n",
       "      <th>Survived</th>\n",
       "      <th>Ticket</th>\n",
       "    </tr>\n",
       "  </thead>\n",
       "  <tbody>\n",
       "    <tr>\n",
       "      <th>138</th>\n",
       "      <td>16.0</td>\n",
       "      <td>NaN</td>\n",
       "      <td>S</td>\n",
       "      <td>9.2167</td>\n",
       "      <td>Osen, Mr. Olaf Elon</td>\n",
       "      <td>0</td>\n",
       "      <td>139</td>\n",
       "      <td>3</td>\n",
       "      <td>male</td>\n",
       "      <td>0</td>\n",
       "      <td>0.0</td>\n",
       "      <td>7534</td>\n",
       "    </tr>\n",
       "    <tr>\n",
       "      <th>876</th>\n",
       "      <td>20.0</td>\n",
       "      <td>NaN</td>\n",
       "      <td>S</td>\n",
       "      <td>9.8458</td>\n",
       "      <td>Gustafsson, Mr. Alfred Ossian</td>\n",
       "      <td>0</td>\n",
       "      <td>877</td>\n",
       "      <td>3</td>\n",
       "      <td>male</td>\n",
       "      <td>0</td>\n",
       "      <td>0.0</td>\n",
       "      <td>7534</td>\n",
       "    </tr>\n",
       "  </tbody>\n",
       "</table>\n",
       "</div>"
      ],
      "text/plain": [
       "      Age Cabin Embarked    Fare                           Name  Parch  \\\n",
       "138  16.0   NaN        S  9.2167            Osen, Mr. Olaf Elon      0   \n",
       "876  20.0   NaN        S  9.8458  Gustafsson, Mr. Alfred Ossian      0   \n",
       "\n",
       "     PassengerId  Pclass   Sex  SibSp  Survived Ticket  \n",
       "138          139       3  male      0       0.0   7534  \n",
       "876          877       3  male      0       0.0   7534  "
      ]
     },
     "execution_count": 330,
     "metadata": {},
     "output_type": "execute_result"
    }
   ],
   "source": [
    "def get_fare_per_pass(df):\n",
    "    \"\"\"Calculate fare per passenger for different classes.\"\"\"\n",
    "    return df.groupby(\"Ticket\").first().groupby(\"Pclass\")['Fare'].mean()\n",
    "           \n",
    "#df.head()\n",
    "#df[df['Ticket']=='7534']\n"
   ]
  },
  {
   "cell_type": "code",
   "execution_count": null,
   "metadata": {
    "ExecuteTime": {
     "end_time": "2019-11-25T08:27:11.838257Z",
     "start_time": "2019-11-25T08:27:11.720830Z"
    }
   },
   "outputs": [],
   "source": [
    "PROBLEM_ID = 7\n",
    "\n",
    "if TEST:\n",
    "    total_grade += solutions.check(STUDENT, PROBLEM_ID, get_fare_per_pass)"
   ]
  },
  {
   "cell_type": "markdown",
   "metadata": {},
   "source": [
    "### 8. Fill missing age values (3 points).\n",
    "\n",
    "In problem 3 you filled missing age values with average for all passengers. Now, you need to fill them according to class and sex. For example, for a female passenger from 2d class, missing age value must be filled with average age of females in 2d class.\n",
    "\n",
    "In this problem, you may need joins and `.apply()`, although there are several ways to get the same result.\n",
    "\n",
    "Input is indexed with `PassengerId` and is a concatenation of train and test sets. Output must be a **new** dataframe with the same structure as input, but without missing values in `Age` column."
   ]
  },
  {
   "cell_type": "code",
   "execution_count": 410,
   "metadata": {
    "ExecuteTime": {
     "end_time": "2019-11-25T08:26:56.688466Z",
     "start_time": "2019-11-25T08:26:56.684610Z"
    }
   },
   "outputs": [],
   "source": [
    "\n",
    "def fix_age_groupped(df):\n",
    "    \"\"\"Fill missing age values.\"\"\"\n",
    "    new_df = df.copy()\n",
    "    new_df.groupby(['Pclass', 'Sex'])['Age'].transform(\n",
    "        lambda gp: gp.fillna(gp.mean())\n",
    "    )\n",
    "    return new_df\n",
    "\n",
    "#x = fix_age_groupped(df)\n",
    "#print(x)\n",
    "#ret = df.copy()\n",
    "#ret.loc[ret['Name'].str.contains(\"Julia Florence Siegel\"),'Age'] = 25\n",
    "\n",
    "# a = df.copy()\n",
    "# mean = a['Age'].mean()\n",
    "# a.loc[a['Age'].isna(),'Age'] = mean\n",
    "\n",
    "#df['Age'].groupby(['Sex']).mean()\n",
    "#df.head()\n",
    "#df.dtypes\n",
    "#a = df.groupby(['Pclass','Sex'])\n",
    "#a.mean()\n",
    "#a[['Pclass']]\n",
    "#print(a.loc[(a['Pclass']==1)])\n",
    "#(df['Pclass']==3)\n",
    "#df[(df['Pclass']==3)]\n",
    "#a[(a['Pclass']==3)]\n",
    "#print(type(a))\n",
    "#type(df)"
   ]
  },
  {
   "cell_type": "code",
   "execution_count": null,
   "metadata": {
    "ExecuteTime": {
     "end_time": "2019-11-25T08:27:11.838257Z",
     "start_time": "2019-11-25T08:27:11.720830Z"
    }
   },
   "outputs": [],
   "source": [
    "PROBLEM_ID = 8\n",
    "\n",
    "if TEST:\n",
    "    total_grade += solutions.check(STUDENT, PROBLEM_ID, fix_age_groupped)"
   ]
  },
  {
   "cell_type": "markdown",
   "metadata": {},
   "source": [
    "### 9. Finding couples (3 points).\n",
    "\n",
    "Based on the code from Lecture 5, build a dataframe of couples. Filter it by survival status: select those couples, in which only one of spouses survived or none of two. Built survival statistics by class, i.e. ratio of couples with partial survival divided by total number of couples in class.\n",
    "\n",
    "Input is indexed with `PassengerId` and is a concatenation of train and test sets. Output must be `Series` with three elements indexed by values from `Pclass` column."
   ]
  },
  {
   "cell_type": "code",
   "execution_count": 548,
   "metadata": {
    "ExecuteTime": {
     "end_time": "2019-11-25T08:26:56.688466Z",
     "start_time": "2019-11-25T08:26:56.684610Z"
    }
   },
   "outputs": [
    {
     "name": "stdout",
     "output_type": "stream",
     "text": [
      "Pclass\n",
      "1    0.470588\n",
      "2    0.909091\n",
      "3    1.000000\n",
      "Name: Survival_Percentage, dtype: float64\n"
     ]
    }
   ],
   "source": [
    "def find_couples(df):\n",
    "    \"\"\"Fill missing age values.\"\"\"\n",
    "    family_names = (df\n",
    "                .replace(re.compile(r'\\s+\\(.*\\)'), '')\n",
    "                .replace(re.compile(\"Mrs.\"), \"Mr.\"))[[\"Name\", \"Sex\"]]\n",
    "    family_names = family_names[(family_names.Sex==\"female\") & family_names.Name.str.contains(\"Mr.\")]\n",
    "    #family_names.reset_index().set_index(\"Name\")#[\"PassengerId\"]\n",
    "    d0 = (df.join(family_names\n",
    "                            .reset_index()\n",
    "                            .set_index(\"Name\")[\"PassengerId\"],\n",
    "                            on=\"Name\", rsuffix=\"_Spouse\"))\n",
    "    d0.rename({\"PassengerId\":\"PassengerId_Spouse\"}, axis=1, inplace=True)\n",
    "    d0 = d0.join(d0[[\"Name\", \"Age\",\"Survived\"]],\n",
    "                           on=\"PassengerId_Spouse\", rsuffix=\"_Spouse\")\n",
    "    d0 = d0[d0.PassengerId_Spouse.notnull()][[\"Pclass\", \"Name\", \"Age\", \"Name_Spouse\", \"Age_Spouse\",\"Survived\",\"Survived_Spouse\"]]\n",
    "    d0['Survival_Percentage'] = (d0[\"Survived\"] + d0['Survived_Spouse'])/2\n",
    "    partial_survival_by_couples = d0.query(\"Survival_Percentage < 1\").groupby(\"Pclass\").count()['Survival_Percentage'] / d0.groupby(\"Pclass\").count()['Survival_Percentage']\n",
    "    return partial_survival_by_couples\n",
    "\n",
    "\n",
    "#print(find_couples2(df))\n",
    "a = find_couples(df)\n",
    "#a.query(\"Survival_Percentage < 1\").groupby(\"Pclass\")['Survival_Percentage'].count()\n",
    "\n",
    "# a.reset_index().set_index(\"Name\")\n",
    "print(a)\n",
    "\n",
    "#df.head()\n",
    "#df\n",
    "#df['Name'].str.extractall('(.*Mr. Owen Harris.*)')\n",
    "#df['Name'].str.extractall(r'(\\s+\\(.*\\))')"
   ]
  },
  {
   "cell_type": "code",
   "execution_count": null,
   "metadata": {
    "ExecuteTime": {
     "end_time": "2019-11-25T08:27:11.838257Z",
     "start_time": "2019-11-25T08:27:11.720830Z"
    }
   },
   "outputs": [],
   "source": [
    "PROBLEM_ID = 8\n",
    "\n",
    "if TEST:\n",
    "    total_grade += solutions.check(STUDENT, PROBLEM_ID, find_couples)"
   ]
  }
 ],
 "metadata": {
  "@webio": {
   "lastCommId": null,
   "lastKernelId": null
  },
  "kernelspec": {
   "display_name": "Python 3",
   "language": "python",
   "name": "python3"
  },
  "language_info": {
   "codemirror_mode": {
    "name": "ipython",
    "version": 3
   },
   "file_extension": ".py",
   "mimetype": "text/x-python",
   "name": "python",
   "nbconvert_exporter": "python",
   "pygments_lexer": "ipython3",
   "version": "3.7.0b4"
  }
 },
 "nbformat": 4,
 "nbformat_minor": 2
}
