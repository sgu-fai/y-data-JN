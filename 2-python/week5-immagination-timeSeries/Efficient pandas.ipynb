{
 "cells": [
  {
   "cell_type": "markdown",
   "metadata": {},
   "source": [
    "# Efficient `pandas`"
   ]
  },
  {
   "cell_type": "code",
   "execution_count": null,
   "metadata": {
    "ExecuteTime": {
     "end_time": "2019-11-26T10:02:23.781572Z",
     "start_time": "2019-11-26T10:02:23.204760Z"
    }
   },
   "outputs": [],
   "source": [
    "%pylab inline\n",
    "plt.style.use(\"bmh\")"
   ]
  },
  {
   "cell_type": "code",
   "execution_count": null,
   "metadata": {
    "ExecuteTime": {
     "end_time": "2019-11-26T10:02:24.035937Z",
     "start_time": "2019-11-26T10:02:23.785272Z"
    }
   },
   "outputs": [],
   "source": [
    "import numpy as np\n",
    "import pandas as pd"
   ]
  },
  {
   "cell_type": "code",
   "execution_count": null,
   "metadata": {
    "ExecuteTime": {
     "end_time": "2019-11-26T10:02:24.045025Z",
     "start_time": "2019-11-26T10:02:24.040633Z"
    }
   },
   "outputs": [],
   "source": [
    "import string"
   ]
  },
  {
   "cell_type": "markdown",
   "metadata": {},
   "source": [
    "# Data"
   ]
  },
  {
   "cell_type": "code",
   "execution_count": null,
   "metadata": {
    "ExecuteTime": {
     "end_time": "2019-11-26T08:41:30.419907Z",
     "start_time": "2019-11-26T08:41:30.411782Z"
    }
   },
   "outputs": [],
   "source": [
    "df = pd.DataFrame(np.arange(2000).reshape((1000,2)),\n",
    "                  columns=['a', 'b'],\n",
    "                  index=np.random.choice(list(string.ascii_lowercase), 1000, replace=True))"
   ]
  },
  {
   "cell_type": "code",
   "execution_count": null,
   "metadata": {
    "ExecuteTime": {
     "end_time": "2019-11-26T08:41:30.993308Z",
     "start_time": "2019-11-26T08:41:30.971104Z"
    }
   },
   "outputs": [],
   "source": [
    "df.head()"
   ]
  },
  {
   "cell_type": "markdown",
   "metadata": {},
   "source": [
    "# Loops"
   ]
  },
  {
   "cell_type": "markdown",
   "metadata": {},
   "source": [
    "## Naive"
   ]
  },
  {
   "cell_type": "code",
   "execution_count": null,
   "metadata": {
    "ExecuteTime": {
     "end_time": "2019-11-26T08:41:34.854754Z",
     "start_time": "2019-11-26T08:41:34.845951Z"
    }
   },
   "outputs": [],
   "source": [
    "def iterate_df(df):\n",
    "    \"\"\"Iterate over df in Python loop.\"\"\"\n",
    "\n",
    "    result = []\n",
    "    \n",
    "    for i in range(df.shape[0]):\n",
    "        row = df.iloc[i]\n",
    "        result.append(row['a']/row['b'])\n",
    "    return pd.Series(result, name=\"div_result\", index=df.index)"
   ]
  },
  {
   "cell_type": "code",
   "execution_count": null,
   "metadata": {
    "ExecuteTime": {
     "end_time": "2019-11-26T08:41:46.230424Z",
     "start_time": "2019-11-26T08:41:35.976994Z"
    }
   },
   "outputs": [],
   "source": [
    "%timeit -n 10 -r 5 iterate_df(df)"
   ]
  },
  {
   "cell_type": "markdown",
   "metadata": {},
   "source": [
    "## Using `iterrows`"
   ]
  },
  {
   "cell_type": "code",
   "execution_count": null,
   "metadata": {
    "ExecuteTime": {
     "end_time": "2019-11-26T08:41:47.505002Z",
     "start_time": "2019-11-26T08:41:47.497991Z"
    }
   },
   "outputs": [],
   "source": [
    "def iterate_df_rows(df):\n",
    "    \"\"\"Iterate over df in Python loop.\"\"\"\n",
    "\n",
    "    result = []\n",
    "    \n",
    "    for ri, row in df.iterrows():\n",
    "        result.append(row['a']/row['b'])\n",
    "    return pd.Series(result, name=\"AgeGroup\", index=df.index)"
   ]
  },
  {
   "cell_type": "code",
   "execution_count": null,
   "metadata": {
    "ExecuteTime": {
     "end_time": "2019-11-26T08:42:01.722068Z",
     "start_time": "2019-11-26T08:41:47.930304Z"
    }
   },
   "outputs": [],
   "source": [
    "%timeit -n 20 -r 5 iterate_df_rows(df)"
   ]
  },
  {
   "cell_type": "markdown",
   "metadata": {},
   "source": [
    "## Using `apply`"
   ]
  },
  {
   "cell_type": "code",
   "execution_count": null,
   "metadata": {
    "ExecuteTime": {
     "end_time": "2019-11-26T08:42:05.426523Z",
     "start_time": "2019-11-26T08:42:01.936752Z"
    }
   },
   "outputs": [],
   "source": [
    "%timeit -n 20 -r 5 df.apply(lambda x: x['a']/x['b'], axis=1)"
   ]
  },
  {
   "cell_type": "markdown",
   "metadata": {},
   "source": [
    "## Using vectorization"
   ]
  },
  {
   "cell_type": "code",
   "execution_count": null,
   "metadata": {
    "ExecuteTime": {
     "end_time": "2019-11-26T08:42:06.402583Z",
     "start_time": "2019-11-26T08:42:06.361267Z"
    }
   },
   "outputs": [],
   "source": [
    "%timeit -n 20 -r 5 df['a']/df['b']"
   ]
  },
  {
   "cell_type": "markdown",
   "metadata": {},
   "source": [
    "# Memory"
   ]
  },
  {
   "cell_type": "code",
   "execution_count": null,
   "metadata": {
    "ExecuteTime": {
     "end_time": "2019-11-26T08:42:12.494359Z",
     "start_time": "2019-11-26T08:42:12.423712Z"
    }
   },
   "outputs": [],
   "source": [
    "titanic_train = pd.read_csv(\"../W3/data/train.csv\", index_col=\"PassengerId\")\n",
    "titanic_test = pd.read_csv(\"../W3/data/test.csv\", index_col=\"PassengerId\")\n",
    "titanic = pd.concat([titanic_train, titanic_test], sort=False)\n",
    "\n",
    "titanic.head(5)"
   ]
  },
  {
   "cell_type": "code",
   "execution_count": null,
   "metadata": {
    "ExecuteTime": {
     "end_time": "2019-11-26T08:42:16.756765Z",
     "start_time": "2019-11-26T08:42:16.746751Z"
    }
   },
   "outputs": [],
   "source": [
    "titanic.dtypes"
   ]
  },
  {
   "cell_type": "code",
   "execution_count": null,
   "metadata": {
    "ExecuteTime": {
     "end_time": "2019-11-26T08:42:20.444612Z",
     "start_time": "2019-11-26T08:42:20.414900Z"
    }
   },
   "outputs": [],
   "source": [
    "titanic.info(memory_usage=\"deep\")"
   ]
  },
  {
   "cell_type": "code",
   "execution_count": null,
   "metadata": {
    "ExecuteTime": {
     "end_time": "2019-11-26T08:42:22.650591Z",
     "start_time": "2019-11-26T08:42:22.640814Z"
    }
   },
   "outputs": [],
   "source": [
    "titanic[\"Pclass\"] = pd.to_numeric(titanic[\"Pclass\"], downcast=\"unsigned\")"
   ]
  },
  {
   "cell_type": "code",
   "execution_count": null,
   "metadata": {
    "ExecuteTime": {
     "end_time": "2019-11-26T08:42:27.384197Z",
     "start_time": "2019-11-26T08:42:27.375715Z"
    }
   },
   "outputs": [],
   "source": [
    "titanic[\"SibSp\"] = pd.to_numeric(titanic[\"SibSp\"], downcast=\"unsigned\")\n",
    "titanic[\"Parch\"] = pd.to_numeric(titanic[\"SibSp\"], downcast=\"unsigned\")"
   ]
  },
  {
   "cell_type": "code",
   "execution_count": null,
   "metadata": {
    "ExecuteTime": {
     "end_time": "2019-11-26T08:42:28.835892Z",
     "start_time": "2019-11-26T08:42:28.803909Z"
    }
   },
   "outputs": [],
   "source": [
    "titanic.info(memory_usage=\"deep\")"
   ]
  },
  {
   "cell_type": "markdown",
   "metadata": {},
   "source": [
    "## How to read it with correct `dtype`s right away?"
   ]
  },
  {
   "cell_type": "code",
   "execution_count": null,
   "metadata": {
    "ExecuteTime": {
     "end_time": "2019-11-26T08:43:32.989081Z",
     "start_time": "2019-11-26T08:43:32.943123Z"
    }
   },
   "outputs": [],
   "source": [
    "titanic_train_trunc = pd.read_csv(\"../W3/data/train.csv\", index_col=\"PassengerId\",\n",
    "                                  dtype={\"Pclass\":np.uint8,\n",
    "                                         \"SibSp\":np.uint8,\n",
    "                                         \"Parch\":np.uint8,\n",
    "                                         \"Survived\":np.float32,\n",
    "                                         \"Age\":np.float32,\n",
    "                                         \"Fare\":np.float32},\n",
    "                                  converters={\"Sex\": lambda x: (np.uint8(1)\n",
    "                                                                if x==\"female\" else np.uint8(0)),\n",
    "                                              \"Embarked\": lambda x: 0 if x==\"S\" else (1 if x==\"C\" else 2)})\n",
    "titanic_test_trunc = pd.read_csv(\"../W3/data/test.csv\", index_col=\"PassengerId\",\n",
    "                                 dtype={\"Pclass\":np.uint8,\n",
    "                                        \"SibSp\":np.uint8,\n",
    "                                        \"Parch\":np.uint8,\n",
    "                                        \"Survived\":np.float32,\n",
    "                                        \"Age\":np.float32,\n",
    "                                        \"Fare\":np.float32},\n",
    "                                 converters={\"Sex\": lambda x: np.uint8(1) if x==\"female\" else np.uint8(0),\n",
    "                                             \"Embarked\": lambda x: 0 if x==\"S\" else (1 if x==\"C\" else 2)})\n",
    "titanic_trunc = pd.concat([titanic_train_trunc, titanic_test_trunc], sort=False)\n",
    "\n",
    "titanic_trunc.info(memory_usage=\"deep\")"
   ]
  },
  {
   "cell_type": "code",
   "execution_count": null,
   "metadata": {
    "ExecuteTime": {
     "end_time": "2019-11-26T08:43:40.601754Z",
     "start_time": "2019-11-26T08:43:40.585274Z"
    }
   },
   "outputs": [],
   "source": [
    "titanic_trunc.select_dtypes(np.uint8).head()"
   ]
  },
  {
   "cell_type": "markdown",
   "metadata": {},
   "source": [
    "## `eval` and `query`"
   ]
  },
  {
   "cell_type": "code",
   "execution_count": null,
   "metadata": {
    "ExecuteTime": {
     "end_time": "2019-11-26T10:02:27.075522Z",
     "start_time": "2019-11-26T10:02:27.038439Z"
    }
   },
   "outputs": [],
   "source": [
    "%load_ext memory_profiler"
   ]
  },
  {
   "cell_type": "code",
   "execution_count": null,
   "metadata": {
    "ExecuteTime": {
     "end_time": "2019-11-26T10:02:27.228437Z",
     "start_time": "2019-11-26T10:02:27.221181Z"
    }
   },
   "outputs": [],
   "source": [
    "%%writefile evals.py\n",
    "import pandas as pd\n",
    "\n",
    "def direct_computation(df):\n",
    "    result = df['b']/df['a'] + df['a']/df['b']\n",
    "    return result\n",
    "\n",
    "def eval_computation(df):\n",
    "    result = pd.eval(\"df.b/df.a + df.a/df.b\")\n",
    "    return result"
   ]
  },
  {
   "cell_type": "code",
   "execution_count": null,
   "metadata": {
    "ExecuteTime": {
     "end_time": "2019-11-26T10:02:29.847525Z",
     "start_time": "2019-11-26T10:02:29.839802Z"
    }
   },
   "outputs": [],
   "source": [
    "from evals import direct_computation, eval_computation"
   ]
  },
  {
   "cell_type": "code",
   "execution_count": null,
   "metadata": {
    "ExecuteTime": {
     "end_time": "2019-11-26T10:02:30.911295Z",
     "start_time": "2019-11-26T10:02:30.502267Z"
    }
   },
   "outputs": [],
   "source": [
    "df = pd.DataFrame(np.arange(20000000).reshape((10000000,2)),\n",
    "                  columns=['a', 'b'],\n",
    "                  index=np.random.choice(list(string.ascii_lowercase), 10000000, replace=True))"
   ]
  },
  {
   "cell_type": "code",
   "execution_count": null,
   "metadata": {
    "ExecuteTime": {
     "end_time": "2019-11-26T09:40:34.351961Z",
     "start_time": "2019-11-26T09:40:26.594725Z"
    }
   },
   "outputs": [],
   "source": [
    "df.info(memory_usage=\"deep\")"
   ]
  },
  {
   "cell_type": "code",
   "execution_count": null,
   "metadata": {
    "ExecuteTime": {
     "end_time": "2019-11-26T10:02:43.524342Z",
     "start_time": "2019-11-26T10:02:42.768537Z"
    }
   },
   "outputs": [],
   "source": [
    "%mprun -f direct_computation direct_computation(df)"
   ]
  },
  {
   "cell_type": "code",
   "execution_count": null,
   "metadata": {
    "ExecuteTime": {
     "end_time": "2019-11-26T10:02:35.574920Z",
     "start_time": "2019-11-26T10:02:35.251030Z"
    }
   },
   "outputs": [],
   "source": [
    "%mprun -f eval_computation eval_computation(df)"
   ]
  },
  {
   "cell_type": "code",
   "execution_count": null,
   "metadata": {
    "ExecuteTime": {
     "end_time": "2019-11-26T10:06:23.804124Z",
     "start_time": "2019-11-26T10:05:10.570326Z"
    }
   },
   "outputs": [],
   "source": [
    "%timeit -n 10 -r 3 direct_computation(df)"
   ]
  },
  {
   "cell_type": "code",
   "execution_count": null,
   "metadata": {
    "ExecuteTime": {
     "end_time": "2019-11-26T10:04:51.087126Z",
     "start_time": "2019-11-26T10:04:37.262930Z"
    }
   },
   "outputs": [],
   "source": [
    "%timeit -n 10 -r 3 eval_computation(df)"
   ]
  },
  {
   "cell_type": "code",
   "execution_count": null,
   "metadata": {
    "ExecuteTime": {
     "end_time": "2019-11-26T10:02:28.684909Z",
     "start_time": "2019-11-26T10:02:28.677907Z"
    }
   },
   "outputs": [],
   "source": [
    "%%writefile complex_evals.py\n",
    "import pandas as pd\n",
    "import numpy as np\n",
    "def direct_computation(df):\n",
    "    result = np.cos(df['b']) + np.sin(df['a'])\n",
    "    return result\n",
    "\n",
    "def eval_computation(df):\n",
    "    result = pd.eval(\"cos(df.b) + sin(df.a)\")\n",
    "    return result"
   ]
  },
  {
   "cell_type": "code",
   "execution_count": null,
   "metadata": {},
   "outputs": [],
   "source": [
    "from complex_evals import direct_computation, eval_computation"
   ]
  },
  {
   "cell_type": "code",
   "execution_count": null,
   "metadata": {
    "ExecuteTime": {
     "end_time": "2019-11-26T10:02:43.524342Z",
     "start_time": "2019-11-26T10:02:42.768537Z"
    }
   },
   "outputs": [],
   "source": [
    "%mprun -f direct_computation direct_computation(df)"
   ]
  },
  {
   "cell_type": "code",
   "execution_count": null,
   "metadata": {
    "ExecuteTime": {
     "end_time": "2019-11-26T10:02:35.574920Z",
     "start_time": "2019-11-26T10:02:35.251030Z"
    }
   },
   "outputs": [],
   "source": [
    "%mprun -f eval_computation eval_computation(df)"
   ]
  },
  {
   "cell_type": "code",
   "execution_count": null,
   "metadata": {
    "ExecuteTime": {
     "end_time": "2019-11-26T10:06:23.804124Z",
     "start_time": "2019-11-26T10:05:10.570326Z"
    }
   },
   "outputs": [],
   "source": [
    "%timeit -n 10 -r 3 direct_computation(df)"
   ]
  },
  {
   "cell_type": "code",
   "execution_count": null,
   "metadata": {
    "ExecuteTime": {
     "end_time": "2019-11-26T10:04:51.087126Z",
     "start_time": "2019-11-26T10:04:37.262930Z"
    }
   },
   "outputs": [],
   "source": [
    "%timeit -n 10 -r 3 eval_computation(df)"
   ]
  },
  {
   "cell_type": "code",
   "execution_count": null,
   "metadata": {
    "ExecuteTime": {
     "end_time": "2019-11-26T09:58:11.049701Z",
     "start_time": "2019-11-26T09:58:11.044786Z"
    }
   },
   "outputs": [],
   "source": [
    "%%writefile query.py\n",
    "import pandas as pd\n",
    "\n",
    "def direct_query(df):\n",
    "    return df[(df['a'] > 7) & (df['b'] < 35)]\n",
    "\n",
    "def eval_query(df):\n",
    "    return df.query(\"a > 7 and b < 35\")"
   ]
  },
  {
   "cell_type": "code",
   "execution_count": null,
   "metadata": {
    "ExecuteTime": {
     "end_time": "2019-11-26T09:58:11.579076Z",
     "start_time": "2019-11-26T09:58:11.574332Z"
    }
   },
   "outputs": [],
   "source": [
    "from query import direct_query, eval_query"
   ]
  },
  {
   "cell_type": "code",
   "execution_count": null,
   "metadata": {
    "ExecuteTime": {
     "end_time": "2019-11-26T09:58:15.317260Z",
     "start_time": "2019-11-26T09:58:15.196040Z"
    }
   },
   "outputs": [],
   "source": [
    "%mprun -f direct_query direct_query(df)"
   ]
  },
  {
   "cell_type": "code",
   "execution_count": null,
   "metadata": {
    "ExecuteTime": {
     "end_time": "2019-11-26T09:58:23.056726Z",
     "start_time": "2019-11-26T09:58:22.634108Z"
    }
   },
   "outputs": [],
   "source": [
    "%mprun -f eval_query eval_query(df)"
   ]
  },
  {
   "cell_type": "code",
   "execution_count": null,
   "metadata": {
    "ExecuteTime": {
     "end_time": "2019-11-26T09:58:39.757059Z",
     "start_time": "2019-11-26T09:58:35.473649Z"
    }
   },
   "outputs": [],
   "source": [
    "%timeit df[(df['a'] > 7) & (df['b'] < 35)]"
   ]
  },
  {
   "cell_type": "code",
   "execution_count": null,
   "metadata": {
    "ExecuteTime": {
     "end_time": "2019-11-26T09:58:42.660457Z",
     "start_time": "2019-11-26T09:58:39.761163Z"
    }
   },
   "outputs": [],
   "source": [
    "%timeit df.query(\"a > 7 and b < 35\")"
   ]
  },
  {
   "cell_type": "code",
   "execution_count": null,
   "metadata": {},
   "outputs": [],
   "source": []
  }
 ],
 "metadata": {
  "@webio": {
   "lastCommId": null,
   "lastKernelId": null
  },
  "kernelspec": {
   "display_name": "Python 3",
   "language": "python",
   "name": "python3"
  },
  "language_info": {
   "codemirror_mode": {
    "name": "ipython",
    "version": 3
   },
   "file_extension": ".py",
   "mimetype": "text/x-python",
   "name": "python",
   "nbconvert_exporter": "python",
   "pygments_lexer": "ipython3",
   "version": "3.7.0b4"
  }
 },
 "nbformat": 4,
 "nbformat_minor": 2
}
