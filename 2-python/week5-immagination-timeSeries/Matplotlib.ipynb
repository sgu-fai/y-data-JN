{
 "cells": [
  {
   "cell_type": "markdown",
   "metadata": {},
   "source": [
    "# Matplotlib"
   ]
  },
  {
   "cell_type": "code",
   "execution_count": null,
   "metadata": {},
   "outputs": [],
   "source": [
    "import numpy as np"
   ]
  },
  {
   "cell_type": "code",
   "execution_count": null,
   "metadata": {},
   "outputs": [],
   "source": [
    "%pylab inline"
   ]
  },
  {
   "cell_type": "markdown",
   "metadata": {},
   "source": [
    "or:\n",
    "```python\n",
    "from matplotlib import pyplot as plt\n",
    "```"
   ]
  },
  {
   "cell_type": "markdown",
   "metadata": {},
   "source": [
    "## Figures\n",
    "\n",
    "It start with figure:"
   ]
  },
  {
   "cell_type": "code",
   "execution_count": null,
   "metadata": {},
   "outputs": [],
   "source": [
    "plt.figure()\n",
    "plt.plot()\n",
    "plt.show()"
   ]
  },
  {
   "cell_type": "code",
   "execution_count": null,
   "metadata": {},
   "outputs": [],
   "source": [
    "# Figure can have size (in inches)\n",
    "plt.figure(figsize=(6,6))\n",
    "plt.plot()\n",
    "plt.show()"
   ]
  },
  {
   "cell_type": "code",
   "execution_count": null,
   "metadata": {},
   "outputs": [],
   "source": [
    "# It's easy to plot something flat\n",
    "plt.figure(figsize=(6,6))\n",
    "plt.plot(np.random.randn(100))\n",
    "plt.show()"
   ]
  },
  {
   "cell_type": "code",
   "execution_count": null,
   "metadata": {},
   "outputs": [],
   "source": [
    "# It's easy to plot something flat\n",
    "fig = plt.figure(figsize=(6,6))\n",
    "ax = plt.gca() # Get current axes\n",
    "ax.plot(np.random.randn(100))\n",
    "plt.show()"
   ]
  },
  {
   "cell_type": "code",
   "execution_count": null,
   "metadata": {},
   "outputs": [],
   "source": [
    "# It's easy to add \n",
    "fig = plt.figure(figsize=(6,6))\n",
    "ax = plt.gca() # Get current axes\n",
    "ax.plot(np.random.randn(100))\n",
    "ax.set_title(\"This is random normal variable\")\n",
    "ax.set_xlabel(\"timestamp\")\n",
    "ax.set_ylabel(\"X\")\n",
    "plt.show()"
   ]
  },
  {
   "cell_type": "markdown",
   "metadata": {},
   "source": [
    "## Line plots"
   ]
  },
  {
   "cell_type": "code",
   "execution_count": null,
   "metadata": {},
   "outputs": [],
   "source": [
    "NUM_POINTS = 1000"
   ]
  },
  {
   "cell_type": "code",
   "execution_count": null,
   "metadata": {},
   "outputs": [],
   "source": [
    "x = np.linspace(0, 4.*np.pi, NUM_POINTS)\n",
    "y = np.sin(x) + np.random.normal(0, 0.1, NUM_POINTS)"
   ]
  },
  {
   "cell_type": "code",
   "execution_count": null,
   "metadata": {},
   "outputs": [],
   "source": [
    "plt.figure(figsize=(6,6))\n",
    "plt.plot(x, y)"
   ]
  },
  {
   "cell_type": "code",
   "execution_count": null,
   "metadata": {},
   "outputs": [],
   "source": [
    "plt.figure(figsize=(6,6))\n",
    "plt.plot(x, y)\n",
    "plt.xlabel('x')\n",
    "plt.ylabel('y')\n",
    "plt.grid(True)\n",
    "plt.xlim(0, 4*np.pi)\n",
    "plt.title(\"Noisy sin(x)\");"
   ]
  },
  {
   "cell_type": "code",
   "execution_count": null,
   "metadata": {},
   "outputs": [],
   "source": [
    "plt.style.use('ggplot')"
   ]
  },
  {
   "cell_type": "code",
   "execution_count": null,
   "metadata": {},
   "outputs": [],
   "source": [
    "plt.figure(figsize=(6,6))\n",
    "plt.plot(x, y)\n",
    "plt.xlabel('x')\n",
    "plt.ylabel('y')\n",
    "plt.grid(True)\n",
    "plt.xlim(0, 4*np.pi)\n",
    "plt.title(\"Noisy sin(x)\")"
   ]
  },
  {
   "cell_type": "code",
   "execution_count": null,
   "metadata": {},
   "outputs": [],
   "source": [
    "plt.figure(figsize=(6,6))\n",
    "plt.plot(x, y, '--', c='royalblue')\n",
    "plt.plot(x, np.sin(x), c='firebrick')\n",
    "plt.xlabel('x')\n",
    "plt.ylabel('y')\n",
    "plt.grid(True)\n",
    "plt.xlim(0, 4*np.pi)\n",
    "plt.title(\"Noisy sin(x)\")"
   ]
  },
  {
   "cell_type": "code",
   "execution_count": null,
   "metadata": {},
   "outputs": [],
   "source": [
    "plt.figure(figsize=(6,6))\n",
    "plt.plot(x, y, 'x', markersize=6, c='royalblue')\n",
    "plt.plot(x, np.sin(x), c='firebrick', linewidth=2)\n",
    "plt.xlabel('x')\n",
    "plt.ylabel('y')\n",
    "plt.grid(True)\n",
    "plt.xlim(0, 4*np.pi)\n",
    "plt.title(\"Noisy sin(x)\")"
   ]
  },
  {
   "cell_type": "markdown",
   "metadata": {},
   "source": [
    "## Legends"
   ]
  },
  {
   "cell_type": "code",
   "execution_count": null,
   "metadata": {},
   "outputs": [],
   "source": [
    "plt.figure(figsize=(6,6))\n",
    "plt.plot(x, y, 'o', markersize=2, c='royalblue', label='noisy')\n",
    "plt.plot(x, np.sin(x), c='firebrick', linewidth=2, label='original')\n",
    "plt.xlabel('x')\n",
    "plt.ylabel('y')\n",
    "plt.grid(True)\n",
    "plt.xlim(0, 4*np.pi)\n",
    "plt.legend(loc=0)\n",
    "plt.title(\"Noisy sin(x)\")"
   ]
  },
  {
   "cell_type": "markdown",
   "metadata": {},
   "source": [
    "## Scatter plots"
   ]
  },
  {
   "cell_type": "code",
   "execution_count": null,
   "metadata": {},
   "outputs": [],
   "source": [
    "x = np.random.randn(NUM_POINTS)\n",
    "y = x + np.random.normal(0, 0.1, NUM_POINTS)"
   ]
  },
  {
   "cell_type": "code",
   "execution_count": null,
   "metadata": {},
   "outputs": [],
   "source": [
    "plt.figure(figsize=(6,6))\n",
    "plt.scatter(x, y, marker='o', s=2, c='royalblue', label='noisy')\n",
    "plt.xlabel('x')\n",
    "plt.ylabel('y')\n",
    "plt.grid(True)\n",
    "plt.xlim(-4, 4)\n",
    "plt.ylim(-4, 4)\n",
    "plt.legend(loc=0)\n",
    "plt.title(\"y vs. x\")"
   ]
  },
  {
   "cell_type": "code",
   "execution_count": null,
   "metadata": {},
   "outputs": [],
   "source": [
    "sz = np.random.randint(2, 32, size=(NUM_POINTS,))"
   ]
  },
  {
   "cell_type": "code",
   "execution_count": null,
   "metadata": {},
   "outputs": [],
   "source": [
    "plt.figure(figsize=(6,6))\n",
    "plt.scatter(x, y, marker='o', s=sz, c='royalblue', label='noisy')\n",
    "plt.xlabel('x')\n",
    "plt.ylabel('y')\n",
    "plt.grid(True)\n",
    "plt.xlim(-4, 4)\n",
    "plt.ylim(-4, 4)\n",
    "plt.legend(loc=0)\n",
    "plt.title(\"y vs. x\")"
   ]
  },
  {
   "cell_type": "code",
   "execution_count": null,
   "metadata": {},
   "outputs": [],
   "source": [
    "colors = x + np.random.normal(0, 0.1, size=(NUM_POINTS,))"
   ]
  },
  {
   "cell_type": "code",
   "execution_count": null,
   "metadata": {},
   "outputs": [],
   "source": [
    "plt.figure(figsize=(6,6))\n",
    "plt.scatter(x, y, marker='o', alpha=0.7, s=64, c=colors, edgecolor='k',\n",
    "            cmap=plt.cm.coolwarm, label='noisy')\n",
    "plt.xlabel('x')\n",
    "plt.ylabel('y')\n",
    "plt.grid(True)\n",
    "plt.xlim(-4, 4)\n",
    "plt.ylim(-4, 4)\n",
    "plt.legend(loc=0)\n",
    "plt.title(\"y vs. x\")"
   ]
  },
  {
   "cell_type": "code",
   "execution_count": null,
   "metadata": {},
   "outputs": [],
   "source": [
    "plt.figure(figsize=(6.5,6))\n",
    "plt.scatter(x, y, marker='o', alpha=0.7, s=32, c=colors, edgecolor='k', label='noisy')\n",
    "plt.colorbar()\n",
    "plt.xlabel('x')\n",
    "plt.ylabel('y')\n",
    "plt.grid(True)\n",
    "plt.xlim(-4, 4)\n",
    "plt.ylim(-4, 4)\n",
    "plt.legend(loc=0)\n",
    "plt.title(\"y vs. x\")\n",
    "plt.tight_layout()"
   ]
  },
  {
   "cell_type": "markdown",
   "metadata": {},
   "source": [
    "## Histograms"
   ]
  },
  {
   "cell_type": "code",
   "execution_count": null,
   "metadata": {},
   "outputs": [],
   "source": [
    "plt.figure(figsize=(6.5,6))\n",
    "plt.hist(x, alpha=0.7, color='firebrick', edgecolor='k', label='noisy')\n",
    "plt.xlabel('x')\n",
    "plt.ylabel('N')\n",
    "plt.grid(True)\n",
    "plt.xlim(-4, 4)\n",
    "plt.legend(loc=0)\n",
    "plt.title(\"Distribution of x\")\n",
    "plt.tight_layout()"
   ]
  },
  {
   "cell_type": "code",
   "execution_count": null,
   "metadata": {},
   "outputs": [],
   "source": [
    "plt.figure(figsize=(6.5,6))\n",
    "plt.hist(x, bins=10, range=(-3, 3), normed=True, alpha=0.7, color='firebrick', edgecolor='k', label='noisy')\n",
    "plt.xlabel('x')\n",
    "plt.ylabel('N')\n",
    "plt.grid(True)\n",
    "plt.xlim(-4, 4)\n",
    "plt.legend(loc=0)\n",
    "plt.title(\"Distribution of x\")\n",
    "plt.tight_layout()"
   ]
  },
  {
   "cell_type": "code",
   "execution_count": null,
   "metadata": {},
   "outputs": [],
   "source": [
    "plt.figure(figsize=(6.5,6))\n",
    "plt.hist(x, bins=10, range=(-3, 3), cumulative=True, normed=True, alpha=0.7, color='firebrick', edgecolor='k', label='cumulative')\n",
    "plt.xlabel('x')\n",
    "plt.ylabel('N')\n",
    "plt.grid(True)\n",
    "plt.xlim(-4, 4)\n",
    "plt.legend(loc=0)\n",
    "plt.title(\"Distribution of x\")\n",
    "plt.tight_layout()"
   ]
  },
  {
   "cell_type": "code",
   "execution_count": null,
   "metadata": {},
   "outputs": [],
   "source": [
    "plt.figure(figsize=(6.5,6))\n",
    "plt.hist([x, y], alpha=0.7, color=('firebrick', 'royalblue'), cumulative=True, normed=True, histtype='barstacked', edgecolor='k', label=('x', 'y'))\n",
    "plt.xlabel('x')\n",
    "plt.ylabel('N')\n",
    "plt.grid(True)\n",
    "plt.xlim(-4, 4)\n",
    "plt.legend(loc=0)\n",
    "plt.title(\"Distribution of x and y\")\n",
    "plt.tight_layout()"
   ]
  },
  {
   "cell_type": "markdown",
   "metadata": {},
   "source": [
    "## Boxplots"
   ]
  },
  {
   "cell_type": "code",
   "execution_count": null,
   "metadata": {},
   "outputs": [],
   "source": [
    "plt.figure(figsize=(6.5,6))\n",
    "plt.boxplot([x, y])\n",
    "plt.grid(True)\n",
    "plt.xlim(0, 3)\n",
    "plt.title(\"Distribution of x and y\")\n",
    "plt.xticks([1, 2], ['x', 'y'], fontsize=12)\n",
    "plt.tight_layout()"
   ]
  },
  {
   "cell_type": "code",
   "execution_count": null,
   "metadata": {},
   "outputs": [],
   "source": [
    "plt.figure(figsize=(6.5,6))\n",
    "plt.boxplot([x, y], showfliers=False)\n",
    "plt.grid(True)\n",
    "plt.xlim(0, 3)\n",
    "plt.title(\"Distribution of x and y\")\n",
    "plt.xticks([1, 2], ['x', 'y'], fontsize=12)\n",
    "plt.tight_layout()"
   ]
  },
  {
   "cell_type": "markdown",
   "metadata": {},
   "source": [
    "## Subplots"
   ]
  },
  {
   "cell_type": "code",
   "execution_count": null,
   "metadata": {},
   "outputs": [],
   "source": [
    "plt.figure(figsize=(12,12))\n",
    "\n",
    "# First subplot\n",
    "plt.subplot(2, 2, 1)\n",
    "plt.scatter(x, y, marker='o', alpha=0.7, s=32, c=colors, edgecolor='k', label='noisy')\n",
    "plt.xlabel('x')\n",
    "plt.ylabel('y')\n",
    "plt.grid(True)\n",
    "plt.xlim(-4, 4)\n",
    "plt.ylim(-4, 4)\n",
    "plt.legend(loc=0)\n",
    "plt.title(\"y vs. x\")\n",
    "\n",
    "# Second subplot\n",
    "plt.subplot(2, 2, 2)\n",
    "plt.plot(x, c='firebrick', linewidth=1, alpha=0.7, label='x')\n",
    "plt.plot(y, c='royalblue', linewidth=1, alpha=0.7, label='y')\n",
    "plt.xlabel('x, y')\n",
    "plt.grid(True)\n",
    "plt.ylim(-4, 4)\n",
    "plt.legend(loc=0)\n",
    "plt.title(\"x and y\")\n",
    "\n",
    "# Third subplot\n",
    "plt.subplot(2, 2, 3)\n",
    "plt.hist(x, bins=10, range=(-3, 3), normed=True, alpha=0.7, color='firebrick', edgecolor='k')\n",
    "plt.xlabel('x')\n",
    "plt.ylabel('N')\n",
    "plt.grid(True)\n",
    "plt.xlim(-4, 4)\n",
    "plt.title(\"Distribution of x\")\n",
    "\n",
    "# Fourth subplot\n",
    "plt.subplot(2, 2, 4)\n",
    "plt.hist(y, bins=10, range=(-3, 3), normed=True, alpha=0.7, color='royalblue', edgecolor='k')\n",
    "plt.xlabel('y')\n",
    "plt.ylabel('N')\n",
    "plt.grid(True)\n",
    "plt.xlim(-4, 4)\n",
    "plt.title(\"Distribution of y\")\n",
    "\n",
    "plt.tight_layout()"
   ]
  },
  {
   "cell_type": "markdown",
   "metadata": {},
   "source": [
    "# Seaborn"
   ]
  },
  {
   "cell_type": "code",
   "execution_count": null,
   "metadata": {},
   "outputs": [],
   "source": [
    "import seaborn as sns"
   ]
  },
  {
   "cell_type": "code",
   "execution_count": null,
   "metadata": {},
   "outputs": [],
   "source": [
    "sns.distplot"
   ]
  },
  {
   "cell_type": "code",
   "execution_count": null,
   "metadata": {},
   "outputs": [],
   "source": [
    "plt.figure(figsize=(6,6))\n",
    "sns.distplot(x, ax=plt.gca(), rug=True)"
   ]
  },
  {
   "cell_type": "code",
   "execution_count": null,
   "metadata": {},
   "outputs": [],
   "source": [
    "plt.figure(figsize=(7,6))\n",
    "sns.heatmap(np.random.randn(10, 10))"
   ]
  },
  {
   "cell_type": "code",
   "execution_count": null,
   "metadata": {},
   "outputs": [],
   "source": [
    "plt.imshow(np.random.randn(10, 10))"
   ]
  },
  {
   "cell_type": "code",
   "execution_count": null,
   "metadata": {},
   "outputs": [],
   "source": []
  }
 ],
 "metadata": {
  "kernelspec": {
   "display_name": "Python 3",
   "language": "python",
   "name": "python3"
  },
  "language_info": {
   "codemirror_mode": {
    "name": "ipython",
    "version": 3
   },
   "file_extension": ".py",
   "mimetype": "text/x-python",
   "name": "python",
   "nbconvert_exporter": "python",
   "pygments_lexer": "ipython3",
   "version": "3.6.5"
  }
 },
 "nbformat": 4,
 "nbformat_minor": 2
}
