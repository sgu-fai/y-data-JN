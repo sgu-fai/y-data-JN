{
 "cells": [
  {
   "cell_type": "code",
   "execution_count": null,
   "metadata": {},
   "outputs": [],
   "source": []
  },
  {
   "cell_type": "code",
   "execution_count": null,
   "metadata": {
    "ExecuteTime": {
     "end_time": "2019-11-26T10:23:39.451044Z",
     "start_time": "2019-11-26T10:23:38.271677Z"
    }
   },
   "outputs": [],
   "source": [
    "%pylab inline\n",
    "import numpy as np\n",
    "import pandas as pd"
   ]
  },
  {
   "cell_type": "code",
   "execution_count": null,
   "metadata": {
    "ExecuteTime": {
     "end_time": "2019-11-26T10:31:35.252708Z",
     "start_time": "2019-11-26T10:31:35.248701Z"
    }
   },
   "outputs": [],
   "source": [
    "plt.style.use('bmh')"
   ]
  },
  {
   "cell_type": "code",
   "execution_count": null,
   "metadata": {
    "ExecuteTime": {
     "end_time": "2019-11-26T10:23:48.343693Z",
     "start_time": "2019-11-26T10:23:47.637320Z"
    }
   },
   "outputs": [],
   "source": [
    "import seaborn as sns\n",
    "sns.set()"
   ]
  },
  {
   "cell_type": "markdown",
   "metadata": {},
   "source": [
    "# Loading data"
   ]
  },
  {
   "cell_type": "code",
   "execution_count": null,
   "metadata": {
    "ExecuteTime": {
     "end_time": "2019-11-26T10:25:26.557162Z",
     "start_time": "2019-11-26T10:25:12.748587Z"
    }
   },
   "outputs": [],
   "source": [
    "d = pd.read_csv('data/accidents_2005_to_2007.csv.zip')"
   ]
  },
  {
   "cell_type": "code",
   "execution_count": null,
   "metadata": {
    "ExecuteTime": {
     "end_time": "2019-11-26T10:25:26.790604Z",
     "start_time": "2019-11-26T10:25:26.585442Z"
    }
   },
   "outputs": [],
   "source": [
    "d.head()"
   ]
  },
  {
   "cell_type": "code",
   "execution_count": null,
   "metadata": {
    "ExecuteTime": {
     "end_time": "2019-11-26T10:27:27.919841Z",
     "start_time": "2019-11-26T10:27:20.498150Z"
    }
   },
   "outputs": [],
   "source": [
    "d.info(memory_usage=\"deep\")"
   ]
  },
  {
   "cell_type": "code",
   "execution_count": null,
   "metadata": {
    "ExecuteTime": {
     "end_time": "2019-11-26T10:26:40.680912Z",
     "start_time": "2019-11-26T10:26:40.671770Z"
    }
   },
   "outputs": [],
   "source": [
    "d.Date.head()"
   ]
  },
  {
   "cell_type": "code",
   "execution_count": null,
   "metadata": {
    "ExecuteTime": {
     "end_time": "2019-11-26T10:26:46.147445Z",
     "start_time": "2019-11-26T10:26:46.138478Z"
    }
   },
   "outputs": [],
   "source": [
    "d.Time.head()"
   ]
  },
  {
   "cell_type": "code",
   "execution_count": null,
   "metadata": {
    "ExecuteTime": {
     "end_time": "2019-11-26T10:27:48.273500Z",
     "start_time": "2019-11-26T10:27:47.703153Z"
    }
   },
   "outputs": [],
   "source": [
    "d.loc[:, 'dt'] = d.Date.str.cat(d.Time, sep=' ', na_rep='00:00')"
   ]
  },
  {
   "cell_type": "code",
   "execution_count": null,
   "metadata": {
    "ExecuteTime": {
     "end_time": "2019-11-26T10:29:00.777230Z",
     "start_time": "2019-11-26T10:27:48.857670Z"
    }
   },
   "outputs": [],
   "source": [
    "d.loc[:, 'date_time'] = pd.to_datetime(d.dt, dayfirst=True)"
   ]
  },
  {
   "cell_type": "code",
   "execution_count": null,
   "metadata": {
    "ExecuteTime": {
     "end_time": "2019-11-26T10:29:01.313581Z",
     "start_time": "2019-11-26T10:29:00.780326Z"
    }
   },
   "outputs": [],
   "source": [
    "d.info()"
   ]
  },
  {
   "cell_type": "code",
   "execution_count": null,
   "metadata": {
    "ExecuteTime": {
     "end_time": "2019-11-26T10:29:01.323835Z",
     "start_time": "2019-11-26T10:29:01.318028Z"
    }
   },
   "outputs": [],
   "source": [
    "d.columns"
   ]
  },
  {
   "cell_type": "code",
   "execution_count": null,
   "metadata": {
    "ExecuteTime": {
     "end_time": "2019-11-26T10:29:01.333953Z",
     "start_time": "2019-11-26T10:29:01.328571Z"
    }
   },
   "outputs": [],
   "source": [
    "COLS = [u'Accident_Index', 'Longitude', 'Latitude', 'Accident_Severity', 'Number_of_Vehicles', 'Number_of_Casualties', 'Weather_Conditions',\n",
    "       'Day_of_Week', u'Weather_Conditions', u'Road_Surface_Conditions', u'Special_Conditions_at_Site',\n",
    "        u'Urban_or_Rural_Area', u'Carriageway_Hazards', 'date_time']"
   ]
  },
  {
   "cell_type": "code",
   "execution_count": null,
   "metadata": {
    "ExecuteTime": {
     "end_time": "2019-11-26T10:29:01.468138Z",
     "start_time": "2019-11-26T10:29:01.337858Z"
    }
   },
   "outputs": [],
   "source": [
    "d.drop([c for c in d.columns if c not in COLS], axis=1, inplace=True)"
   ]
  },
  {
   "cell_type": "code",
   "execution_count": null,
   "metadata": {
    "ExecuteTime": {
     "end_time": "2019-11-26T10:29:01.482159Z",
     "start_time": "2019-11-26T10:29:01.474077Z"
    }
   },
   "outputs": [],
   "source": [
    "d.set_index('date_time', inplace=True)"
   ]
  },
  {
   "cell_type": "code",
   "execution_count": null,
   "metadata": {
    "ExecuteTime": {
     "end_time": "2019-11-26T10:29:01.521648Z",
     "start_time": "2019-11-26T10:29:01.489372Z"
    }
   },
   "outputs": [],
   "source": [
    "d.index"
   ]
  },
  {
   "cell_type": "markdown",
   "metadata": {},
   "source": [
    "# Resampling time series"
   ]
  },
  {
   "cell_type": "code",
   "execution_count": null,
   "metadata": {
    "ExecuteTime": {
     "end_time": "2019-11-26T10:30:15.047188Z",
     "start_time": "2019-11-26T10:30:14.692243Z"
    }
   },
   "outputs": [],
   "source": [
    "daily = d.resample('D').size()\n",
    "daily"
   ]
  },
  {
   "cell_type": "code",
   "execution_count": null,
   "metadata": {
    "ExecuteTime": {
     "end_time": "2019-11-26T10:30:19.105172Z",
     "start_time": "2019-11-26T10:30:19.098684Z"
    }
   },
   "outputs": [],
   "source": [
    "daily.index"
   ]
  },
  {
   "cell_type": "code",
   "execution_count": null,
   "metadata": {
    "ExecuteTime": {
     "end_time": "2019-11-26T10:30:33.748398Z",
     "start_time": "2019-11-26T10:30:33.743445Z"
    }
   },
   "outputs": [],
   "source": [
    "daily.index.is_monotonic, daily.index.is_unique"
   ]
  },
  {
   "cell_type": "code",
   "execution_count": null,
   "metadata": {
    "ExecuteTime": {
     "end_time": "2019-11-26T10:31:45.793501Z",
     "start_time": "2019-11-26T10:31:43.690641Z"
    }
   },
   "outputs": [],
   "source": [
    "plt.figure(figsize=(8,3), dpi=150)\n",
    "daily.plot(ax=plt.gca(), linewidth=0.5)\n",
    "(d.resample('W').size()/7.).plot(ax=plt.gca(), linewidth=1, color='firebrick')\n",
    "plt.ylabel('accidents')\n",
    "plt.xlabel('month');"
   ]
  },
  {
   "cell_type": "code",
   "execution_count": null,
   "metadata": {
    "ExecuteTime": {
     "end_time": "2019-11-26T10:32:25.127778Z",
     "start_time": "2019-11-26T10:32:22.595332Z"
    }
   },
   "outputs": [],
   "source": [
    "plt.figure(figsize=(12,5))\n",
    "\n",
    "d.resample('D').Number_of_Vehicles.mean().plot(ax=plt.gca())\n",
    "d.resample('W').Number_of_Vehicles.mean().plot(ax=plt.gca(), color='firebrick')\n",
    "\n",
    "plt.ylabel('vehicles involved')\n",
    "plt.xlabel('month');"
   ]
  },
  {
   "cell_type": "code",
   "execution_count": null,
   "metadata": {
    "ExecuteTime": {
     "end_time": "2019-11-26T10:33:07.952022Z",
     "start_time": "2019-11-26T10:33:05.826035Z"
    }
   },
   "outputs": [],
   "source": [
    "plt.figure(figsize=(12,6))\n",
    "\n",
    "(d.groupby([pd.Grouper(freq='1M'), 'Urban_or_Rural_Area'])\n",
    " .size()\n",
    " .unstack()\n",
    " .plot(alpha=0.6, linewidth=2, ax=plt.gca(), kind='bar', stacked=True));"
   ]
  },
  {
   "cell_type": "code",
   "execution_count": null,
   "metadata": {
    "ExecuteTime": {
     "end_time": "2019-11-26T10:33:26.694787Z",
     "start_time": "2019-11-26T10:33:26.606375Z"
    }
   },
   "outputs": [],
   "source": [
    "d.Weather_Conditions.value_counts()"
   ]
  },
  {
   "cell_type": "code",
   "execution_count": null,
   "metadata": {
    "ExecuteTime": {
     "end_time": "2019-11-26T10:34:30.632526Z",
     "start_time": "2019-11-26T10:34:28.691344Z"
    }
   },
   "outputs": [],
   "source": [
    "plt.figure(figsize=(12,6))\n",
    "\n",
    "(d.groupby([pd.Grouper(freq='1M'), 'Accident_Severity'])\n",
    " .size()\n",
    " .unstack()\n",
    " .plot(alpha=0.6, linewidth=2, ax=plt.gca(), kind='bar', stacked=True));"
   ]
  },
  {
   "cell_type": "code",
   "execution_count": null,
   "metadata": {},
   "outputs": [],
   "source": [
    "plt.figure(figsize=(12,6))\n",
    "\n",
    "d.groupby('Accident_Severity').resample('W').size().T.plot(alpha=0.6, linewidth=2)\n",
    "\n",
    "plt.legend(loc=0)"
   ]
  },
  {
   "cell_type": "code",
   "execution_count": null,
   "metadata": {
    "ExecuteTime": {
     "end_time": "2019-11-26T10:36:40.551185Z",
     "start_time": "2019-11-26T10:36:40.541923Z"
    }
   },
   "outputs": [],
   "source": [
    "d.index.min()"
   ]
  },
  {
   "cell_type": "code",
   "execution_count": null,
   "metadata": {
    "ExecuteTime": {
     "end_time": "2019-11-26T10:44:34.920002Z",
     "start_time": "2019-11-26T10:44:33.995983Z"
    }
   },
   "outputs": [],
   "source": [
    "d.groupby('Accident_Severity').resample('W').size().T"
   ]
  },
  {
   "cell_type": "code",
   "execution_count": null,
   "metadata": {
    "ExecuteTime": {
     "end_time": "2019-11-26T10:45:16.529806Z",
     "start_time": "2019-11-26T10:45:15.008259Z"
    }
   },
   "outputs": [],
   "source": [
    "d.groupby('Accident_Severity').resample('W-MON').size().T"
   ]
  },
  {
   "cell_type": "code",
   "execution_count": null,
   "metadata": {
    "ExecuteTime": {
     "end_time": "2019-11-26T10:45:00.567927Z",
     "start_time": "2019-11-26T10:44:59.405837Z"
    }
   },
   "outputs": [],
   "source": [
    "d.groupby('Weather_Conditions').resample('W').size()"
   ]
  },
  {
   "cell_type": "markdown",
   "metadata": {},
   "source": [
    "# GeoPandas"
   ]
  },
  {
   "cell_type": "code",
   "execution_count": null,
   "metadata": {
    "ExecuteTime": {
     "end_time": "2019-11-26T10:51:09.970756Z",
     "start_time": "2019-11-26T10:51:09.966150Z"
    }
   },
   "outputs": [],
   "source": [
    "import geopandas as gpd\n",
    "from shapely.geometry import Polygon, box"
   ]
  },
  {
   "cell_type": "code",
   "execution_count": null,
   "metadata": {
    "ExecuteTime": {
     "end_time": "2019-11-26T10:48:29.259273Z",
     "start_time": "2019-11-26T10:48:22.827901Z"
    }
   },
   "outputs": [],
   "source": [
    "gd = gpd.GeoDataFrame(d[[\"Accident_Index\", \"Accident_Severity\", \"Number_of_Vehicles\",\n",
    "                         \"Number_of_Casualties\", \"Number_of_Casualties\"]],\n",
    "                      geometry=gpd.points_from_xy(*d[[\"Longitude\", \"Latitude\"]].values.T))"
   ]
  },
  {
   "cell_type": "code",
   "execution_count": null,
   "metadata": {
    "ExecuteTime": {
     "end_time": "2019-11-26T10:49:06.586459Z",
     "start_time": "2019-11-26T10:49:06.566356Z"
    }
   },
   "outputs": [],
   "source": [
    "?gd.plot"
   ]
  },
  {
   "cell_type": "code",
   "execution_count": null,
   "metadata": {
    "ExecuteTime": {
     "end_time": "2019-11-26T10:49:59.706290Z",
     "start_time": "2019-11-26T10:49:58.971681Z"
    }
   },
   "outputs": [],
   "source": [
    "gd.iloc[:1000].plot(figsize=(12,12), markersize=1)"
   ]
  },
  {
   "cell_type": "code",
   "execution_count": null,
   "metadata": {
    "ExecuteTime": {
     "end_time": "2019-11-26T10:52:10.972681Z",
     "start_time": "2019-11-26T10:52:07.407667Z"
    }
   },
   "outputs": [],
   "source": [
    "gd[gd.within(box(-0.2, 51.5, -0.18, 51.52))]"
   ]
  },
  {
   "cell_type": "code",
   "execution_count": null,
   "metadata": {},
   "outputs": [],
   "source": []
  }
 ],
 "metadata": {
  "kernelspec": {
   "display_name": "Python 3",
   "language": "python",
   "name": "python3"
  },
  "language_info": {
   "codemirror_mode": {
    "name": "ipython",
    "version": 3
   },
   "file_extension": ".py",
   "mimetype": "text/x-python",
   "name": "python",
   "nbconvert_exporter": "python",
   "pygments_lexer": "ipython3",
   "version": "3.7.0b4"
  }
 },
 "nbformat": 4,
 "nbformat_minor": 2
}
