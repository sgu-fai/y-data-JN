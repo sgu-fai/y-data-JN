{
 "cells": [
  {
   "cell_type": "markdown",
   "metadata": {},
   "source": [
    "# Advanced NumPy"
   ]
  },
  {
   "cell_type": "markdown",
   "metadata": {},
   "source": [
    "## `numpy` internals"
   ]
  },
  {
   "cell_type": "code",
   "execution_count": null,
   "metadata": {
    "ExecuteTime": {
     "end_time": "2019-10-29T10:23:25.155496Z",
     "start_time": "2019-10-29T10:23:25.006582Z"
    }
   },
   "outputs": [],
   "source": [
    "import numpy as np\n",
    "np.random.seed(2374)"
   ]
  },
  {
   "cell_type": "code",
   "execution_count": null,
   "metadata": {
    "ExecuteTime": {
     "end_time": "2019-10-29T10:23:25.213287Z",
     "start_time": "2019-10-29T10:23:25.209378Z"
    }
   },
   "outputs": [],
   "source": [
    "arr = np.random.randint(10, size=(8,8))"
   ]
  },
  {
   "cell_type": "code",
   "execution_count": null,
   "metadata": {
    "ExecuteTime": {
     "end_time": "2019-10-29T10:23:25.412890Z",
     "start_time": "2019-10-29T10:23:25.388264Z"
    }
   },
   "outputs": [],
   "source": [
    "arr.itemsize, arr.dtype"
   ]
  },
  {
   "cell_type": "code",
   "execution_count": null,
   "metadata": {
    "ExecuteTime": {
     "end_time": "2019-10-29T10:23:25.580445Z",
     "start_time": "2019-10-29T10:23:25.573321Z"
    }
   },
   "outputs": [],
   "source": [
    "arr"
   ]
  },
  {
   "cell_type": "code",
   "execution_count": null,
   "metadata": {
    "ExecuteTime": {
     "end_time": "2019-10-29T10:23:25.735076Z",
     "start_time": "2019-10-29T10:23:25.727173Z"
    }
   },
   "outputs": [],
   "source": [
    "# How to step through array memory?\n",
    "\n",
    "arr.strides"
   ]
  },
  {
   "cell_type": "code",
   "execution_count": null,
   "metadata": {
    "ExecuteTime": {
     "end_time": "2019-10-29T10:23:27.305832Z",
     "start_time": "2019-10-29T10:23:27.298547Z"
    }
   },
   "outputs": [],
   "source": [
    "arr.strides[0] == arr.shape[1] * arr.itemsize"
   ]
  },
  {
   "cell_type": "code",
   "execution_count": null,
   "metadata": {
    "ExecuteTime": {
     "end_time": "2019-10-29T10:23:27.538664Z",
     "start_time": "2019-10-29T10:23:27.533892Z"
    }
   },
   "outputs": [],
   "source": [
    "# But what about views?\n",
    "\n",
    "arr_view = arr[::2, 1:]"
   ]
  },
  {
   "cell_type": "code",
   "execution_count": null,
   "metadata": {
    "ExecuteTime": {
     "end_time": "2019-10-29T10:23:29.743353Z",
     "start_time": "2019-10-29T10:23:29.738407Z"
    }
   },
   "outputs": [],
   "source": [
    "arr"
   ]
  },
  {
   "cell_type": "code",
   "execution_count": null,
   "metadata": {
    "ExecuteTime": {
     "end_time": "2019-10-29T10:23:30.714197Z",
     "start_time": "2019-10-29T10:23:30.707980Z"
    }
   },
   "outputs": [],
   "source": [
    "arr_view"
   ]
  },
  {
   "cell_type": "code",
   "execution_count": null,
   "metadata": {
    "ExecuteTime": {
     "end_time": "2019-10-29T10:23:32.079929Z",
     "start_time": "2019-10-29T10:23:32.073951Z"
    }
   },
   "outputs": [],
   "source": [
    "arr.flags"
   ]
  },
  {
   "cell_type": "code",
   "execution_count": null,
   "metadata": {
    "ExecuteTime": {
     "end_time": "2019-10-29T10:23:32.229506Z",
     "start_time": "2019-10-29T10:23:32.221398Z"
    }
   },
   "outputs": [],
   "source": [
    "arr_view.flags"
   ]
  },
  {
   "cell_type": "code",
   "execution_count": null,
   "metadata": {
    "ExecuteTime": {
     "end_time": "2019-10-29T10:23:35.424721Z",
     "start_time": "2019-10-29T10:23:35.418945Z"
    }
   },
   "outputs": [],
   "source": [
    "# View always has base array\n",
    "arr_view.base is arr"
   ]
  },
  {
   "cell_type": "code",
   "execution_count": null,
   "metadata": {
    "ExecuteTime": {
     "end_time": "2019-10-29T10:23:56.434909Z",
     "start_time": "2019-10-29T10:23:56.429145Z"
    }
   },
   "outputs": [],
   "source": [
    "arr_view.strides"
   ]
  },
  {
   "cell_type": "code",
   "execution_count": null,
   "metadata": {
    "ExecuteTime": {
     "end_time": "2019-10-29T10:23:56.631913Z",
     "start_time": "2019-10-29T10:23:56.623154Z"
    }
   },
   "outputs": [],
   "source": [
    "arr_view.strides[0] == arr_view.shape[1] * arr_view.itemsize"
   ]
  },
  {
   "cell_type": "code",
   "execution_count": null,
   "metadata": {
    "ExecuteTime": {
     "end_time": "2019-10-29T10:23:56.789260Z",
     "start_time": "2019-10-29T10:23:56.781029Z"
    }
   },
   "outputs": [],
   "source": [
    "np.byte_bounds(arr_view)[0] - np.byte_bounds(arr)[0]"
   ]
  },
  {
   "cell_type": "code",
   "execution_count": null,
   "metadata": {
    "ExecuteTime": {
     "end_time": "2019-10-29T10:23:56.960934Z",
     "start_time": "2019-10-29T10:23:56.951172Z"
    }
   },
   "outputs": [],
   "source": [
    "np.byte_bounds(arr_view)[1] - np.byte_bounds(arr)[1]"
   ]
  },
  {
   "cell_type": "code",
   "execution_count": null,
   "metadata": {
    "ExecuteTime": {
     "end_time": "2019-10-29T10:23:57.108500Z",
     "start_time": "2019-10-29T10:23:57.100209Z"
    }
   },
   "outputs": [],
   "source": [
    "arr.T.strides"
   ]
  },
  {
   "cell_type": "code",
   "execution_count": null,
   "metadata": {
    "ExecuteTime": {
     "end_time": "2019-10-29T10:23:57.295851Z",
     "start_time": "2019-10-29T10:23:57.285895Z"
    }
   },
   "outputs": [],
   "source": [
    "arr.T.base is arr"
   ]
  },
  {
   "cell_type": "markdown",
   "metadata": {},
   "source": [
    "## Cache effects"
   ]
  },
  {
   "cell_type": "code",
   "execution_count": null,
   "metadata": {
    "ExecuteTime": {
     "end_time": "2019-10-29T10:27:15.251823Z",
     "start_time": "2019-10-29T10:27:15.230994Z"
    }
   },
   "outputs": [],
   "source": [
    "large_arr = np.random.randint(100, size=(1000000,))"
   ]
  },
  {
   "cell_type": "code",
   "execution_count": null,
   "metadata": {
    "ExecuteTime": {
     "end_time": "2019-10-29T10:27:15.549514Z",
     "start_time": "2019-10-29T10:27:15.427200Z"
    }
   },
   "outputs": [],
   "source": [
    "STEP = 8\n",
    "larger_arr = np.random.randint(100, size=(1000000*STEP,))"
   ]
  },
  {
   "cell_type": "code",
   "execution_count": null,
   "metadata": {
    "ExecuteTime": {
     "end_time": "2019-10-29T10:27:16.225445Z",
     "start_time": "2019-10-29T10:27:15.952504Z"
    }
   },
   "outputs": [],
   "source": [
    "%timeit -n 100 -r 3 large_arr.sum()"
   ]
  },
  {
   "cell_type": "code",
   "execution_count": null,
   "metadata": {
    "ExecuteTime": {
     "end_time": "2019-10-29T10:27:17.735269Z",
     "start_time": "2019-10-29T10:27:16.354190Z"
    }
   },
   "outputs": [],
   "source": [
    "%timeit -n 100 -r 3 larger_arr[::STEP].sum()"
   ]
  },
  {
   "cell_type": "code",
   "execution_count": null,
   "metadata": {
    "ExecuteTime": {
     "end_time": "2019-10-29T10:27:20.287730Z",
     "start_time": "2019-10-29T10:27:20.284323Z"
    }
   },
   "outputs": [],
   "source": [
    "del large_arr, larger_arr"
   ]
  },
  {
   "cell_type": "code",
   "execution_count": null,
   "metadata": {
    "ExecuteTime": {
     "end_time": "2019-10-29T10:27:20.778037Z",
     "start_time": "2019-10-29T10:27:20.761262Z"
    }
   },
   "outputs": [],
   "source": [
    "large_arr = np.random.randint(100, size=(1000,1000))"
   ]
  },
  {
   "cell_type": "code",
   "execution_count": null,
   "metadata": {
    "ExecuteTime": {
     "end_time": "2019-10-29T10:27:25.354993Z",
     "start_time": "2019-10-29T10:27:25.202305Z"
    }
   },
   "outputs": [],
   "source": [
    "%timeit -n 50 -r 3 large_arr.sum(axis=1)"
   ]
  },
  {
   "cell_type": "code",
   "execution_count": null,
   "metadata": {
    "ExecuteTime": {
     "end_time": "2019-10-29T10:27:28.801286Z",
     "start_time": "2019-10-29T10:27:28.605035Z"
    }
   },
   "outputs": [],
   "source": [
    "%timeit -n 50 -r 3 large_arr.T.sum(axis=1)"
   ]
  },
  {
   "cell_type": "code",
   "execution_count": null,
   "metadata": {
    "ExecuteTime": {
     "end_time": "2019-10-29T10:27:33.111216Z",
     "start_time": "2019-10-29T10:27:32.952035Z"
    }
   },
   "outputs": [],
   "source": [
    "%timeit -n 50 -r 3 large_arr.T.sum(axis=0)"
   ]
  },
  {
   "cell_type": "code",
   "execution_count": null,
   "metadata": {
    "ExecuteTime": {
     "end_time": "2019-10-29T10:27:36.126951Z",
     "start_time": "2019-10-29T10:27:36.120716Z"
    }
   },
   "outputs": [],
   "source": [
    "large_arr.T.base is large_arr"
   ]
  },
  {
   "cell_type": "markdown",
   "metadata": {},
   "source": [
    "## Views and copies"
   ]
  },
  {
   "cell_type": "code",
   "execution_count": null,
   "metadata": {
    "ExecuteTime": {
     "end_time": "2019-10-29T10:27:40.498776Z",
     "start_time": "2019-10-29T10:27:40.235026Z"
    }
   },
   "outputs": [],
   "source": [
    "%timeit -n 100 -r 3 large_arr_copy = large_arr.copy()"
   ]
  },
  {
   "cell_type": "code",
   "execution_count": null,
   "metadata": {
    "ExecuteTime": {
     "end_time": "2019-10-29T10:27:45.813043Z",
     "start_time": "2019-10-29T10:27:45.410557Z"
    }
   },
   "outputs": [],
   "source": [
    "%timeit -n 100 -r 3 large_arr + 1"
   ]
  },
  {
   "cell_type": "code",
   "execution_count": null,
   "metadata": {
    "ExecuteTime": {
     "end_time": "2019-10-29T10:27:53.541417Z",
     "start_time": "2019-10-29T10:27:53.133034Z"
    }
   },
   "outputs": [],
   "source": [
    "%timeit -n 100 -r 3 np.add(large_arr, 1)"
   ]
  },
  {
   "cell_type": "code",
   "execution_count": null,
   "metadata": {
    "ExecuteTime": {
     "end_time": "2019-10-29T10:27:54.605300Z",
     "start_time": "2019-10-29T10:27:54.348379Z"
    }
   },
   "outputs": [],
   "source": [
    "%timeit -n 100 -r 3 np.add(large_arr, 1, out=large_arr)"
   ]
  },
  {
   "cell_type": "code",
   "execution_count": null,
   "metadata": {
    "ExecuteTime": {
     "end_time": "2019-10-29T10:27:59.543038Z",
     "start_time": "2019-10-29T10:27:59.534886Z"
    }
   },
   "outputs": [],
   "source": [
    "np.add(large_arr, 1, out=large_arr)"
   ]
  },
  {
   "cell_type": "markdown",
   "metadata": {},
   "source": [
    "### Beware!"
   ]
  },
  {
   "cell_type": "code",
   "execution_count": null,
   "metadata": {
    "ExecuteTime": {
     "end_time": "2019-10-29T10:28:13.290665Z",
     "start_time": "2019-10-29T10:28:13.285500Z"
    }
   },
   "outputs": [],
   "source": [
    "A = np.random.randint(10, size=(10,10))\n",
    "B = np.random.randint(10, size=(10,))"
   ]
  },
  {
   "cell_type": "code",
   "execution_count": null,
   "metadata": {
    "ExecuteTime": {
     "end_time": "2019-10-29T10:28:13.725405Z",
     "start_time": "2019-10-29T10:28:13.720715Z"
    }
   },
   "outputs": [],
   "source": [
    "A"
   ]
  },
  {
   "cell_type": "code",
   "execution_count": null,
   "metadata": {
    "ExecuteTime": {
     "end_time": "2019-10-29T10:28:14.316292Z",
     "start_time": "2019-10-29T10:28:14.310407Z"
    }
   },
   "outputs": [],
   "source": [
    "B"
   ]
  },
  {
   "cell_type": "code",
   "execution_count": null,
   "metadata": {
    "ExecuteTime": {
     "end_time": "2019-10-29T10:28:16.545793Z",
     "start_time": "2019-10-29T10:28:16.540983Z"
    }
   },
   "outputs": [],
   "source": [
    "A+B"
   ]
  },
  {
   "cell_type": "code",
   "execution_count": null,
   "metadata": {
    "ExecuteTime": {
     "end_time": "2019-10-29T10:28:17.226217Z",
     "start_time": "2019-10-29T10:28:17.219554Z"
    }
   },
   "outputs": [],
   "source": [
    "np.add(A, B)"
   ]
  },
  {
   "cell_type": "code",
   "execution_count": null,
   "metadata": {
    "ExecuteTime": {
     "end_time": "2019-10-29T10:28:19.430507Z",
     "start_time": "2019-10-29T10:28:19.424669Z"
    }
   },
   "outputs": [],
   "source": [
    "np.add(A, B, out=A)"
   ]
  },
  {
   "cell_type": "code",
   "execution_count": null,
   "metadata": {
    "ExecuteTime": {
     "end_time": "2019-10-29T10:38:33.460113Z",
     "start_time": "2019-10-29T10:38:33.443956Z"
    }
   },
   "outputs": [],
   "source": [
    "np.add(A, B, out=B)"
   ]
  },
  {
   "cell_type": "markdown",
   "metadata": {},
   "source": [
    "# Broadcasting"
   ]
  },
  {
   "cell_type": "code",
   "execution_count": null,
   "metadata": {
    "ExecuteTime": {
     "end_time": "2019-10-29T10:34:29.366771Z",
     "start_time": "2019-10-29T10:34:29.360627Z"
    }
   },
   "outputs": [],
   "source": [
    "arr_2d = np.random.randint(10, size=(10, 3))\n",
    "arr_1d_1 = np.random.randint(10, size=(3, ))\n",
    "arr_1d_2 = np.random.randint(10, size=(10, ))"
   ]
  },
  {
   "cell_type": "code",
   "execution_count": null,
   "metadata": {
    "ExecuteTime": {
     "end_time": "2019-10-29T10:34:48.995107Z",
     "start_time": "2019-10-29T10:34:48.988445Z"
    }
   },
   "outputs": [],
   "source": [
    "arr_2d"
   ]
  },
  {
   "cell_type": "code",
   "execution_count": null,
   "metadata": {
    "ExecuteTime": {
     "end_time": "2019-10-29T10:34:49.153312Z",
     "start_time": "2019-10-29T10:34:49.140170Z"
    }
   },
   "outputs": [],
   "source": [
    "arr_1d_1"
   ]
  },
  {
   "cell_type": "code",
   "execution_count": null,
   "metadata": {
    "ExecuteTime": {
     "end_time": "2019-10-29T10:34:49.308613Z",
     "start_time": "2019-10-29T10:34:49.303259Z"
    }
   },
   "outputs": [],
   "source": [
    "arr_1d_2"
   ]
  },
  {
   "cell_type": "code",
   "execution_count": null,
   "metadata": {
    "ExecuteTime": {
     "end_time": "2019-10-29T10:35:00.443896Z",
     "start_time": "2019-10-29T10:35:00.434261Z"
    }
   },
   "outputs": [],
   "source": [
    "(arr_2d + arr_1d_1) - arr_2d"
   ]
  },
  {
   "cell_type": "code",
   "execution_count": null,
   "metadata": {
    "ExecuteTime": {
     "end_time": "2019-10-29T10:35:39.922387Z",
     "start_time": "2019-10-29T10:35:39.910643Z"
    }
   },
   "outputs": [],
   "source": [
    "arr_2d + arr_1d_1"
   ]
  },
  {
   "cell_type": "code",
   "execution_count": null,
   "metadata": {
    "ExecuteTime": {
     "end_time": "2019-10-29T10:35:52.031260Z",
     "start_time": "2019-10-29T10:35:52.021163Z"
    }
   },
   "outputs": [],
   "source": [
    "arr_2d + arr_1d_2"
   ]
  },
  {
   "cell_type": "code",
   "execution_count": null,
   "metadata": {
    "ExecuteTime": {
     "end_time": "2019-10-29T10:35:57.369836Z",
     "start_time": "2019-10-29T10:35:57.363794Z"
    }
   },
   "outputs": [],
   "source": [
    "(arr_2d + np.expand_dims(arr_1d_2, axis=1)) - arr_2d"
   ]
  },
  {
   "cell_type": "code",
   "execution_count": null,
   "metadata": {
    "ExecuteTime": {
     "end_time": "2019-10-29T10:36:31.489346Z",
     "start_time": "2019-10-29T10:36:31.484837Z"
    }
   },
   "outputs": [],
   "source": [
    "arr_3d = np.random.randint(10, size=(7, 10, 3))"
   ]
  },
  {
   "cell_type": "code",
   "execution_count": null,
   "metadata": {
    "ExecuteTime": {
     "end_time": "2019-10-29T10:36:36.715866Z",
     "start_time": "2019-10-29T10:36:36.711251Z"
    }
   },
   "outputs": [],
   "source": [
    "arr_1d_1.shape"
   ]
  },
  {
   "cell_type": "code",
   "execution_count": null,
   "metadata": {
    "ExecuteTime": {
     "end_time": "2019-10-29T10:36:42.454211Z",
     "start_time": "2019-10-29T10:36:42.448485Z"
    }
   },
   "outputs": [],
   "source": [
    "(arr_3d + arr_1d_1) - arr_3d"
   ]
  },
  {
   "cell_type": "code",
   "execution_count": null,
   "metadata": {
    "ExecuteTime": {
     "end_time": "2019-10-29T10:36:56.899115Z",
     "start_time": "2019-10-29T10:36:56.894535Z"
    }
   },
   "outputs": [],
   "source": [
    "arr_3d.shape, arr_1d_2.shape"
   ]
  },
  {
   "cell_type": "code",
   "execution_count": null,
   "metadata": {
    "ExecuteTime": {
     "end_time": "2019-10-29T10:37:12.965958Z",
     "start_time": "2019-10-29T10:37:12.960463Z"
    }
   },
   "outputs": [],
   "source": [
    "arr_1d_2"
   ]
  },
  {
   "cell_type": "code",
   "execution_count": null,
   "metadata": {
    "ExecuteTime": {
     "end_time": "2019-10-29T10:37:03.772260Z",
     "start_time": "2019-10-29T10:37:03.765671Z"
    }
   },
   "outputs": [],
   "source": [
    "(arr_3d + np.expand_dims(arr_1d_2, axis=1)) - arr_3d"
   ]
  },
  {
   "cell_type": "markdown",
   "metadata": {
    "ExecuteTime": {
     "end_time": "2019-10-29T10:33:41.172751Z",
     "start_time": "2019-10-29T10:33:41.165332Z"
    }
   },
   "source": [
    "Broadcasting rules:\n",
    "    \n",
    "- All input arrays with ndim smaller than the input array of largest ndim, have 1’s prepended to their shapes.\n",
    "- The size in each dimension of the output shape is the maximum of all the input sizes in that dimension.\n",
    "- An input can be used in the calculation if its size in a particular dimension either matches the output size in that dimension, or has value exactly 1.\n",
    "- If an input has a dimension size of 1 in its shape, the first data entry in that dimension will be used for all calculations along that dimension. In other words, the stepping machinery of the ufunc will simply not step along that dimension (the stride will be 0 for that dimension)."
   ]
  },
  {
   "cell_type": "markdown",
   "metadata": {},
   "source": [
    "## General rules"
   ]
  },
  {
   "cell_type": "markdown",
   "metadata": {},
   "source": [
    "### Avoid loops"
   ]
  },
  {
   "cell_type": "code",
   "execution_count": null,
   "metadata": {
    "ExecuteTime": {
     "end_time": "2019-10-29T10:29:47.900013Z",
     "start_time": "2019-10-29T10:29:47.892900Z"
    }
   },
   "outputs": [],
   "source": [
    "def square_loop(a):\n",
    "    \"\"\"Calculate square of an array in loop. We assume 1D array here.\"\"\"\n",
    "\n",
    "    result = np.zeros_like(a)\n",
    "    for i in range(a.shape[0]):\n",
    "        result[i] = a[i]*a[i]\n",
    "    return result"
   ]
  },
  {
   "cell_type": "code",
   "execution_count": null,
   "metadata": {
    "ExecuteTime": {
     "end_time": "2019-10-29T09:52:26.540004Z",
     "start_time": "2019-10-29T09:52:26.533375Z"
    }
   },
   "outputs": [],
   "source": [
    "large_arr = np.random.randint(100, size=(100000,))"
   ]
  },
  {
   "cell_type": "code",
   "execution_count": null,
   "metadata": {
    "ExecuteTime": {
     "end_time": "2019-10-29T09:52:30.889230Z",
     "start_time": "2019-10-29T09:52:27.457786Z"
    }
   },
   "outputs": [],
   "source": [
    "%timeit -n 10 -r 3 square_loop(large_arr)"
   ]
  },
  {
   "cell_type": "code",
   "execution_count": null,
   "metadata": {
    "ExecuteTime": {
     "end_time": "2019-10-29T09:52:30.912190Z",
     "start_time": "2019-10-29T09:52:30.894347Z"
    }
   },
   "outputs": [],
   "source": [
    "%timeit -n 10 -r 3 np.square(large_arr)"
   ]
  },
  {
   "cell_type": "markdown",
   "metadata": {},
   "source": [
    "### Use broadcasting"
   ]
  },
  {
   "cell_type": "code",
   "execution_count": null,
   "metadata": {
    "ExecuteTime": {
     "end_time": "2019-10-29T09:52:35.714486Z",
     "start_time": "2019-10-29T09:52:35.708263Z"
    }
   },
   "outputs": [],
   "source": [
    "def row_loop(a, b):\n",
    "    \"\"\"Calculate square of an array in loop. We assume 1D array here.\"\"\"\n",
    "\n",
    "    result = np.zeros_like(a)\n",
    "    for i in range(a.shape[0]):\n",
    "        result[i] = a[i] + b\n",
    "    return result"
   ]
  },
  {
   "cell_type": "code",
   "execution_count": null,
   "metadata": {
    "ExecuteTime": {
     "end_time": "2019-10-29T09:52:37.896100Z",
     "start_time": "2019-10-29T09:52:37.860437Z"
    }
   },
   "outputs": [],
   "source": [
    "large_arr = np.random.randint(100, size=(1000,1000))\n",
    "large_b = np.random.randint(100, size=(1000,))"
   ]
  },
  {
   "cell_type": "code",
   "execution_count": null,
   "metadata": {
    "ExecuteTime": {
     "end_time": "2019-10-29T09:52:42.414910Z",
     "start_time": "2019-10-29T09:52:42.142794Z"
    }
   },
   "outputs": [],
   "source": [
    "%timeit -n 10 -r 3 row_loop(large_arr, large_b)"
   ]
  },
  {
   "cell_type": "code",
   "execution_count": null,
   "metadata": {
    "ExecuteTime": {
     "end_time": "2019-10-29T09:52:48.313672Z",
     "start_time": "2019-10-29T09:52:48.213957Z"
    }
   },
   "outputs": [],
   "source": [
    "%timeit -n 10 -r 3 np.add(large_arr, large_b)"
   ]
  },
  {
   "cell_type": "code",
   "execution_count": null,
   "metadata": {
    "ExecuteTime": {
     "end_time": "2019-10-29T09:52:51.869979Z",
     "start_time": "2019-10-29T09:52:51.777490Z"
    }
   },
   "outputs": [],
   "source": [
    "%timeit -n 10 -r 3 np.add(large_arr, large_b, out=large_arr)"
   ]
  },
  {
   "cell_type": "code",
   "execution_count": null,
   "metadata": {
    "ExecuteTime": {
     "end_time": "2019-10-29T09:52:57.400563Z",
     "start_time": "2019-10-29T09:52:57.391161Z"
    }
   },
   "outputs": [],
   "source": [
    "np.add(large_arr, large_b)"
   ]
  },
  {
   "cell_type": "code",
   "execution_count": null,
   "metadata": {
    "ExecuteTime": {
     "end_time": "2019-10-29T09:52:58.140754Z",
     "start_time": "2019-10-29T09:52:58.110362Z"
    }
   },
   "outputs": [],
   "source": [
    "row_loop(large_arr, large_b)"
   ]
  },
  {
   "cell_type": "code",
   "execution_count": null,
   "metadata": {},
   "outputs": [],
   "source": [
    "np.expand_dims(np.arange(10), axis=0) + np.expand_dims(np.arange(10), axis=-1)"
   ]
  },
  {
   "cell_type": "markdown",
   "metadata": {},
   "source": [
    "### Beware!"
   ]
  },
  {
   "cell_type": "code",
   "execution_count": null,
   "metadata": {
    "ExecuteTime": {
     "end_time": "2019-10-29T10:28:13.290665Z",
     "start_time": "2019-10-29T10:28:13.285500Z"
    }
   },
   "outputs": [],
   "source": [
    "A = np.random.randint(10, size=(10,10))\n",
    "B = np.random.randint(10, size=(10,))"
   ]
  },
  {
   "cell_type": "code",
   "execution_count": null,
   "metadata": {
    "ExecuteTime": {
     "end_time": "2019-10-29T10:28:13.725405Z",
     "start_time": "2019-10-29T10:28:13.720715Z"
    }
   },
   "outputs": [],
   "source": [
    "A"
   ]
  },
  {
   "cell_type": "code",
   "execution_count": null,
   "metadata": {
    "ExecuteTime": {
     "end_time": "2019-10-29T10:28:14.316292Z",
     "start_time": "2019-10-29T10:28:14.310407Z"
    }
   },
   "outputs": [],
   "source": [
    "B"
   ]
  },
  {
   "cell_type": "code",
   "execution_count": null,
   "metadata": {
    "ExecuteTime": {
     "end_time": "2019-10-29T10:28:16.545793Z",
     "start_time": "2019-10-29T10:28:16.540983Z"
    }
   },
   "outputs": [],
   "source": [
    "A+B"
   ]
  },
  {
   "cell_type": "code",
   "execution_count": null,
   "metadata": {
    "ExecuteTime": {
     "end_time": "2019-10-29T10:28:17.226217Z",
     "start_time": "2019-10-29T10:28:17.219554Z"
    }
   },
   "outputs": [],
   "source": [
    "np.add(A, B)"
   ]
  },
  {
   "cell_type": "code",
   "execution_count": null,
   "metadata": {
    "ExecuteTime": {
     "end_time": "2019-10-29T10:28:19.430507Z",
     "start_time": "2019-10-29T10:28:19.424669Z"
    }
   },
   "outputs": [],
   "source": [
    "np.add(A, B, out=A)"
   ]
  },
  {
   "cell_type": "code",
   "execution_count": null,
   "metadata": {
    "ExecuteTime": {
     "end_time": "2019-10-29T10:38:33.460113Z",
     "start_time": "2019-10-29T10:38:33.443956Z"
    }
   },
   "outputs": [],
   "source": [
    "np.add(A, B, out=B)"
   ]
  },
  {
   "cell_type": "markdown",
   "metadata": {},
   "source": [
    "# Linear algebra basics"
   ]
  },
  {
   "cell_type": "code",
   "execution_count": null,
   "metadata": {
    "ExecuteTime": {
     "end_time": "2019-10-29T10:38:21.615731Z",
     "start_time": "2019-10-29T10:38:21.612021Z"
    }
   },
   "outputs": [],
   "source": [
    "v = np.random.randint(10, size=(3,))\n",
    "m = np.random.randint(10, size=(5, 3))"
   ]
  },
  {
   "cell_type": "code",
   "execution_count": null,
   "metadata": {
    "ExecuteTime": {
     "end_time": "2019-10-29T10:38:32.313763Z",
     "start_time": "2019-10-29T10:38:32.309297Z"
    }
   },
   "outputs": [],
   "source": [
    "m"
   ]
  },
  {
   "cell_type": "code",
   "execution_count": null,
   "metadata": {
    "ExecuteTime": {
     "end_time": "2019-10-29T10:38:45.791812Z",
     "start_time": "2019-10-29T10:38:45.786767Z"
    }
   },
   "outputs": [],
   "source": [
    "v"
   ]
  },
  {
   "cell_type": "markdown",
   "metadata": {},
   "source": [
    "## Dot products, determinants, traces"
   ]
  },
  {
   "cell_type": "code",
   "execution_count": null,
   "metadata": {
    "ExecuteTime": {
     "end_time": "2019-10-29T10:39:36.845723Z",
     "start_time": "2019-10-29T10:39:36.840506Z"
    }
   },
   "outputs": [],
   "source": [
    "np.dot(m, v)"
   ]
  },
  {
   "cell_type": "code",
   "execution_count": null,
   "metadata": {
    "ExecuteTime": {
     "end_time": "2019-10-29T10:39:39.291247Z",
     "start_time": "2019-10-29T10:39:39.283941Z"
    }
   },
   "outputs": [],
   "source": [
    "np.dot(m, v.reshape((3,-1)))"
   ]
  },
  {
   "cell_type": "code",
   "execution_count": null,
   "metadata": {
    "ExecuteTime": {
     "end_time": "2019-10-29T10:39:46.444819Z",
     "start_time": "2019-10-29T10:39:46.437463Z"
    }
   },
   "outputs": [],
   "source": [
    "np.dot(v, m.T)"
   ]
  },
  {
   "cell_type": "code",
   "execution_count": null,
   "metadata": {
    "ExecuteTime": {
     "end_time": "2019-10-29T10:41:09.498360Z",
     "start_time": "2019-10-29T10:41:09.492570Z"
    }
   },
   "outputs": [],
   "source": [
    "s = np.random.randint(10, size=(3,3))\n",
    "s_inv = np.linalg.inv(s)"
   ]
  },
  {
   "cell_type": "code",
   "execution_count": null,
   "metadata": {
    "ExecuteTime": {
     "end_time": "2019-10-29T10:41:09.956575Z",
     "start_time": "2019-10-29T10:41:09.948656Z"
    }
   },
   "outputs": [],
   "source": [
    "s"
   ]
  },
  {
   "cell_type": "code",
   "execution_count": null,
   "metadata": {
    "ExecuteTime": {
     "end_time": "2019-10-29T10:41:10.406965Z",
     "start_time": "2019-10-29T10:41:10.400271Z"
    }
   },
   "outputs": [],
   "source": [
    "s_inv"
   ]
  },
  {
   "cell_type": "code",
   "execution_count": null,
   "metadata": {
    "ExecuteTime": {
     "end_time": "2019-10-29T10:41:14.838583Z",
     "start_time": "2019-10-29T10:41:14.831447Z"
    }
   },
   "outputs": [],
   "source": [
    "np.dot(s_inv, s)"
   ]
  },
  {
   "cell_type": "code",
   "execution_count": null,
   "metadata": {
    "ExecuteTime": {
     "end_time": "2019-10-29T10:41:30.858491Z",
     "start_time": "2019-10-29T10:41:30.847402Z"
    }
   },
   "outputs": [],
   "source": [
    "np.linalg.det(s), np.linalg.det(s_inv)"
   ]
  },
  {
   "cell_type": "code",
   "execution_count": null,
   "metadata": {
    "ExecuteTime": {
     "end_time": "2019-10-29T10:41:17.112704Z",
     "start_time": "2019-10-29T10:41:17.107020Z"
    }
   },
   "outputs": [],
   "source": [
    "np.trace(s), np.trace(s_inv)"
   ]
  },
  {
   "cell_type": "markdown",
   "metadata": {},
   "source": [
    "## Eigenvalues, eigenvectors"
   ]
  },
  {
   "cell_type": "code",
   "execution_count": null,
   "metadata": {
    "ExecuteTime": {
     "end_time": "2019-10-29T10:42:29.275195Z",
     "start_time": "2019-10-29T10:42:29.262207Z"
    }
   },
   "outputs": [],
   "source": [
    "evals, evectors = np.linalg.eig(s)"
   ]
  },
  {
   "cell_type": "code",
   "execution_count": null,
   "metadata": {
    "ExecuteTime": {
     "end_time": "2019-10-29T10:42:36.433478Z",
     "start_time": "2019-10-29T10:42:36.426655Z"
    }
   },
   "outputs": [],
   "source": [
    "evals.sum()"
   ]
  },
  {
   "cell_type": "code",
   "execution_count": null,
   "metadata": {
    "ExecuteTime": {
     "end_time": "2019-10-29T10:42:47.523246Z",
     "start_time": "2019-10-29T10:42:47.518885Z"
    }
   },
   "outputs": [],
   "source": [
    "s_diagonal = np.diag(evals)"
   ]
  },
  {
   "cell_type": "code",
   "execution_count": null,
   "metadata": {
    "ExecuteTime": {
     "end_time": "2019-10-29T10:43:20.592110Z",
     "start_time": "2019-10-29T10:43:20.586763Z"
    }
   },
   "outputs": [],
   "source": [
    "s_diagonal"
   ]
  },
  {
   "cell_type": "markdown",
   "metadata": {},
   "source": [
    "And now our matrix can be decomposed as:\n",
    "    \n",
    "$$\n",
    "s = VEV{-1}\n",
    "$$\n",
    "\n",
    "where $E$ is a diagonal matrix (with eigenvalues on main diagonal), and $V$ is a matrix where columns are eigenvectors."
   ]
  },
  {
   "cell_type": "code",
   "execution_count": null,
   "metadata": {
    "ExecuteTime": {
     "end_time": "2019-10-29T10:44:55.904960Z",
     "start_time": "2019-10-29T10:44:55.897422Z"
    }
   },
   "outputs": [],
   "source": [
    "np.dot(evectors, np.dot(s_diagonal, np.linalg.inv(evectors)))"
   ]
  },
  {
   "cell_type": "code",
   "execution_count": null,
   "metadata": {
    "ExecuteTime": {
     "end_time": "2019-10-29T10:44:02.207264Z",
     "start_time": "2019-10-29T10:44:02.201739Z"
    }
   },
   "outputs": [],
   "source": [
    "s"
   ]
  },
  {
   "cell_type": "code",
   "execution_count": null,
   "metadata": {},
   "outputs": [],
   "source": []
  }
 ],
 "metadata": {
  "@webio": {
   "lastCommId": null,
   "lastKernelId": null
  },
  "kernelspec": {
   "display_name": "Python 3 (ipykernel)",
   "language": "python",
   "name": "python3"
  },
  "language_info": {
   "codemirror_mode": {
    "name": "ipython",
    "version": 3
   },
   "file_extension": ".py",
   "mimetype": "text/x-python",
   "name": "python",
   "nbconvert_exporter": "python",
   "pygments_lexer": "ipython3",
   "version": "3.12.7"
  }
 },
 "nbformat": 4,
 "nbformat_minor": 4
}
