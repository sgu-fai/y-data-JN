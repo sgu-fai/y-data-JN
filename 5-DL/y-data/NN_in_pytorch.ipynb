{
 "cells": [
  {
   "cell_type": "markdown",
   "metadata": {},
   "source": [
    "# Neural Network using PyTorch"
   ]
  },
  {
   "cell_type": "markdown",
   "metadata": {},
   "source": [
    "In this exercise, you will build a neural network using PyTorch, and apply it to a dataset. Our goal in this exercise is not necessarily to obtain the best results on the dataset. We care more about understanding the different parameters, getting a hands-on experience training networks, and monitoring and debugging them. For this reason, I actually recommend that you don’t use a GPU, and run the code on your local machine, for simpler debugging.\n",
    "\n",
    "\n",
    "You can get relevant code snippets from [the PyTorch documentation](https://pytorch.org/tutorials/beginner/blitz/cifar10_tutorial.html) or other sources online. "
   ]
  },
  {
   "cell_type": "markdown",
   "metadata": {},
   "source": [
    "## Dataset\n",
    "We will use the CIFAR-10 dataset."
   ]
  },
  {
   "cell_type": "code",
   "execution_count": 65,
   "metadata": {
    "ExecuteTime": {
     "end_time": "2020-03-12T03:22:05.577442Z",
     "start_time": "2020-03-12T03:22:04.944943Z"
    }
   },
   "outputs": [],
   "source": [
    "import torch\n",
    "import torchvision\n",
    "import torchvision.transforms as transforms\n",
    "%matplotlib inline"
   ]
  },
  {
   "cell_type": "code",
   "execution_count": 66,
   "metadata": {
    "ExecuteTime": {
     "end_time": "2020-03-12T03:22:07.447520Z",
     "start_time": "2020-03-12T03:22:05.580433Z"
    },
    "scrolled": true
   },
   "outputs": [
    {
     "name": "stdout",
     "output_type": "stream",
     "text": [
      "Files already downloaded and verified\n",
      "Files already downloaded and verified\n"
     ]
    }
   ],
   "source": [
    "transform = transforms.Compose(\n",
    "    [transforms.ToTensor(),\n",
    "     transforms.Normalize((0.5, 0.5, 0.5), (0.5, 0.5, 0.5))])\n",
    "\n",
    "trainset = torchvision.datasets.CIFAR10(root='./data', train=True,\n",
    "                                        download=True, transform=transform)\n",
    "trainloader = torch.utils.data.DataLoader(trainset, batch_size=4,\n",
    "                                          shuffle=True, num_workers=2)\n",
    "\n",
    "testset = torchvision.datasets.CIFAR10(root='./data', train=False,\n",
    "                                       download=True, transform=transform)\n",
    "testloader = torch.utils.data.DataLoader(testset, batch_size=4,\n",
    "                                         shuffle=False, num_workers=2)\n",
    "\n",
    "classes = ('plane', 'car', 'bird', 'cat',\n",
    "           'deer', 'dog', 'frog', 'horse', 'ship', 'truck')"
   ]
  },
  {
   "cell_type": "code",
   "execution_count": 67,
   "metadata": {},
   "outputs": [
    {
     "name": "stdout",
     "output_type": "stream",
     "text": [
      "Dataset CIFAR10\n",
      "    Number of datapoints: 50000\n",
      "    Root location: ./data\n",
      "    Split: Train\n",
      "    StandardTransform\n",
      "Transform: Compose(\n",
      "               ToTensor()\n",
      "               Normalize(mean=(0.5, 0.5, 0.5), std=(0.5, 0.5, 0.5))\n",
      "           )\n"
     ]
    }
   ],
   "source": [
    "print(trainset)\n",
    "# print(classes)\n",
    "# print(trainset.classes)"
   ]
  },
  {
   "cell_type": "markdown",
   "metadata": {},
   "source": [
    "First, let's get to know the dataset. Plot a few examples of images and their labels:\n"
   ]
  },
  {
   "cell_type": "code",
   "execution_count": 70,
   "metadata": {},
   "outputs": [
    {
     "data": {
      "image/png": "[encoded data removed]",
      "text/plain": [
       "<Figure size 432x288 with 1 Axes>"
      ]
     },
     "metadata": {
      "needs_background": "light"
     },
     "output_type": "display_data"
    },
    {
     "name": "stdout",
     "output_type": "stream",
     "text": [
      "horse  deer  frog truck\n"
     ]
    }
   ],
   "source": [
    "import matplotlib.pyplot as plt\n",
    "import numpy as np\n",
    "\n",
    "def imshow(img):\n",
    "    img = img / 2 + 0.5     # unnormalize\n",
    "    npimg = img.numpy()\n",
    "    plt.imshow(np.transpose(npimg, (1, 2, 0)))\n",
    "    plt.show()\n",
    "\n",
    "\n",
    "# get some random training images\n",
    "dataiter = iter(trainloader)\n",
    "images, labels = dataiter.next()\n",
    "\n",
    "# show images\n",
    "imshow(torchvision.utils.make_grid(images))\n",
    "# print labels\n",
    "print(' '.join('%5s' % classes[labels[j]] for j in range(4)))"
   ]
  },
  {
   "cell_type": "markdown",
   "metadata": {},
   "source": [
    "Display the distribution of images per label."
   ]
  },
  {
   "cell_type": "code",
   "execution_count": null,
   "metadata": {},
   "outputs": [],
   "source": []
  },
  {
   "cell_type": "code",
   "execution_count": 5,
   "metadata": {
    "ExecuteTime": {
     "end_time": "2020-03-12T03:22:13.668056Z",
     "start_time": "2020-03-12T03:22:13.185607Z"
    }
   },
   "outputs": [
    {
     "data": {
      "text/plain": [
       "car      5000\n",
       "ship     5000\n",
       "frog     5000\n",
       "dog      5000\n",
       "bird     5000\n",
       "plane    5000\n",
       "cat      5000\n",
       "horse    5000\n",
       "deer     5000\n",
       "truck    5000\n",
       "dtype: int64"
      ]
     },
     "execution_count": 5,
     "metadata": {},
     "output_type": "execute_result"
    }
   ],
   "source": []
  },
  {
   "cell_type": "markdown",
   "metadata": {},
   "source": [
    "Is the data balanced? What effect is imbalanced data expected to have on your model's results? How can you work with imbalanced data?"
   ]
  },
  {
   "cell_type": "markdown",
   "metadata": {},
   "source": [
    "### Answer\n",
    "\n",
    "Yes, the data is balance, \n",
    "\n",
    "The unbalanced classes create a problem due to two main reasons:\n",
    "\n",
    "- We don’t get optimized results for the class which is unbalanced in real time as the model/algorithm never gets sufficient look at the underlying class\n",
    "\n",
    "- It creates a problem of making a validation or test sample as its difficult to have representation across classes in case number of observation for few classes is extremely less\n",
    "\n",
    "There are three main approaches to work with imbalanced data, each having its pros and cons:\n",
    "\n",
    "- Undersampling- Randomly delete the class which has sufficient observations so that the comparative ratio of two classes is significant in our data.Although this approach is really simple to follow but there is a high possibility that the data that we are deleting may contain important information about the predictive class.\n",
    "\n",
    "- Oversampling-For the unbalanced class randomly increase the number of observations which are just copies of existing samples.This ideally gives us sufficient number of samples to play with.The oversampling may lead to overfitting to the training data\n",
    "\n",
    "- Synthetic sampling(SMOTE)-The technique asks to synthetically manufacture observations of unbalanced classes which are similar to the existing using nearest neighbors classification.The problem is what to do when the number of observations of is an extremely rare class .For example-we may have only one picture of a rare species which we want to identify using image classification algorithm\n"
   ]
  },
  {
   "cell_type": "markdown",
   "metadata": {},
   "source": [
    "**NOTE:** It's a good practice when working on Neural Networks to start with a very small dataset and overfit on it. While we don't specifically ask you to do so in the sections below, we recommend that you take this approach, and first write and run your code using easy to use and debug platform, on a small dataset."
   ]
  },
  {
   "cell_type": "code",
   "execution_count": null,
   "metadata": {},
   "outputs": [],
   "source": []
  },
  {
   "cell_type": "markdown",
   "metadata": {},
   "source": [
    "## Build your own CNN classifier\n",
    "In this section, you will develop your own CNN classifier.\n",
    "\n",
    "This is meant as an opportunity to get more experience building your own NN architectures using PyTorch, and our focus is on making sure you rewrite and review the needed code and not on obtaining optimal performance. That being said, within the limits of the time you have, try to come up with a NN architecture and hyperparameters that would achieve nice results on the dataset.  \n",
    "We do recommend that you keep this to only 3-4 Conv layers and 1-2 fully connected layers."
   ]
  },
  {
   "cell_type": "markdown",
   "metadata": {},
   "source": [
    "If you want a starting point, you can create this network:\n",
    "\n",
    "```\n",
    "Net(\n",
    "  (conv1): Conv2d(3, 6, kernel_size=(5, 5), stride=(1, 1))\n",
    "  (pool): MaxPool2d(kernel_size=2, stride=2, padding=0, dilation=1, ceil_mode=False)\n",
    "  (conv2): Conv2d(6, 16, kernel_size=(5, 5), stride=(1, 1))\n",
    "  (fc1): Linear(in_features=400, out_features=120, bias=True)\n",
    "  (fc2): Linear(in_features=120, out_features=84, bias=True)\n",
    "  (fc3): Linear(in_features=84, out_features=10, bias=True)\n",
    ")\n",
    "```"
   ]
  },
  {
   "cell_type": "markdown",
   "metadata": {},
   "source": [
    "When training the network, use the Adam optimizer."
   ]
  },
  {
   "cell_type": "code",
   "execution_count": 71,
   "metadata": {
    "ExecuteTime": {
     "end_time": "2020-03-12T03:22:14.105625Z",
     "start_time": "2020-03-12T03:22:14.096637Z"
    }
   },
   "outputs": [],
   "source": [
    "# for evaluating the model\n",
    "from sklearn.metrics import accuracy_score\n",
    "from tqdm import tqdm\n",
    "\n",
    "# PyTorch libraries and modules\n",
    "import torch\n",
    "from torch.autograd import Variable\n",
    "from torch.nn import Linear, ReLU, CrossEntropyLoss, Sequential, Conv2d, MaxPool2d, Module, Softmax, BatchNorm2d, Dropout\n",
    "from torch.optim import Adam, SGD\n",
    "import torch.nn.functional as F\n",
    "from torch.utils.tensorboard import SummaryWriter\n"
   ]
  },
  {
   "cell_type": "code",
   "execution_count": 72,
   "metadata": {
    "ExecuteTime": {
     "end_time": "2020-03-12T03:22:14.719122Z",
     "start_time": "2020-03-12T03:22:14.715095Z"
    }
   },
   "outputs": [],
   "source": [
    "\n",
    "train_x = trainset.data.reshape(50000, 3, 32, 32).astype(np.int32)\n",
    "train_x  = torch.from_numpy(train_x)\n",
    "\n",
    "train_y = np.array(trainset.targets);\n",
    "train_y = torch.from_numpy(train_y)"
   ]
  },
  {
   "cell_type": "code",
   "execution_count": 73,
   "metadata": {},
   "outputs": [],
   "source": [
    "# converting validation images into torch format\n",
    "val_x = testset.data.reshape(10000, 3, 32, 32)\n",
    "val_x  = torch.from_numpy(val_x)\n",
    "\n",
    "# converting the target into torch format\n",
    "val_y = np.array(testset.targets);\n",
    "val_y = torch.from_numpy(val_y)"
   ]
  },
  {
   "cell_type": "code",
   "execution_count": 74,
   "metadata": {},
   "outputs": [],
   "source": [
    "class Net(Module):   \n",
    "    def __init__(self):\n",
    "        super(Net, self).__init__()\n",
    "        self.cnn_layers = Sequential(\n",
    "            \n",
    "        Conv2d(3, 6, kernel_size=(3, 3), stride=(1, 1)),\n",
    "#         BatchNorm2d(6),\n",
    "        ReLU(inplace=True),\n",
    "        MaxPool2d(kernel_size=2, stride=2, padding=0, dilation=1, ceil_mode=False),\n",
    "        Conv2d(6, 24, kernel_size=(5, 5), stride=(1, 1)),\n",
    "#         BatchNorm2d(24),\n",
    "        ReLU(inplace=True),\n",
    "        MaxPool2d(kernel_size=2, stride=2, padding=0, dilation=1, ceil_mode=False),\n",
    "        Conv2d(24, 64, kernel_size=(3, 3), stride=(1, 1),padding=2),\n",
    "#         BatchNorm2d(64),\n",
    "        ReLU(inplace=True),\n",
    "        Conv2d(64, 48, kernel_size=(1, 1), stride=(1, 1),padding=2),\n",
    "#         BatchNorm2d(48),\n",
    "        ReLU(inplace=True),    \n",
    "        MaxPool2d(kernel_size=2, stride=2)                    \n",
    "        )\n",
    "        self.drop_out = Dropout()\n",
    "        self.fc1 = Linear(in_features=1200, out_features=120, bias=True)\n",
    "        self.fc2 = Linear(in_features=120, out_features=84, bias=True)\n",
    "        self.fc3 = Linear(in_features=84, out_features=10, bias=True)\n",
    "        self.softmax = Softmax(dim=1)\n",
    "\n",
    "    # Defining the forward pass    \n",
    "    def forward(self, input):\n",
    "      \n",
    "        output = self.cnn_layers(input)\n",
    "        output = self.drop_out(output)\n",
    "       \n",
    "        output = output.view(output.size(0),  48* 5* 5)\n",
    "       \n",
    "        output = self.fc1(output)\n",
    "        output = F.relu(self.fc2(output))\n",
    "        output = self.softmax(self.fc3(output))\n",
    "        return output"
   ]
  },
  {
   "cell_type": "code",
   "execution_count": 117,
   "metadata": {
    "scrolled": true
   },
   "outputs": [
    {
     "name": "stdout",
     "output_type": "stream",
     "text": [
      "Net(\n",
      "  (cnn_layers): Sequential(\n",
      "    (0): Conv2d(3, 6, kernel_size=(3, 3), stride=(1, 1))\n",
      "    (1): BatchNorm2d(6, eps=1e-05, momentum=0.1, affine=True, track_running_stats=True)\n",
      "    (2): ReLU(inplace=True)\n",
      "    (3): MaxPool2d(kernel_size=2, stride=2, padding=0, dilation=1, ceil_mode=False)\n",
      "    (4): Conv2d(6, 24, kernel_size=(5, 5), stride=(1, 1))\n",
      "    (5): BatchNorm2d(24, eps=1e-05, momentum=0.1, affine=True, track_running_stats=True)\n",
      "    (6): ReLU(inplace=True)\n",
      "    (7): MaxPool2d(kernel_size=2, stride=2, padding=0, dilation=1, ceil_mode=False)\n",
      "    (8): Conv2d(24, 64, kernel_size=(3, 3), stride=(1, 1), padding=(2, 2))\n",
      "    (9): BatchNorm2d(64, eps=1e-05, momentum=0.1, affine=True, track_running_stats=True)\n",
      "    (10): ReLU(inplace=True)\n",
      "    (11): Conv2d(64, 48, kernel_size=(1, 1), stride=(1, 1), padding=(2, 2))\n",
      "    (12): BatchNorm2d(48, eps=1e-05, momentum=0.1, affine=True, track_running_stats=True)\n",
      "    (13): ReLU(inplace=True)\n",
      "    (14): MaxPool2d(kernel_size=2, stride=2, padding=0, dilation=1, ceil_mode=False)\n",
      "  )\n",
      "  (drop_out): Dropout(p=0.5, inplace=False)\n",
      "  (fc1): Linear(in_features=1200, out_features=120, bias=True)\n",
      "  (fc2): Linear(in_features=120, out_features=84, bias=True)\n",
      "  (fc3): Linear(in_features=84, out_features=10, bias=True)\n",
      "  (softmax): Softmax(dim=1)\n",
      ")\n"
     ]
    }
   ],
   "source": [
    "#call this model, and define the optimizer and the loss function for the model\n",
    "# defining the model\n",
    "model = Net()\n",
    "# defining the optimizer (Adam optimizer)\n",
    "optimizer = Adam(model.parameters(), lr=0.001)\n",
    "# defining the loss function\n",
    "criterion = CrossEntropyLoss()\n",
    "\n",
    "print(model)"
   ]
  },
  {
   "cell_type": "code",
   "execution_count": 87,
   "metadata": {
    "scrolled": true
   },
   "outputs": [
    {
     "name": "stdout",
     "output_type": "stream",
     "text": [
      "time:10:51:28,  epoch [1/100],  Loss: 2.0895, Accuracy: 36.44%/0.36  correct:1822 ,total 5000\n",
      "time:10:51:33,  epoch [2/100],  Loss: 2.0875, Accuracy: 36.68%/0.37  correct:1834 ,total 5000\n",
      "time:10:51:37,  epoch [3/100],  Loss: 2.0809, Accuracy: 37.44%/0.37  correct:1872 ,total 5000\n",
      "time:10:51:41,  epoch [4/100],  Loss: 2.0737, Accuracy: 38.20%/0.38  correct:1910 ,total 5000\n",
      "time:10:51:45,  epoch [5/100],  Loss: 2.0793, Accuracy: 37.34%/0.37  correct:1867 ,total 5000\n",
      "time:10:51:50,  epoch [6/100],  Loss: 2.0688, Accuracy: 38.64%/0.39  correct:1932 ,total 5000\n",
      "time:10:51:54,  epoch [7/100],  Loss: 2.0633, Accuracy: 39.20%/0.39  correct:1960 ,total 5000\n",
      "time:10:51:58,  epoch [8/100],  Loss: 2.0628, Accuracy: 39.24%/0.39  correct:1962 ,total 5000\n",
      "time:10:52:03,  epoch [9/100],  Loss: 2.0559, Accuracy: 40.00%/0.40  correct:2000 ,total 5000\n",
      "time:10:52:07,  epoch [10/100],  Loss: 2.0546, Accuracy: 40.28%/0.40  correct:2014 ,total 5000\n",
      "time:10:52:11,  epoch [11/100],  Loss: 2.0469, Accuracy: 41.16%/0.41  correct:2058 ,total 5000\n",
      "time:10:52:16,  epoch [12/100],  Loss: 2.0491, Accuracy: 40.70%/0.41  correct:2035 ,total 5000\n",
      "time:10:52:20,  epoch [13/100],  Loss: 2.0409, Accuracy: 41.60%/0.42  correct:2080 ,total 5000\n",
      "time:10:52:24,  epoch [14/100],  Loss: 2.0415, Accuracy: 41.92%/0.42  correct:2096 ,total 5000\n",
      "time:10:52:28,  epoch [15/100],  Loss: 2.0280, Accuracy: 43.20%/0.43  correct:2160 ,total 5000\n",
      "time:10:52:33,  epoch [16/100],  Loss: 2.0361, Accuracy: 41.94%/0.42  correct:2097 ,total 5000\n",
      "time:10:52:37,  epoch [17/100],  Loss: 2.0319, Accuracy: 42.80%/0.43  correct:2140 ,total 5000\n",
      "time:10:52:41,  epoch [18/100],  Loss: 2.0275, Accuracy: 43.18%/0.43  correct:2159 ,total 5000\n",
      "time:10:52:47,  epoch [19/100],  Loss: 2.0247, Accuracy: 43.00%/0.43  correct:2150 ,total 5000\n",
      "time:10:52:53,  epoch [20/100],  Loss: 2.0208, Accuracy: 43.60%/0.44  correct:2180 ,total 5000\n",
      "time:10:52:58,  epoch [21/100],  Loss: 2.0215, Accuracy: 43.46%/0.43  correct:2173 ,total 5000\n",
      "time:10:53:03,  epoch [22/100],  Loss: 2.0183, Accuracy: 43.92%/0.44  correct:2196 ,total 5000\n",
      "time:10:53:10,  epoch [23/100],  Loss: 2.0172, Accuracy: 43.90%/0.44  correct:2195 ,total 5000\n",
      "time:10:53:17,  epoch [24/100],  Loss: 2.0120, Accuracy: 44.86%/0.45  correct:2243 ,total 5000\n",
      "time:10:53:24,  epoch [25/100],  Loss: 2.0050, Accuracy: 45.24%/0.45  correct:2262 ,total 5000\n",
      "time:10:53:32,  epoch [26/100],  Loss: 2.0146, Accuracy: 44.40%/0.44  correct:2220 ,total 5000\n",
      "time:10:53:37,  epoch [27/100],  Loss: 2.0055, Accuracy: 45.16%/0.45  correct:2258 ,total 5000\n",
      "time:10:53:44,  epoch [28/100],  Loss: 1.9997, Accuracy: 45.54%/0.46  correct:2277 ,total 5000\n",
      "time:10:53:49,  epoch [29/100],  Loss: 1.9881, Accuracy: 47.42%/0.47  correct:2371 ,total 5000\n",
      "time:10:53:55,  epoch [30/100],  Loss: 1.9964, Accuracy: 46.32%/0.46  correct:2316 ,total 5000\n",
      "time:10:54:00,  epoch [31/100],  Loss: 2.0030, Accuracy: 45.76%/0.46  correct:2288 ,total 5000\n",
      "time:10:54:05,  epoch [32/100],  Loss: 1.9884, Accuracy: 47.22%/0.47  correct:2361 ,total 5000\n",
      "time:10:54:10,  epoch [33/100],  Loss: 1.9896, Accuracy: 46.84%/0.47  correct:2342 ,total 5000\n",
      "time:10:54:15,  epoch [34/100],  Loss: 1.9881, Accuracy: 47.18%/0.47  correct:2359 ,total 5000\n",
      "time:10:54:20,  epoch [35/100],  Loss: 1.9851, Accuracy: 47.44%/0.47  correct:2372 ,total 5000\n",
      "time:10:54:26,  epoch [36/100],  Loss: 1.9788, Accuracy: 48.22%/0.48  correct:2411 ,total 5000\n",
      "time:10:54:31,  epoch [37/100],  Loss: 1.9712, Accuracy: 49.12%/0.49  correct:2456 ,total 5000\n",
      "time:10:54:36,  epoch [38/100],  Loss: 1.9723, Accuracy: 48.74%/0.49  correct:2437 ,total 5000\n",
      "time:10:54:41,  epoch [39/100],  Loss: 1.9713, Accuracy: 48.96%/0.49  correct:2448 ,total 5000\n",
      "time:10:54:47,  epoch [40/100],  Loss: 1.9716, Accuracy: 49.08%/0.49  correct:2454 ,total 5000\n",
      "time:10:54:52,  epoch [41/100],  Loss: 1.9671, Accuracy: 49.32%/0.49  correct:2466 ,total 5000\n",
      "time:10:54:57,  epoch [42/100],  Loss: 1.9693, Accuracy: 49.16%/0.49  correct:2458 ,total 5000\n",
      "time:10:55:02,  epoch [43/100],  Loss: 1.9676, Accuracy: 49.04%/0.49  correct:2452 ,total 5000\n",
      "time:10:55:08,  epoch [44/100],  Loss: 1.9659, Accuracy: 48.96%/0.49  correct:2448 ,total 5000\n",
      "time:10:55:13,  epoch [45/100],  Loss: 1.9589, Accuracy: 50.24%/0.50  correct:2512 ,total 5000\n",
      "time:10:55:18,  epoch [46/100],  Loss: 1.9547, Accuracy: 50.80%/0.51  correct:2540 ,total 5000\n",
      "time:10:55:23,  epoch [47/100],  Loss: 1.9555, Accuracy: 50.86%/0.51  correct:2543 ,total 5000\n",
      "time:10:55:28,  epoch [48/100],  Loss: 1.9525, Accuracy: 50.70%/0.51  correct:2535 ,total 5000\n",
      "time:10:55:33,  epoch [49/100],  Loss: 1.9583, Accuracy: 50.02%/0.50  correct:2501 ,total 5000\n",
      "time:10:55:39,  epoch [50/100],  Loss: 1.9552, Accuracy: 50.70%/0.51  correct:2535 ,total 5000\n",
      "time:10:55:44,  epoch [51/100],  Loss: 1.9534, Accuracy: 50.90%/0.51  correct:2545 ,total 5000\n",
      "time:10:55:49,  epoch [52/100],  Loss: 1.9454, Accuracy: 51.78%/0.52  correct:2589 ,total 5000\n",
      "time:10:55:54,  epoch [53/100],  Loss: 1.9487, Accuracy: 51.12%/0.51  correct:2556 ,total 5000\n",
      "time:10:55:59,  epoch [54/100],  Loss: 1.9484, Accuracy: 51.20%/0.51  correct:2560 ,total 5000\n",
      "time:10:56:04,  epoch [55/100],  Loss: 1.9488, Accuracy: 51.32%/0.51  correct:2566 ,total 5000\n",
      "time:10:56:09,  epoch [56/100],  Loss: 1.9356, Accuracy: 52.60%/0.53  correct:2630 ,total 5000\n",
      "time:10:56:14,  epoch [57/100],  Loss: 1.9467, Accuracy: 51.56%/0.52  correct:2578 ,total 5000\n",
      "time:10:56:19,  epoch [58/100],  Loss: 1.9400, Accuracy: 52.26%/0.52  correct:2613 ,total 5000\n",
      "time:10:56:24,  epoch [59/100],  Loss: 1.9356, Accuracy: 52.60%/0.53  correct:2630 ,total 5000\n",
      "time:10:56:30,  epoch [60/100],  Loss: 1.9409, Accuracy: 52.02%/0.52  correct:2601 ,total 5000\n",
      "time:10:56:35,  epoch [61/100],  Loss: 1.9310, Accuracy: 53.42%/0.53  correct:2671 ,total 5000\n",
      "time:10:56:40,  epoch [62/100],  Loss: 1.9309, Accuracy: 52.96%/0.53  correct:2648 ,total 5000\n",
      "time:10:56:45,  epoch [63/100],  Loss: 1.9360, Accuracy: 52.74%/0.53  correct:2637 ,total 5000\n",
      "time:10:56:50,  epoch [64/100],  Loss: 1.9248, Accuracy: 53.64%/0.54  correct:2682 ,total 5000\n",
      "time:10:56:55,  epoch [65/100],  Loss: 1.9218, Accuracy: 54.12%/0.54  correct:2706 ,total 5000\n",
      "time:10:57:00,  epoch [66/100],  Loss: 1.9260, Accuracy: 53.66%/0.54  correct:2683 ,total 5000\n",
      "time:10:57:05,  epoch [67/100],  Loss: 1.9250, Accuracy: 53.32%/0.53  correct:2666 ,total 5000\n",
      "time:10:57:10,  epoch [68/100],  Loss: 1.9263, Accuracy: 53.64%/0.54  correct:2682 ,total 5000\n",
      "time:10:57:15,  epoch [69/100],  Loss: 1.9192, Accuracy: 54.20%/0.54  correct:2710 ,total 5000\n",
      "time:10:57:21,  epoch [70/100],  Loss: 1.9212, Accuracy: 54.22%/0.54  correct:2711 ,total 5000\n",
      "time:10:57:26,  epoch [71/100],  Loss: 1.9180, Accuracy: 54.48%/0.54  correct:2724 ,total 5000\n",
      "time:10:57:31,  epoch [72/100],  Loss: 1.9235, Accuracy: 53.80%/0.54  correct:2690 ,total 5000\n",
      "time:10:57:36,  epoch [73/100],  Loss: 1.9157, Accuracy: 54.82%/0.55  correct:2741 ,total 5000\n",
      "time:10:57:41,  epoch [74/100],  Loss: 1.9158, Accuracy: 54.50%/0.55  correct:2725 ,total 5000\n",
      "time:10:57:47,  epoch [75/100],  Loss: 1.9119, Accuracy: 55.08%/0.55  correct:2754 ,total 5000\n",
      "time:10:57:52,  epoch [76/100],  Loss: 1.9140, Accuracy: 54.70%/0.55  correct:2735 ,total 5000\n",
      "time:10:57:57,  epoch [77/100],  Loss: 1.9116, Accuracy: 55.10%/0.55  correct:2755 ,total 5000\n",
      "time:10:58:02,  epoch [78/100],  Loss: 1.9114, Accuracy: 55.28%/0.55  correct:2764 ,total 5000\n",
      "time:10:58:07,  epoch [79/100],  Loss: 1.9105, Accuracy: 55.26%/0.55  correct:2763 ,total 5000\n",
      "time:10:58:12,  epoch [80/100],  Loss: 1.9019, Accuracy: 56.06%/0.56  correct:2803 ,total 5000\n",
      "time:10:58:17,  epoch [81/100],  Loss: 1.9044, Accuracy: 56.10%/0.56  correct:2805 ,total 5000\n",
      "time:10:58:22,  epoch [82/100],  Loss: 1.9063, Accuracy: 55.50%/0.56  correct:2775 ,total 5000\n",
      "time:10:58:27,  epoch [83/100],  Loss: 1.9058, Accuracy: 55.62%/0.56  correct:2781 ,total 5000\n",
      "time:10:58:32,  epoch [84/100],  Loss: 1.9064, Accuracy: 55.78%/0.56  correct:2789 ,total 5000\n",
      "time:10:58:37,  epoch [85/100],  Loss: 1.9048, Accuracy: 55.86%/0.56  correct:2793 ,total 5000\n",
      "time:10:58:43,  epoch [86/100],  Loss: 1.9043, Accuracy: 55.58%/0.56  correct:2779 ,total 5000\n",
      "time:10:58:47,  epoch [87/100],  Loss: 1.8930, Accuracy: 57.38%/0.57  correct:2869 ,total 5000\n"
     ]
    },
    {
     "name": "stdout",
     "output_type": "stream",
     "text": [
      "time:10:58:52,  epoch [88/100],  Loss: 1.8961, Accuracy: 56.76%/0.57  correct:2838 ,total 5000\n",
      "time:10:58:57,  epoch [89/100],  Loss: 1.8985, Accuracy: 56.28%/0.56  correct:2814 ,total 5000\n",
      "time:10:59:03,  epoch [90/100],  Loss: 1.8950, Accuracy: 56.84%/0.57  correct:2842 ,total 5000\n",
      "time:10:59:08,  epoch [91/100],  Loss: 1.8980, Accuracy: 56.38%/0.56  correct:2819 ,total 5000\n",
      "time:10:59:13,  epoch [92/100],  Loss: 1.9005, Accuracy: 56.36%/0.56  correct:2818 ,total 5000\n",
      "time:10:59:18,  epoch [93/100],  Loss: 1.8923, Accuracy: 57.28%/0.57  correct:2864 ,total 5000\n",
      "time:10:59:23,  epoch [94/100],  Loss: 1.8885, Accuracy: 57.36%/0.57  correct:2868 ,total 5000\n",
      "time:10:59:28,  epoch [95/100],  Loss: 1.8879, Accuracy: 57.92%/0.58  correct:2896 ,total 5000\n",
      "time:10:59:33,  epoch [96/100],  Loss: 1.8915, Accuracy: 57.08%/0.57  correct:2854 ,total 5000\n",
      "time:10:59:38,  epoch [97/100],  Loss: 1.8912, Accuracy: 57.28%/0.57  correct:2864 ,total 5000\n",
      "time:10:59:43,  epoch [98/100],  Loss: 1.8822, Accuracy: 58.40%/0.58  correct:2920 ,total 5000\n",
      "time:10:59:48,  epoch [99/100],  Loss: 1.8803, Accuracy: 58.40%/0.58  correct:2920 ,total 5000\n",
      "time:10:59:53,  epoch [100/100],  Loss: 1.8867, Accuracy: 57.72%/0.58  correct:2886 ,total 5000\n"
     ]
    },
    {
     "data": {
      "text/plain": [
       "<bound method SummaryWriter.close of <torch.utils.tensorboard.writer.SummaryWriter object at 0x1243b05f8>>"
      ]
     },
     "execution_count": 87,
     "metadata": {},
     "output_type": "execute_result"
    }
   ],
   "source": [
    "# Train the model\n",
    "import time\n",
    "time.strftime('%X')\n",
    "num_epochs = 100\n",
    "total_step = int(train_x.shape[0]/num_epochs)\n",
    "loss_list = []\n",
    "acc_list = []\n",
    "writer = SummaryWriter('runs/main_training')\n",
    "\n",
    "model.train()\n",
    "\n",
    "items = np.arange(train_x.shape[0])\n",
    "items_index = np.random.choice(items, size=5000, replace=False)\n",
    "x_train, y_train = Variable(train_x), Variable(train_y)\n",
    "\n",
    "for epoch in range(num_epochs):\n",
    "\n",
    "    optimizer.zero_grad()\n",
    "    # Run the forward pass\n",
    "\n",
    "    outputs = model.forward(train_x[items_index].float())\n",
    "    loss = criterion(outputs, train_y[items_index])\n",
    "\n",
    "    # Backprop and perform Adam optimisation\n",
    "\n",
    "    loss.backward()\n",
    "    optimizer.step()\n",
    "\n",
    "    loss_list.append(loss.item())\n",
    "    # Track the accuracy\n",
    "    total =  train_y[items_index].size(0)\n",
    "    _, predicted = torch.max(outputs.data, 1)\n",
    "    correct = (predicted == train_y[items_index]).sum().item()\n",
    "    acc_list.append(correct / total)\n",
    "    # Compute accuracy\n",
    "    _, argmax = torch.max(outputs, 1)\n",
    "    accuracy = (train_y[items_index] == argmax.squeeze()).float().mean()\n",
    "\n",
    "    if (epoch) % 1 == 0:\n",
    "        print('time:{},  epoch [{}/{}],  Loss: {:.4f}, Accuracy: {:.2f}%/{:.2f}  correct:{} ,total {}'\n",
    "          .format(time.strftime('%X'), epoch + 1,num_epochs,loss.item(),\n",
    "                  (correct / total) * 100,accuracy.item(),correct , total))\n",
    "\n",
    "        # ================================================================== #\n",
    "        #                        Tensorboard Logging                         #\n",
    "        # ================================================================== #\n",
    "\n",
    "        # 1. Log scalar values (scalar summary)\n",
    "        info = { 'loss': loss.item(), 'accuracy': accuracy.item() }\n",
    "\n",
    "        for tag, value in info.items():\n",
    "#             print(tag, value)\n",
    "            writer.add_scalar(tag, value, epoch+1)\n",
    "\n",
    "        # 2. Log values and gradients of the parameters (histogram summary)\n",
    "        for tag, value in model.named_parameters():\n",
    "            tag = tag.replace('.', '/')\n",
    "            writer.add_histogram(tag, value.data.cpu().numpy(), epoch+1)\n",
    "            writer.add_histogram(tag+'/grad', value.grad.data.cpu().numpy(), epoch+1)\n",
    "\n",
    "        # 3. Log training images (image summary)\n",
    "        info = { 'images': train_x[items_index].view(-1,3,32, 32)[:10].cpu().numpy() }\n",
    "        info = { 'images': train_x[items_index][:10].cpu().numpy() }\n",
    "\n",
    "        for tag, images in info.items():\n",
    "#             print(tag, images)\n",
    "            writer.add_images(tag, images, epoch+1)     \n",
    "writer.add_graph(model, train_x[items_index].float())  \n",
    "writer.close"
   ]
  },
  {
   "cell_type": "code",
   "execution_count": 81,
   "metadata": {},
   "outputs": [
    {
     "data": {
      "image/png": "[encoded data removed]",
      "text/plain": [
       "<Figure size 432x288 with 1 Axes>"
      ]
     },
     "metadata": {
      "needs_background": "light"
     },
     "output_type": "display_data"
    }
   ],
   "source": [
    "plt.plot(loss_list, label='Training loss')\n",
    "#plt.plot(val_losses, label='Validation loss')\n",
    "plt.legend()\n",
    "plt.show()"
   ]
  },
  {
   "cell_type": "code",
   "execution_count": 124,
   "metadata": {},
   "outputs": [
    {
     "name": "stdout",
     "output_type": "stream",
     "text": [
      "1012\n"
     ]
    }
   ],
   "source": [
    "outputs = model(val_x.float())\n",
    "_, predicted = torch.max(outputs.data, 1)\n",
    "correct = (predicted == val_y).sum().item()\n",
    "\n",
    "print(correct)"
   ]
  },
  {
   "cell_type": "markdown",
   "metadata": {},
   "source": [
    "## Tensorboard\n",
    "TensorBoard provides visualization and tooling for machine learning experimentation:\n",
    "- Tracking and visualizing metrics such as loss and accuracy\n",
    "- Visualizing the model graph (ops and layers)\n",
    "- Viewing histograms of weights, biases, or other tensors as they change over time\n",
    "- Projecting embeddings to a lower dimensional space\n",
    "- Displaying images, text, and audio data\n",
    "- Profiling programs\n",
    "\n",
    "Tensorboard worked originally with Tensorflow but can now be used with PyTorch as well.  \n",
    "You can embed a tensorboard widget in a Jupyter Notebook, although if you're not using Google Colab we recommend that you open tensorboard separately."
   ]
  },
  {
   "cell_type": "markdown",
   "metadata": {},
   "source": [
    "To get started with Tensorboard, please read the following pages:\n",
    "\n",
    "PyTorch related:\n",
    "1. https://pytorch.org/tutorials/intermediate/tensorboard_tutorial.html\n",
    "1. https://becominghuman.ai/logging-in-tensorboard-with-pytorch-or-any-other-library-c549163dee9e\n",
    "1. https://towardsdatascience.com/https-medium-com-dinber19-take-a-deeper-look-at-your-pytorch-model-with-the-new-tensorboard-built-in-513969cf6a72\n",
    "1. https://pytorch.org/docs/stable/tensorboard.html\n",
    "1. https://github.com/yunjey/pytorch-tutorial/tree/master/tutorials/04-utils/tensorboard\n",
    "\n",
    "Tensorflow related:\n",
    "1. https://itnext.io/how-to-use-tensorboard-5d82f8654496\n",
    "1. https://www.datacamp.com/community/tutorials/tensorboard-tutorial\n",
    "1. https://medium.com/@anthony_sarkis/tensorboard-quick-start-in-5-minutes-e3ec69f673af\n",
    "1. https://www.guru99.com/tensorboard-tutorial.html\n",
    "1. https://www.youtube.com/watch?time_continue=1&v=s-lHP8v9qzY&feature=emb_logo\n",
    "1. https://www.youtube.com/watch?v=pSexXMdruFM\n"
   ]
  },
  {
   "cell_type": "markdown",
   "metadata": {},
   "source": [
    "### Starting Tensorboard\n",
    "Jupyter Notebook has extensions for displaying TensorBoard inside the notebook. Still, I recommend that you run it separately, as it tends to get stuck in notebooks.\n",
    "\n",
    "The syntax to load TensorBoard in a notebook is this:\n",
    "```python\n",
    "# Load the TensorBoard notebook extension\n",
    "%load_ext tensorboard\n",
    "%tensorboard --logdir ./logs\n",
    "```"
   ]
  },
  {
   "cell_type": "markdown",
   "metadata": {},
   "source": [
    "In the shell, you can instead run:\n",
    "```\n",
    "tensorboard --logdir ./logs\n",
    "```"
   ]
  },
  {
   "cell_type": "markdown",
   "metadata": {},
   "source": [
    "I couldn't make it work on jupyter so I used colab. screenshot attached"
   ]
  },
  {
   "cell_type": "markdown",
   "metadata": {},
   "source": [
    "### Show images using TensorBoard"
   ]
  },
  {
   "cell_type": "code",
   "execution_count": 9,
   "metadata": {
    "ExecuteTime": {
     "end_time": "2020-03-12T03:22:25.305404Z",
     "start_time": "2020-03-12T03:22:22.367810Z"
    }
   },
   "outputs": [],
   "source": []
  },
  {
   "cell_type": "markdown",
   "metadata": {},
   "source": [
    "### Inspect the model graph\n",
    "You can print a network object to find useful information about it:"
   ]
  },
  {
   "cell_type": "code",
   "execution_count": 119,
   "metadata": {
    "ExecuteTime": {
     "end_time": "2020-03-12T03:39:13.437035Z",
     "start_time": "2020-03-12T03:39:13.433000Z"
    }
   },
   "outputs": [
    {
     "name": "stdout",
     "output_type": "stream",
     "text": [
      "Net(\n",
      "  (cnn_layers): Sequential(\n",
      "    (0): Conv2d(3, 6, kernel_size=(3, 3), stride=(1, 1))\n",
      "    (1): BatchNorm2d(6, eps=1e-05, momentum=0.1, affine=True, track_running_stats=True)\n",
      "    (2): ReLU(inplace=True)\n",
      "    (3): MaxPool2d(kernel_size=2, stride=2, padding=0, dilation=1, ceil_mode=False)\n",
      "    (4): Conv2d(6, 24, kernel_size=(5, 5), stride=(1, 1))\n",
      "    (5): BatchNorm2d(24, eps=1e-05, momentum=0.1, affine=True, track_running_stats=True)\n",
      "    (6): ReLU(inplace=True)\n",
      "    (7): MaxPool2d(kernel_size=2, stride=2, padding=0, dilation=1, ceil_mode=False)\n",
      "    (8): Conv2d(24, 64, kernel_size=(3, 3), stride=(1, 1), padding=(2, 2))\n",
      "    (9): BatchNorm2d(64, eps=1e-05, momentum=0.1, affine=True, track_running_stats=True)\n",
      "    (10): ReLU(inplace=True)\n",
      "    (11): Conv2d(64, 48, kernel_size=(1, 1), stride=(1, 1), padding=(2, 2))\n",
      "    (12): BatchNorm2d(48, eps=1e-05, momentum=0.1, affine=True, track_running_stats=True)\n",
      "    (13): ReLU(inplace=True)\n",
      "    (14): MaxPool2d(kernel_size=2, stride=2, padding=0, dilation=1, ceil_mode=False)\n",
      "  )\n",
      "  (drop_out): Dropout(p=0.5, inplace=False)\n",
      "  (fc1): Linear(in_features=1200, out_features=120, bias=True)\n",
      "  (fc2): Linear(in_features=120, out_features=84, bias=True)\n",
      "  (fc3): Linear(in_features=84, out_features=10, bias=True)\n",
      "  (softmax): Softmax(dim=1)\n",
      ")\n"
     ]
    }
   ],
   "source": [
    "net = Net()\n",
    "print(net)"
   ]
  },
  {
   "cell_type": "markdown",
   "metadata": {},
   "source": [
    "TensorBoard can help visualize the network graph. It takes practice to read these.  \n",
    "\n",
    "Write the graph to TensorBoard and review it."
   ]
  },
  {
   "cell_type": "markdown",
   "metadata": {
    "ExecuteTime": {
     "end_time": "2020-03-12T03:22:27.132650Z",
     "start_time": "2020-03-12T03:22:27.080267Z"
    }
   },
   "source": [
    "on screenshot"
   ]
  },
  {
   "cell_type": "markdown",
   "metadata": {},
   "source": [
    "You can also use the package `torchsummary` for a fuller info on the model:"
   ]
  },
  {
   "cell_type": "code",
   "execution_count": 116,
   "metadata": {
    "ExecuteTime": {
     "end_time": "2020-03-12T03:39:34.927085Z",
     "start_time": "2020-03-12T03:39:30.883979Z"
    }
   },
   "outputs": [
    {
     "name": "stdout",
     "output_type": "stream",
     "text": [
      "Collecting torchsummary\n",
      "  Downloading torchsummary-1.5.1-py3-none-any.whl (2.8 kB)\n",
      "Installing collected packages: torchsummary\n",
      "Successfully installed torchsummary-1.5.1\n"
     ]
    }
   ],
   "source": [
    "!pip install torchsummary"
   ]
  },
  {
   "cell_type": "code",
   "execution_count": 120,
   "metadata": {
    "ExecuteTime": {
     "end_time": "2020-03-12T03:40:32.330002Z",
     "start_time": "2020-03-12T03:40:32.304145Z"
    }
   },
   "outputs": [
    {
     "name": "stdout",
     "output_type": "stream",
     "text": [
      "----------------------------------------------------------------\n",
      "        Layer (type)               Output Shape         Param #\n",
      "================================================================\n",
      "            Conv2d-1            [-1, 6, 30, 30]             168\n",
      "       BatchNorm2d-2            [-1, 6, 30, 30]              12\n",
      "              ReLU-3            [-1, 6, 30, 30]               0\n",
      "         MaxPool2d-4            [-1, 6, 15, 15]               0\n",
      "            Conv2d-5           [-1, 24, 11, 11]           3,624\n",
      "       BatchNorm2d-6           [-1, 24, 11, 11]              48\n",
      "              ReLU-7           [-1, 24, 11, 11]               0\n",
      "         MaxPool2d-8             [-1, 24, 5, 5]               0\n",
      "            Conv2d-9             [-1, 64, 7, 7]          13,888\n",
      "      BatchNorm2d-10             [-1, 64, 7, 7]             128\n",
      "             ReLU-11             [-1, 64, 7, 7]               0\n",
      "           Conv2d-12           [-1, 48, 11, 11]           3,120\n",
      "      BatchNorm2d-13           [-1, 48, 11, 11]              96\n",
      "             ReLU-14           [-1, 48, 11, 11]               0\n",
      "        MaxPool2d-15             [-1, 48, 5, 5]               0\n",
      "          Dropout-16             [-1, 48, 5, 5]               0\n",
      "           Linear-17                  [-1, 120]         144,120\n",
      "           Linear-18                   [-1, 84]          10,164\n",
      "           Linear-19                   [-1, 10]             850\n",
      "          Softmax-20                   [-1, 10]               0\n",
      "================================================================\n",
      "Total params: 176,218\n",
      "Trainable params: 176,218\n",
      "Non-trainable params: 0\n",
      "----------------------------------------------------------------\n",
      "Input size (MB): 0.01\n",
      "Forward/backward pass size (MB): 0.43\n",
      "Params size (MB): 0.67\n",
      "Estimated Total Size (MB): 1.11\n",
      "----------------------------------------------------------------\n"
     ]
    }
   ],
   "source": [
    "channels=3; H=32; W=32\n",
    "from torchsummary import summary\n",
    "summary(net, input_size=(channels, H, W))"
   ]
  },
  {
   "cell_type": "markdown",
   "metadata": {},
   "source": [
    "## Train the network\n",
    "Next, we'll train the network. In the training loop, log relevant metrics that would allow you to plot in TensorBoard:"
   ]
  },
  {
   "cell_type": "markdown",
   "metadata": {},
   "source": [
    "1. The network loss\n",
    "1. Train and test error\n",
    "1. Average weight in the first layer\n",
    "1. Histogram of weights in the first layer"
   ]
  },
  {
   "cell_type": "code",
   "execution_count": 125,
   "metadata": {
    "ExecuteTime": {
     "end_time": "2020-03-12T02:25:56.483936Z",
     "start_time": "2020-03-12T02:17:35.780050Z"
    }
   },
   "outputs": [
    {
     "name": "stdout",
     "output_type": "stream",
     "text": [
      "torch.Size([10000])\n",
      "torch.Size([10000])\n"
     ]
    }
   ],
   "source": [
    "print(predicted.shape)\n",
    "print(val_y.shape)"
   ]
  },
  {
   "cell_type": "markdown",
   "metadata": {},
   "source": [
    "### Precision-Recall Curve\n",
    "Use TensorBoard to plot the precision-recall curve:"
   ]
  },
  {
   "cell_type": "code",
   "execution_count": 126,
   "metadata": {},
   "outputs": [],
   "source": [
    "writer.add_pr_curve('pr_curve', val_y, predicted, 0)"
   ]
  },
  {
   "cell_type": "markdown",
   "metadata": {},
   "source": [
    "### Display Model Errors\n",
    "A valuable practice is to review errors made by the model in the test set. These might reveal cases of bad preprocessing or lead to come up with improvements to your original model.\n",
    "\n",
    "Show 12 images of errors made by the model. For each, display the true and predicted classes, and the model confidence in its answer."
   ]
  },
  {
   "cell_type": "code",
   "execution_count": null,
   "metadata": {},
   "outputs": [],
   "source": []
  },
  {
   "cell_type": "markdown",
   "metadata": {},
   "source": [
    "## Batch Normalization\n",
    "In this section, we'll add a Batch Norm layer to your network.  \n",
    "Use TensorBoard to compare the network's convergence (train and validation loss) with and without Batch Normalization."
   ]
  },
  {
   "cell_type": "code",
   "execution_count": 127,
   "metadata": {
    "ExecuteTime": {
     "end_time": "2020-03-12T02:02:02.225508Z",
     "start_time": "2020-03-12T02:02:02.204005Z"
    }
   },
   "outputs": [],
   "source": [
    "class Net(Module):   \n",
    "    def __init__(self):\n",
    "        super(Net, self).__init__()\n",
    "        self.cnn_layers = Sequential(\n",
    "            \n",
    "        Conv2d(3, 6, kernel_size=(3, 3), stride=(1, 1)),\n",
    "        BatchNorm2d(6),\n",
    "        ReLU(inplace=True),\n",
    "        MaxPool2d(kernel_size=2, stride=2, padding=0, dilation=1, ceil_mode=False),\n",
    "        Conv2d(6, 24, kernel_size=(5, 5), stride=(1, 1)),\n",
    "        BatchNorm2d(24),\n",
    "        ReLU(inplace=True),\n",
    "        MaxPool2d(kernel_size=2, stride=2, padding=0, dilation=1, ceil_mode=False),\n",
    "        Conv2d(24, 64, kernel_size=(3, 3), stride=(1, 1),padding=2),\n",
    "        BatchNorm2d(64),\n",
    "        ReLU(inplace=True),\n",
    "        Conv2d(64, 48, kernel_size=(1, 1), stride=(1, 1),padding=2),\n",
    "        BatchNorm2d(48),\n",
    "        ReLU(inplace=True),    \n",
    "        MaxPool2d(kernel_size=2, stride=2)              \n",
    "        )\n",
    "        self.drop_out = Dropout()\n",
    "        self.fc1 = Linear(in_features=1200, out_features=120, bias=True)\n",
    "        self.fc2 = Linear(in_features=120, out_features=84, bias=True)\n",
    "        self.fc3 = Linear(in_features=84, out_features=10, bias=True)\n",
    "        self.softmax = Softmax(dim=1)\n",
    "\n",
    "    # Defining the forward pass    \n",
    "    def forward(self, input):\n",
    "      \n",
    "        output = self.cnn_layers(input)\n",
    "        output = self.drop_out(output)\n",
    "       \n",
    "        output = output.view(output.size(0),  48* 5* 5)\n",
    "       \n",
    "        output = self.fc1(output)\n",
    "        output = F.relu(self.fc2(output))\n",
    "        output = self.softmax(self.fc3(output))\n",
    "        return output"
   ]
  },
  {
   "cell_type": "markdown",
   "metadata": {},
   "source": [
    "Use TensorBoard to plot the distribution of activations with and without Batch Normalization."
   ]
  },
  {
   "cell_type": "code",
   "execution_count": null,
   "metadata": {},
   "outputs": [],
   "source": []
  },
  {
   "cell_type": "code",
   "execution_count": null,
   "metadata": {},
   "outputs": [],
   "source": []
  },
  {
   "cell_type": "code",
   "execution_count": null,
   "metadata": {},
   "outputs": [],
   "source": []
  },
  {
   "cell_type": "markdown",
   "metadata": {},
   "source": [
    "## Data Augmentation\n",
    "Augmenting the data is a useful trick to increase the size of the training set and reduce the generalization error.  \n",
    "\n",
    "Useful resources: \n",
    "- [Explanation about augmentation](https://www.analyticsvidhya.com/blog/2019/12/image-augmentation-deep-learning-pytorch/)\n",
    "- The [torchvision transforms documentation](https://pytorch.org/docs/stable/torchvision/transforms.html)\n",
    "- The [albumentations](https://github.com/albumentations-team/albumentations) repo"
   ]
  },
  {
   "cell_type": "markdown",
   "metadata": {},
   "source": [
    "Try to think which transformation can be useful for data augmentation for our task?"
   ]
  },
  {
   "cell_type": "code",
   "execution_count": null,
   "metadata": {},
   "outputs": [],
   "source": []
  },
  {
   "cell_type": "markdown",
   "metadata": {},
   "source": [
    "Apply 1 or 2 basic transformations and check how they affect the network's performance:"
   ]
  },
  {
   "cell_type": "code",
   "execution_count": null,
   "metadata": {},
   "outputs": [],
   "source": []
  },
  {
   "cell_type": "markdown",
   "metadata": {},
   "source": [
    "## Transfer learning using a NN pre-trained on ImageNet\n",
    "In this section, we will use a pretrained network and build a classifier using it to predict the labels of our task."
   ]
  },
  {
   "cell_type": "markdown",
   "metadata": {},
   "source": [
    "You might find these resources useful:\n",
    "- https://pytorch.org/tutorials/beginner/transfer_learning_tutorial.html\n",
    "- https://towardsdatascience.com/transfer-learning-with-convolutional-neural-networks-in-pytorch-dd09190245ce\n",
    "- https://www.analyticsvidhya.com/blog/2019/10/how-to-master-transfer-learning-using-pytorch/\n",
    "- https://heartbeat.fritz.ai/transfer-learning-with-pytorch-cfcb69016c72"
   ]
  },
  {
   "cell_type": "markdown",
   "metadata": {},
   "source": [
    "### Use a frozen pre-trained network\n",
    "Use a VGG-16 network, including its weights pretrained on ImageNet.  \n",
    "Use the pretrained network to obtain the distributed representation in the final layer (the one before the output softmax layer). Freeze the network weights, and add 2 fully connected layers on top of it to classify the images."
   ]
  },
  {
   "cell_type": "code",
   "execution_count": null,
   "metadata": {},
   "outputs": [],
   "source": []
  },
  {
   "cell_type": "markdown",
   "metadata": {},
   "source": [
    "### Fine tuning the weights\n",
    "In this section, we'll unfreeze the pre-trained weights of the network and allow them to change.  \n",
    "Be careful - when fine-tuning a network, there is a risk that our attempt to allow the network to adapt to the new domain will lead to a \"catastrophic forgetting\" of what it had previously learnt."
   ]
  },
  {
   "cell_type": "code",
   "execution_count": null,
   "metadata": {},
   "outputs": [],
   "source": []
  },
  {
   "cell_type": "markdown",
   "metadata": {},
   "source": [
    "## Suggested Resources\n",
    "1. A good explanation of the different losses - https://gombru.github.io/2019/04/03/ranking_loss/\n",
    "1. A repo with code implementing CNN classifiers, Siamese networks and Triplet loss with different selection regimes for the MNIST and Fashion-MNIST datasets - https://github.com/adambielski/siamese-triplet\n",
    "1. There are several resources online for the VGG-Face network (see https://www.robots.ox.ac.uk/~vgg/publications/2015/Parkhi15/parkhi15.pdf), that include pre-trained weights on a face recognition dataset. The weights are here - http://www.robots.ox.ac.uk/~vgg/software/vgg_face/, and PyTorch models are here - http://www.robots.ox.ac.uk/~albanie/pytorch-models.html, and you can also check out https://github.com/prlz77/vgg-face.pytorch and https://github.com/claudio-unipv/vggface-pytorch."
   ]
  },
  {
   "cell_type": "code",
   "execution_count": null,
   "metadata": {},
   "outputs": [],
   "source": []
  }
 ],
 "metadata": {
  "kernelspec": {
   "display_name": "Python 3 (ipykernel)",
   "language": "python",
   "name": "python3"
  },
  "language_info": {
   "codemirror_mode": {
    "name": "ipython",
    "version": 3
   },
   "file_extension": ".py",
   "mimetype": "text/x-python",
   "name": "python",
   "nbconvert_exporter": "python",
   "pygments_lexer": "ipython3",
   "version": "3.12.7"
  }
 },
 "nbformat": 4,
 "nbformat_minor": 4
}
