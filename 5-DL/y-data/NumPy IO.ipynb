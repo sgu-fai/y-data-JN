{
 "cells": [
  {
   "cell_type": "markdown",
   "metadata": {},
   "source": [
    "# `numpy` IO"
   ]
  },
  {
   "cell_type": "code",
   "execution_count": null,
   "metadata": {
    "ExecuteTime": {
     "end_time": "2019-10-29T10:47:44.058152Z",
     "start_time": "2019-10-29T10:47:43.892815Z"
    }
   },
   "outputs": [],
   "source": [
    "import numpy as np\n",
    "np.random.seed(983456)"
   ]
  },
  {
   "cell_type": "markdown",
   "metadata": {},
   "source": [
    "## Reading and writing single `numpy` array"
   ]
  },
  {
   "cell_type": "code",
   "execution_count": null,
   "metadata": {
    "ExecuteTime": {
     "end_time": "2019-10-29T10:47:45.146072Z",
     "start_time": "2019-10-29T10:47:45.142346Z"
    }
   },
   "outputs": [],
   "source": [
    "arr = np.random.randint(10, size=(5,6))"
   ]
  },
  {
   "cell_type": "code",
   "execution_count": null,
   "metadata": {
    "ExecuteTime": {
     "end_time": "2019-10-29T10:47:48.091396Z",
     "start_time": "2019-10-29T10:47:48.086864Z"
    }
   },
   "outputs": [],
   "source": [
    "np.save('int_array', arr)"
   ]
  },
  {
   "cell_type": "code",
   "execution_count": null,
   "metadata": {
    "ExecuteTime": {
     "end_time": "2019-10-29T10:47:48.291787Z",
     "start_time": "2019-10-29T10:47:48.287938Z"
    }
   },
   "outputs": [],
   "source": [
    "arr_read = np.load('int_array.npy')"
   ]
  },
  {
   "cell_type": "code",
   "execution_count": null,
   "metadata": {
    "ExecuteTime": {
     "end_time": "2019-10-29T10:47:48.637912Z",
     "start_time": "2019-10-29T10:47:48.618554Z"
    }
   },
   "outputs": [],
   "source": [
    "arr_read"
   ]
  },
  {
   "cell_type": "code",
   "execution_count": null,
   "metadata": {
    "ExecuteTime": {
     "end_time": "2019-10-29T10:47:49.043197Z",
     "start_time": "2019-10-29T10:47:49.036471Z"
    }
   },
   "outputs": [],
   "source": [
    "arr"
   ]
  },
  {
   "cell_type": "markdown",
   "metadata": {},
   "source": [
    "## Reading and writing multiple `numpy` arrays"
   ]
  },
  {
   "cell_type": "code",
   "execution_count": null,
   "metadata": {
    "ExecuteTime": {
     "end_time": "2019-10-29T10:47:53.305577Z",
     "start_time": "2019-10-29T10:47:53.299660Z"
    }
   },
   "outputs": [],
   "source": [
    "float_arr = np.random.randn(123,17)"
   ]
  },
  {
   "cell_type": "code",
   "execution_count": null,
   "metadata": {
    "ExecuteTime": {
     "end_time": "2019-10-29T10:47:54.782172Z",
     "start_time": "2019-10-29T10:47:54.773513Z"
    }
   },
   "outputs": [],
   "source": [
    "np.savez('multiple_arrays', arr, float_arr)"
   ]
  },
  {
   "cell_type": "code",
   "execution_count": null,
   "metadata": {
    "ExecuteTime": {
     "end_time": "2019-10-29T10:47:55.631735Z",
     "start_time": "2019-10-29T10:47:55.628350Z"
    }
   },
   "outputs": [],
   "source": [
    "arrays = np.load('multiple_arrays.npz')"
   ]
  },
  {
   "cell_type": "code",
   "execution_count": null,
   "metadata": {
    "ExecuteTime": {
     "end_time": "2019-10-29T10:47:56.050104Z",
     "start_time": "2019-10-29T10:47:56.044599Z"
    }
   },
   "outputs": [],
   "source": [
    "arrays.files"
   ]
  },
  {
   "cell_type": "code",
   "execution_count": null,
   "metadata": {
    "ExecuteTime": {
     "end_time": "2019-10-29T10:47:56.856756Z",
     "start_time": "2019-10-29T10:47:56.849568Z"
    }
   },
   "outputs": [],
   "source": [
    "arrays['arr_0']"
   ]
  },
  {
   "cell_type": "code",
   "execution_count": null,
   "metadata": {
    "ExecuteTime": {
     "end_time": "2019-10-29T10:47:59.636694Z",
     "start_time": "2019-10-29T10:47:59.631941Z"
    }
   },
   "outputs": [],
   "source": [
    "np.savez('multiple_arrays', int_array=arr, float_arr=float_arr)"
   ]
  },
  {
   "cell_type": "code",
   "execution_count": null,
   "metadata": {
    "ExecuteTime": {
     "end_time": "2019-10-29T10:47:59.897205Z",
     "start_time": "2019-10-29T10:47:59.892435Z"
    }
   },
   "outputs": [],
   "source": [
    "arrays = np.load('multiple_arrays.npz')"
   ]
  },
  {
   "cell_type": "code",
   "execution_count": null,
   "metadata": {
    "ExecuteTime": {
     "end_time": "2019-10-29T10:48:00.364384Z",
     "start_time": "2019-10-29T10:48:00.359260Z"
    }
   },
   "outputs": [],
   "source": [
    "arrays.files"
   ]
  },
  {
   "cell_type": "code",
   "execution_count": null,
   "metadata": {
    "ExecuteTime": {
     "end_time": "2019-10-29T10:48:00.892452Z",
     "start_time": "2019-10-29T10:48:00.887828Z"
    }
   },
   "outputs": [],
   "source": [
    "float_arr_read = arrays['float_arr']"
   ]
  },
  {
   "cell_type": "code",
   "execution_count": null,
   "metadata": {
    "ExecuteTime": {
     "end_time": "2019-10-29T10:48:01.327266Z",
     "start_time": "2019-10-29T10:48:01.321423Z"
    }
   },
   "outputs": [],
   "source": [
    "float_arr_read"
   ]
  },
  {
   "cell_type": "code",
   "execution_count": null,
   "metadata": {
    "ExecuteTime": {
     "end_time": "2019-10-29T10:48:03.754462Z",
     "start_time": "2019-10-29T10:48:03.749464Z"
    }
   },
   "outputs": [],
   "source": [
    "float_arr"
   ]
  },
  {
   "cell_type": "markdown",
   "metadata": {},
   "source": [
    "## Reading and writing text files"
   ]
  },
  {
   "cell_type": "code",
   "execution_count": null,
   "metadata": {
    "ExecuteTime": {
     "end_time": "2019-10-29T10:48:05.373522Z",
     "start_time": "2019-10-29T10:48:05.369701Z"
    }
   },
   "outputs": [],
   "source": [
    "from io import StringIO"
   ]
  },
  {
   "cell_type": "code",
   "execution_count": null,
   "metadata": {
    "ExecuteTime": {
     "end_time": "2019-10-29T10:48:07.158013Z",
     "start_time": "2019-10-29T10:48:07.150043Z"
    }
   },
   "outputs": [],
   "source": [
    "np.loadtxt(StringIO(\"1 2\\n3 4\"))"
   ]
  },
  {
   "cell_type": "code",
   "execution_count": null,
   "metadata": {
    "ExecuteTime": {
     "end_time": "2019-10-29T10:48:14.524983Z",
     "start_time": "2019-10-29T10:48:14.517382Z"
    }
   },
   "outputs": [],
   "source": [
    "np.loadtxt(StringIO(\"a b\\n1 2\\n3 4\"), skiprows=1)"
   ]
  },
  {
   "cell_type": "code",
   "execution_count": null,
   "metadata": {
    "ExecuteTime": {
     "end_time": "2019-10-29T10:48:17.664009Z",
     "start_time": "2019-10-29T10:48:17.545819Z"
    }
   },
   "outputs": [],
   "source": [
    "np.loadtxt(StringIO(\"a,b\\n1,2\\n3,4\"), skiprows=1)"
   ]
  },
  {
   "cell_type": "code",
   "execution_count": null,
   "metadata": {
    "ExecuteTime": {
     "end_time": "2019-10-29T10:48:29.486837Z",
     "start_time": "2019-10-29T10:48:29.479145Z"
    }
   },
   "outputs": [],
   "source": [
    "np.loadtxt(StringIO(\"a,b\\n1,2\\n3,4\"), skiprows=1, delimiter=',')"
   ]
  },
  {
   "cell_type": "code",
   "execution_count": null,
   "metadata": {
    "ExecuteTime": {
     "end_time": "2019-10-29T10:48:34.720834Z",
     "start_time": "2019-10-29T10:48:34.713680Z"
    }
   },
   "outputs": [],
   "source": [
    "np.savetxt('arr_text.csv', arr, delimiter=',', header=\"Fancy,header\", comments='')"
   ]
  },
  {
   "cell_type": "code",
   "execution_count": null,
   "metadata": {
    "ExecuteTime": {
     "end_time": "2019-10-29T10:48:42.365892Z",
     "start_time": "2019-10-29T10:48:42.294594Z"
    }
   },
   "outputs": [],
   "source": [
    "?np.savetxt"
   ]
  },
  {
   "cell_type": "code",
   "execution_count": null,
   "metadata": {
    "ExecuteTime": {
     "end_time": "2019-10-29T10:48:47.085286Z",
     "start_time": "2019-10-29T10:48:47.080223Z"
    }
   },
   "outputs": [],
   "source": [
    "arr"
   ]
  },
  {
   "cell_type": "code",
   "execution_count": null,
   "metadata": {
    "ExecuteTime": {
     "end_time": "2019-10-29T10:48:54.372516Z",
     "start_time": "2019-10-29T10:48:54.357639Z"
    }
   },
   "outputs": [],
   "source": [
    "?np.genfromtxt"
   ]
  },
  {
   "cell_type": "code",
   "execution_count": null,
   "metadata": {},
   "outputs": [],
   "source": []
  }
 ],
 "metadata": {
  "@webio": {
   "lastCommId": null,
   "lastKernelId": null
  },
  "kernelspec": {
   "display_name": "Python 3 (ipykernel)",
   "language": "python",
   "name": "python3"
  },
  "language_info": {
   "codemirror_mode": {
    "name": "ipython",
    "version": 3
   },
   "file_extension": ".py",
   "mimetype": "text/x-python",
   "name": "python",
   "nbconvert_exporter": "python",
   "pygments_lexer": "ipython3",
   "version": "3.12.7"
  }
 },
 "nbformat": 4,
 "nbformat_minor": 4
}
