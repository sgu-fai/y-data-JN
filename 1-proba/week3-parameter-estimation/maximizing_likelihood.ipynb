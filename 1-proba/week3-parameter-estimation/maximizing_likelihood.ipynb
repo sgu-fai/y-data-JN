{
 "cells": [
  {
   "cell_type": "markdown",
   "metadata": {
    "colab_type": "text",
    "id": "WrVN8MPyTvmm"
   },
   "source": [
    "In this homework, we'll try to fit different distributions to a single-variable dataset. "
   ]
  },
  {
   "cell_type": "markdown",
   "metadata": {
    "colab_type": "text",
    "id": "Udo5bG3QD6pi"
   },
   "source": [
    "## Getting the data"
   ]
  },
  {
   "cell_type": "code",
   "execution_count": 1,
   "metadata": {
    "colab": {},
    "colab_type": "code",
    "id": "Up6UP2wKPeOO"
   },
   "outputs": [],
   "source": [
    "%%capture\n",
    "!wget https://raw.githubusercontent.com/avidale/ps4ds2019/master/homework/week3/sample.csv"
   ]
  },
  {
   "cell_type": "code",
   "execution_count": 2,
   "metadata": {
    "colab": {},
    "colab_type": "code",
    "id": "jBsNgcjpTKHJ"
   },
   "outputs": [],
   "source": [
    "import numpy as np\n",
    "import pandas as pd\n",
    "import scipy.optimize\n",
    "import scipy.stats\n",
    "import matplotlib.pyplot as plt\n",
    "%matplotlib inline"
   ]
  },
  {
   "cell_type": "markdown",
   "metadata": {
    "colab_type": "text",
    "id": "OQb9nw3FVKz2"
   },
   "source": [
    "You can think of the data as long-term return rates of some assets. But, in fact, I just generated them. "
   ]
  },
  {
   "cell_type": "code",
   "execution_count": 53,
   "metadata": {
    "colab": {
     "base_uri": "https://localhost:8080/",
     "height": 297
    },
    "colab_type": "code",
    "executionInfo": {
     "elapsed": 1502,
     "status": "ok",
     "timestamp": 1574421683565,
     "user": {
      "displayName": "Samuel Guedj",
      "photoUrl": "",
      "userId": "01886370205912253216"
     },
     "user_tz": -120
    },
    "id": "fnthl7D9TQuB",
    "outputId": "5bfd8877-6ef0-4d39-d359-1f79488d0d76"
   },
   "outputs": [
    {
     "name": "stdout",
     "output_type": "stream",
     "text": [
      "        return\n",
      "0     0.651586\n",
      "1     0.762169\n",
      "2     0.284895\n",
      "3     0.594036\n",
      "4     0.544974\n",
      "...        ...\n",
      "1995  0.770243\n",
      "1996  0.518426\n",
      "1997  0.245866\n",
      "1998  0.590990\n",
      "1999  0.349086\n",
      "\n",
      "[2000 rows x 1 columns]\n"
     ]
    },
    {
     "data": {
      "image/png": "[encoded data removed]",
      "text/plain": [
       "<Figure size 432x288 with 1 Axes>"
      ]
     },
     "metadata": {
      "needs_background": "light"
     },
     "output_type": "display_data"
    }
   ],
   "source": [
    "data = pd.read_csv('sample.csv')\n",
    "#print(data)\n",
    "x = data['return'].sort_values()\n",
    "x.hist(bins=50);\n",
    "plt.xlabel('value of random variable $x$')\n",
    "plt.ylabel('density at $f(x)$')\n",
    "plt.title('Distribution of the dataset');"
   ]
  },
  {
   "cell_type": "markdown",
   "metadata": {
    "colab_type": "text",
    "id": "ubNNsIisVoIY"
   },
   "source": [
    "Your goal today will be to find a formula for a distribution that matches our data well. "
   ]
  },
  {
   "cell_type": "markdown",
   "metadata": {
    "colab_type": "text",
    "id": "7s5zudokEA7D"
   },
   "source": [
    "## Fitting a normal distribution"
   ]
  },
  {
   "cell_type": "markdown",
   "metadata": {
    "colab_type": "text",
    "id": "GQYf_Of3TTor"
   },
   "source": [
    "Let's start by fitting a normal curve to our data."
   ]
  },
  {
   "cell_type": "code",
   "execution_count": 5,
   "metadata": {
    "colab": {},
    "colab_type": "code",
    "id": "pz_RMrpJw768"
   },
   "outputs": [],
   "source": [
    "mean, sd = x.mean(), x.std()"
   ]
  },
  {
   "cell_type": "code",
   "execution_count": 22,
   "metadata": {
    "colab": {},
    "colab_type": "code",
    "id": "HCkxR-l0xXZD"
   },
   "outputs": [],
   "source": [
    "normal = scipy.stats.norm(mean, sd)\n"
   ]
  },
  {
   "cell_type": "markdown",
   "metadata": {
    "colab_type": "text",
    "id": "D0wJ9dZEzOSq"
   },
   "source": [
    "Let's compare normal density with the density of our original data. \n",
    "\n",
    "You see that they don't match very well. "
   ]
  },
  {
   "cell_type": "code",
   "execution_count": 68,
   "metadata": {
    "colab": {
     "base_uri": "https://localhost:8080/",
     "height": 265
    },
    "colab_type": "code",
    "executionInfo": {
     "elapsed": 948,
     "status": "ok",
     "timestamp": 1574421711392,
     "user": {
      "displayName": "Samuel Guedj",
      "photoUrl": "",
      "userId": "01886370205912253216"
     },
     "user_tz": -120
    },
    "id": "nCmqI-TGykyn",
    "outputId": "f8bb5b56-2896-4c04-dc7a-48db153ad86e"
   },
   "outputs": [
    {
     "data": {
      "image/png": "[encoded data removed]",
      "text/plain": [
       "<Figure size 432x288 with 1 Axes>"
      ]
     },
     "metadata": {
      "needs_background": "light"
     },
     "output_type": "display_data"
    }
   ],
   "source": [
    "x.hist(bins=50, density=True)\n",
    "plt.plot(x, normal.pdf(x));"
   ]
  },
  {
   "cell_type": "markdown",
   "metadata": {
    "colab_type": "text",
    "id": "JN4Brphnywag"
   },
   "source": [
    "How to evaluate goodness of match numerically? \n",
    "\n",
    "One way is to calculate log-likelihood - the sum of logarithms of densities of your model, evaluated at real data points. Or we can divide it by number of samples and report average log-likelihood instead. \n",
    "\n",
    "The better the model fits the data, the higher is this mean log-likelihood"
   ]
  },
  {
   "cell_type": "code",
   "execution_count": 69,
   "metadata": {
    "colab": {
     "base_uri": "https://localhost:8080/",
     "height": 34
    },
    "colab_type": "code",
    "executionInfo": {
     "elapsed": 886,
     "status": "ok",
     "timestamp": 1574421725646,
     "user": {
      "displayName": "Samuel Guedj",
      "photoUrl": "",
      "userId": "01886370205912253216"
     },
     "user_tz": -120
    },
    "id": "up-W4ccKzmrF",
    "outputId": "34d597fe-3cfc-479b-a267-8dbcfa833f91"
   },
   "outputs": [
    {
     "name": "stdout",
     "output_type": "stream",
     "text": [
      "ll: 0.3838621258062468\n"
     ]
    }
   ],
   "source": [
    "mean_log_likelihood = np.log(normal.pdf(x)).mean()\n",
    "print('ll:', mean_log_likelihood)"
   ]
  },
  {
   "cell_type": "markdown",
   "metadata": {
    "colab_type": "text",
    "id": "84KfAN6G0ANF"
   },
   "source": [
    "Another way is to calculate CDF of your data and of your model at every point, and report the maximim absolute difference between them. This value is called Kolmogorov-Smirnov (KS) statistic. The smaller it is, the better your model matches the data. "
   ]
  },
  {
   "cell_type": "code",
   "execution_count": 70,
   "metadata": {
    "colab": {
     "base_uri": "https://localhost:8080/",
     "height": 34
    },
    "colab_type": "code",
    "executionInfo": {
     "elapsed": 1046,
     "status": "ok",
     "timestamp": 1574421729847,
     "user": {
      "displayName": "Samuel Guedj",
      "photoUrl": "",
      "userId": "01886370205912253216"
     },
     "user_tz": -120
    },
    "id": "3iyMK9RZ0ntv",
    "outputId": "7417292b-8739-4753-e9c5-dcb11ada6d98"
   },
   "outputs": [
    {
     "name": "stdout",
     "output_type": "stream",
     "text": [
      "ks: 0.07960519952425804\n"
     ]
    }
   ],
   "source": [
    "cdf_of_dataset_at_x = np.linspace(0, 1, num=len(x))\n",
    "cdf_of_model_at_x = normal.cdf(x)\n",
    "\n",
    "ks = max(np.abs(cdf_of_dataset_at_x - cdf_of_model_at_x))\n",
    "print('ks:', ks)"
   ]
  },
  {
   "cell_type": "markdown",
   "metadata": {
    "colab_type": "text",
    "id": "46caGhCU0uJy"
   },
   "source": [
    "You see that the maximal error of our CDF is almost 8%. It seems not good, so let's fit a better model. \n",
    "\n",
    "But before this, let's do an experiment: deliberately calculate metrics for a bad model and make sure they deteriorate: mean LL decreases, and KS increases."
   ]
  },
  {
   "cell_type": "code",
   "execution_count": 11,
   "metadata": {
    "colab": {
     "base_uri": "https://localhost:8080/",
     "height": 51
    },
    "colab_type": "code",
    "executionInfo": {
     "elapsed": 1440,
     "status": "ok",
     "timestamp": 1574422937440,
     "user": {
      "displayName": "Samuel Guedj",
      "photoUrl": "",
      "userId": "01886370205912253216"
     },
     "user_tz": -120
    },
    "id": "P5gJDELU1Jti",
    "outputId": "1f67fcea-e4d4-490b-e142-fdbd1badcea9"
   },
   "outputs": [
    {
     "name": "stdout",
     "output_type": "stream",
     "text": [
      "ll: -1.0375257202721393\n",
      "ks: 0.563486933260456\n"
     ]
    }
   ],
   "source": [
    "inappropriate_normal = scipy.stats.norm(0, 1)\n",
    "print('ll:', np.log(inappropriate_normal.pdf(x)).mean())\n",
    "print('ks:', max(np.abs(cdf_of_dataset_at_x - inappropriate_normal.cdf(x))))"
   ]
  },
  {
   "cell_type": "markdown",
   "metadata": {
    "colab_type": "text",
    "id": "e8zeY6Qd2QTn"
   },
   "source": [
    "## Fitting another distribution\n",
    "\n",
    "One very obvious problem with fitting normal distribution to our data is that it is symmetric, and the data are not. \n",
    "\n",
    "To tackle this problem (and to demonstrate maximum likelihood), let's try to fit the [Gumbel distribution](https://en.wikipedia.org/wiki/Gumbel_distribution) to our data. \n",
    "\n",
    "It has two parameters, $\\mu$ and $\\beta \\neq 0 $, which are related to the mode and standart deviation of the distribution, respectively. \n",
    "\n",
    "The CDF of Gumbel distribution is given by the formula\n",
    "\n",
    "$$ F(x) = e^{-e^{-(x-\\mu)/\\beta}} $$ "
   ]
  },
  {
   "cell_type": "markdown",
   "metadata": {
    "colab_type": "text",
    "id": "PaMnbgYCIYjA"
   },
   "source": [
    "In the next cell, please code a function that takes a number(or vector) $x$ and parameters $\\mu$ and $\\beta$, and outputs a number (or vector) that corresponds to **density** of Gumbel functions with these parameters at $x$:"
   ]
  },
  {
   "cell_type": "code",
   "execution_count": 30,
   "metadata": {
    "colab": {
     "base_uri": "https://localhost:8080/",
     "height": 1000
    },
    "colab_type": "code",
    "executionInfo": {
     "elapsed": 1082,
     "status": "error",
     "timestamp": 1574423729053,
     "user": {
      "displayName": "Samuel Guedj",
      "photoUrl": "",
      "userId": "01886370205912253216"
     },
     "user_tz": -120
    },
    "id": "8csOaNonI2Yf",
    "outputId": "b1ed6748-1dce-43b7-b6ec-f0cd87cd6bd7"
   },
   "outputs": [],
   "source": [
    "def gumbel_cdf(x, mu, beta):\n",
    "    z = (x - mu) / beta\n",
    "    return np.exp(-np.exp(-z))\n",
    "\n",
    "def gumbel_density(x, mu, beta):\n",
    "    z = (x - mu) / beta\n",
    "    return (1/beta) * np.exp(-(z+np.exp(-z)))\n",
    "\n",
    "\n",
    "# this is a test that what you coded is really a PDF - at least, for some parameters\n",
    "bin_size = 0.01\n",
    "grid = np.arange(-1, 2, step=bin_size)\n",
    "mu = 0.5\n",
    "beta = 0.1\n",
    "grid_density = gumbel_density(grid, mu=mu, beta=beta)\n",
    "#print(grid_density)\n",
    "assert all(grid_density >= 0)\n",
    "assert abs(sum(grid_density * bin_size) - 1) < 0.01  # test that integral of density is 1\n",
    "assert abs(sum(grid_density * grid * bin_size) - (mu + beta * 0.57721)) < 0.01"
   ]
  },
  {
   "cell_type": "markdown",
   "metadata": {
    "colab_type": "text",
    "id": "E2_CboXkKzcK"
   },
   "source": [
    "Let's plot Gumbel distribution for some (more or less arbitrary) parameters to look at its shape. Well, it's really asymmetric. "
   ]
  },
  {
   "cell_type": "code",
   "execution_count": 31,
   "metadata": {
    "colab": {},
    "colab_type": "code",
    "id": "aGz74-oFJfzY"
   },
   "outputs": [
    {
     "data": {
      "image/png": "[encoded data removed]",
      "text/plain": [
       "<Figure size 432x288 with 1 Axes>"
      ]
     },
     "metadata": {
      "needs_background": "light"
     },
     "output_type": "display_data"
    }
   ],
   "source": [
    "plt.plot(x, gumbel_density(x, mu=0.5, beta=0.1));"
   ]
  },
  {
   "cell_type": "markdown",
   "metadata": {
    "colab_type": "text",
    "id": "LF7gH514E3Ew"
   },
   "source": [
    "In the next cell, you need to write a function that takes a single vector $[\\mu, \\beta]$ and outputs the negative log-likelihood for our dataset $X$ (the dataset should be taken as a global variable):\n",
    "\n",
    "$$ NLL(\\mu, \\beta) = -\\sum_{i=1}^n \\ln{f(x_i | \\mu, \\beta)} $$ "
   ]
  },
  {
   "cell_type": "code",
   "execution_count": 33,
   "metadata": {
    "colab": {},
    "colab_type": "code",
    "id": "nwEZHyaFGpKZ"
   },
   "outputs": [
    {
     "name": "stdout",
     "output_type": "stream",
     "text": [
      "1286.8559872278765\n"
     ]
    }
   ],
   "source": [
    "def negative_log_likelihood_gumbel(parameters):\n",
    "    mu = parameters[0]\n",
    "    beta = parameters[1]\n",
    "    # todo: evaluate the likelihood here\n",
    "    gumbel_pdf = gumbel_density(x, mu, beta)\n",
    "    nll = (-1) * np.log(gumbel_pdf).sum()\n",
    "    return nll\n",
    "\n",
    "print(negative_log_likelihood_gumbel([0, 0.5]))\n",
    "assert abs(negative_log_likelihood_gumbel([0, 0.5]) - 1286.856) < 0.01"
   ]
  },
  {
   "cell_type": "markdown",
   "metadata": {
    "colab_type": "text",
    "id": "XUTP8mhQLjIz"
   },
   "source": [
    "Now let's use `scipy` built-in [optimization engine](https://docs.scipy.org/doc/scipy/reference/generated/scipy.optimize.minimize.html) to find the parameters that maximize the likelihood. \n",
    "\n",
    "Under the hood, it uses a second-order optimization algorithm, BFGS, which is something like gradient descent, but takes into account the second derivative as well. \n",
    "\n",
    "The result of optimization is an object that, among other things, contains a property `x`: the optimal parameters.  "
   ]
  },
  {
   "cell_type": "code",
   "execution_count": 34,
   "metadata": {
    "colab": {},
    "colab_type": "code",
    "id": "696GrtYxHGVd"
   },
   "outputs": [
    {
     "name": "stdout",
     "output_type": "stream",
     "text": [
      "      fun: -884.4074871053817\n",
      " hess_inv: array([[ 1.05795408e-05, -2.53796316e-07],\n",
      "       [-2.53796316e-07,  4.51338474e-06]])\n",
      "      jac: array([7.62939453e-06, 0.00000000e+00])\n",
      "  message: 'Optimization terminated successfully.'\n",
      "     nfev: 128\n",
      "      nit: 7\n",
      "     njev: 32\n",
      "   status: 0\n",
      "  success: True\n",
      "        x: array([0.38313534, 0.13615223])\n"
     ]
    }
   ],
   "source": [
    "result = scipy.optimize.minimize(negative_log_likelihood_gumbel, [0, 1])\n",
    "print(result)"
   ]
  },
  {
   "cell_type": "markdown",
   "metadata": {
    "colab_type": "text",
    "id": "DRdzdn-kMiPo"
   },
   "source": [
    "When we plot our fitted Gumbel density against the dataset, it seems to match it better than normal."
   ]
  },
  {
   "cell_type": "code",
   "execution_count": 35,
   "metadata": {
    "colab": {},
    "colab_type": "code",
    "id": "iX_ML2sHHmJn"
   },
   "outputs": [
    {
     "data": {
      "image/png": "[encoded data removed]",
      "text/plain": [
       "<Figure size 432x288 with 1 Axes>"
      ]
     },
     "metadata": {
      "needs_background": "light"
     },
     "output_type": "display_data"
    }
   ],
   "source": [
    "x.hist(density=True, bins=50)\n",
    "plt.plot(x, gumbel_density(x, *result.x));"
   ]
  },
  {
   "cell_type": "markdown",
   "metadata": {
    "colab_type": "text",
    "id": "wcWQSVXaMgN-"
   },
   "source": [
    "We can actually numerically prove it by looking at the metrics. They both improve."
   ]
  },
  {
   "cell_type": "code",
   "execution_count": 36,
   "metadata": {
    "colab": {},
    "colab_type": "code",
    "id": "KrIx9Yg1Ltee"
   },
   "outputs": [
    {
     "name": "stdout",
     "output_type": "stream",
     "text": [
      "ll: 0.4422037435526909\n",
      "ks: 0.03250574476840312\n"
     ]
    }
   ],
   "source": [
    "print('ll:', np.log(gumbel_density(x, *result.x)).mean())\n",
    "print('ks:', max(np.abs(cdf_of_dataset_at_x - gumbel_cdf(x, *result.x))))"
   ]
  },
  {
   "cell_type": "markdown",
   "metadata": {
    "colab_type": "text",
    "id": "d5xoKET_MJfw"
   },
   "source": [
    "## Fitting a mixture\n",
    "\n",
    "Another fruitful idea is to represent an unknown distribution as a mixture (weighted average) of known distributions. \n",
    "\n",
    "A popular choice for both univariate and multivariate models is the gaussian mixture model - weighted average of normal distributions. In our case it seems appropriate: the histogram of the dataset looks like a sum of two normal curves with different means and values. \n",
    "\n",
    "For our distribution, we'll use a mixed density\n",
    "\n",
    "$$f(x) = p f_1(x) + (1-p) f_2(x)$$\n",
    "\n",
    "where $f_1(x)$ and $f_2(x)$ are normal densities with parameters $(\\mu_1, \\sigma_1^2)$ and $(\\mu_2, \\sigma_2^2)$ respectively."
   ]
  },
  {
   "cell_type": "code",
   "execution_count": 38,
   "metadata": {
    "colab": {},
    "colab_type": "code",
    "id": "0qwdXA1AQ6NS"
   },
   "outputs": [],
   "source": [
    "def mixture_density(x, p, m1, s1, m2, s2):\n",
    "    # if parameters are incorrect, return a very small number\n",
    "    if p <= 0 or p >= 1 or s1 <= 0 or s2 <= 0:\n",
    "        return x * 0 + 1e-10\n",
    "    return scipy.stats.norm.pdf(x, m1, s1) * p + scipy.stats.norm.pdf(x, m2, s2) * (1 - p)\n",
    "\n",
    "def mixture_cdf(x, p, m1, s1, m2, s2):\n",
    "    # if parameters are incorrect, return a very small number\n",
    "    if p <= 0 or p >= 1 or s1 <= 0 or s2 <= 0:\n",
    "        return x * 0 + 1e-10\n",
    "    return scipy.stats.norm.cdf(x, m1, s1) * p + scipy.stats.norm.cdf(x, m2, s2) * (1 - p)"
   ]
  },
  {
   "cell_type": "markdown",
   "metadata": {
    "colab_type": "text",
    "id": "8l3ILZWHTfNi"
   },
   "source": [
    "In the cell below, try to guess values of the parameters that make our mixture model to match the distribution of the dataset well. \n",
    "\n",
    "Try to get a KS score below 0.03."
   ]
  },
  {
   "cell_type": "code",
   "execution_count": 40,
   "metadata": {
    "colab": {},
    "colab_type": "code",
    "id": "7DD0pPW_RTOC"
   },
   "outputs": [
    {
     "name": "stdout",
     "output_type": "stream",
     "text": [
      "ll: 0.42801052385926425\n",
      "ks: 0.022785485475103395\n"
     ]
    },
    {
     "data": {
      "image/png": "[encoded data removed]",
      "text/plain": [
       "<Figure size 432x288 with 1 Axes>"
      ]
     },
     "metadata": {
      "needs_background": "light"
     },
     "output_type": "display_data"
    }
   ],
   "source": [
    "# todo: change these parameters manually to make a good fit\n",
    "# p = 0.5\n",
    "# m1 = 0.0\n",
    "# m2 = 1.0\n",
    "# s1 = 1.0\n",
    "# s2 = 1.0\n",
    "p = 0.3\n",
    "m1 = 0.32\n",
    "m2 = 0.51\n",
    "s1 = 0.055\n",
    "s2 = 0.14\n",
    "params = [p, m1, s1, m2, s2]\n",
    "\n",
    "x.hist(density=True, bins=50, color='lightblue')\n",
    "plt.plot(x, scipy.stats.norm.pdf(x, m1, s1) * p);\n",
    "plt.plot(x, scipy.stats.norm.pdf(x, m2, s2) * (1-p));\n",
    "plt.plot(x, mixture_density(x, *params))\n",
    "plt.legend(['f1', 'f2', 'mixture', 'data'])\n",
    "\n",
    "print('ll:', np.log(mixture_density(x, *params)).mean())\n",
    "print('ks:', max(np.abs(cdf_of_dataset_at_x - mixture_cdf(x, *params))))"
   ]
  },
  {
   "cell_type": "markdown",
   "metadata": {
    "colab_type": "text",
    "id": "VOTaNg5vT-bo"
   },
   "source": [
    "Now, instead of maximizing likelihood by guess, let's again use the optimization engine. "
   ]
  },
  {
   "cell_type": "code",
   "execution_count": 41,
   "metadata": {
    "colab": {},
    "colab_type": "code",
    "id": "MwkXr51JTBqo"
   },
   "outputs": [],
   "source": [
    "def negative_log_likelihood_mixture(params):\n",
    "    return -sum(np.log(mixture_density(x, *params)))"
   ]
  },
  {
   "cell_type": "markdown",
   "metadata": {
    "colab_type": "text",
    "id": "VPehUXtSUF8n"
   },
   "source": [
    "In the cell below, save into the `result` variable the result of optimizing "
   ]
  },
  {
   "cell_type": "code",
   "execution_count": 44,
   "metadata": {
    "colab": {},
    "colab_type": "code",
    "id": "ybyIHmYaSS90"
   },
   "outputs": [
    {
     "name": "stdout",
     "output_type": "stream",
     "text": [
      "      fun: -910.0520089339504\n",
      " hess_inv: array([[ 1.17967931e-05, -7.43241499e-06,  4.96548977e-06,\n",
      "         9.50147002e-06, -7.03124386e-06],\n",
      "       [-7.43241499e-06,  1.15301763e-05,  2.37278005e-06,\n",
      "        -3.08272787e-06,  3.43963758e-06],\n",
      "       [ 4.96548977e-06,  2.37278005e-06,  9.61985384e-06,\n",
      "         3.54721286e-06,  1.04314987e-07],\n",
      "       [ 9.50147002e-06, -3.08272787e-06,  3.54721286e-06,\n",
      "         2.96404720e-05, -2.23900925e-06],\n",
      "       [-7.03124386e-06,  3.43963758e-06,  1.04314987e-07,\n",
      "        -2.23900925e-06,  1.20492088e-05]])\n",
      "      jac: array([2.28881836e-05, 2.44140625e-04, 5.79833984e-04, 2.44140625e-04,\n",
      "       2.44140625e-04])\n",
      "  message: 'Desired error not necessarily achieved due to precision loss.'\n",
      "     nfev: 260\n",
      "      nit: 14\n",
      "     njev: 37\n",
      "   status: 2\n",
      "  success: False\n",
      "        x: array([0.32266761, 0.33878803, 0.05464917, 0.51517575, 0.16927228])\n"
     ]
    }
   ],
   "source": [
    "# todo: save into this variable the result of numerical optimization of the mixture model\n",
    "p = 0.3\n",
    "m1 = 0.32\n",
    "m2 = 0.51\n",
    "s1 = 0.055\n",
    "s2 = 0.14\n",
    "params = [p, m1, s1, m2, s2]\n",
    "\n",
    "result = scipy.optimize.minimize(negative_log_likelihood_mixture, params)\n",
    "print(result)"
   ]
  },
  {
   "cell_type": "markdown",
   "metadata": {
    "colab_type": "text",
    "id": "vCa0DiYQUyMD"
   },
   "source": [
    "You see that scipy makes a really good job at maximizing log likelihood (KS statistic may, in fact, be slightly worse than the result of manual fitting - because scipy didn't optimize it at all). \n"
   ]
  },
  {
   "cell_type": "code",
   "execution_count": 45,
   "metadata": {
    "colab": {},
    "colab_type": "code",
    "id": "3gSNyyukTMdX"
   },
   "outputs": [
    {
     "name": "stdout",
     "output_type": "stream",
     "text": [
      "ll: 0.4550260044669742\n",
      "ks: 0.025600229541094532\n"
     ]
    },
    {
     "data": {
      "image/png": "[encoded data removed]",
      "text/plain": [
       "<Figure size 432x288 with 1 Axes>"
      ]
     },
     "metadata": {
      "needs_background": "light"
     },
     "output_type": "display_data"
    }
   ],
   "source": [
    "x.hist(density=True, bins=50)\n",
    "plt.plot(x, mixture_density(x, *result.x));\n",
    "print('ll:', np.log(mixture_density(x, *result.x)).mean())\n",
    "print('ks:', max(np.abs(cdf_of_dataset_at_x - mixture_cdf(x, *result.x))))"
   ]
  },
  {
   "cell_type": "markdown",
   "metadata": {
    "colab_type": "text",
    "id": "-X6xybUTTTGv"
   },
   "source": []
  }
 ],
 "metadata": {
  "colab": {
   "collapsed_sections": [],
   "name": "Samuel Guedj - maximizing_likelihood.ipynb",
   "provenance": [
    {
     "file_id": "13YZQgw0AmFvlV02NQvRpGLnrBTs4zn1b",
     "timestamp": 1573843165587
    }
   ]
  },
  "kernelspec": {
   "display_name": "Python 3 (ipykernel)",
   "language": "python",
   "name": "python3"
  },
  "language_info": {
   "codemirror_mode": {
    "name": "ipython",
    "version": 3
   },
   "file_extension": ".py",
   "mimetype": "text/x-python",
   "name": "python",
   "nbconvert_exporter": "python",
   "pygments_lexer": "ipython3",
   "version": "3.12.7"
  }
 },
 "nbformat": 4,
 "nbformat_minor": 4
}
