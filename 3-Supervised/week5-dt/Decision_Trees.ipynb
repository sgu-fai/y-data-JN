{
 "cells": [
  {
   "cell_type": "markdown",
   "metadata": {
    "colab_type": "text",
    "id": "Cg047ujRBmtU"
   },
   "source": [
    "# Decision Trees Exercise\n",
    "In this exercise you will show that ID3 is sub-optimal. Implement a simple version of Random Forest, and will then apply a Decision Tree classsifier and random forest on the MNIST hand written digits dataset that we already saw.\n"
   ]
  },
  {
   "cell_type": "markdown",
   "metadata": {
    "colab_type": "text",
    "id": "osXAmT5y4iM8"
   },
   "source": [
    "## Suboptimality of ID3\n",
    "Consider the following training set, where $\\mathcal{X} = \\{0, 1\\}^3$ and $\\mathcal{Y} =\\{0, 1\\}$:\n",
    "\n",
    "$$\n",
    "\\begin{aligned}\n",
    "((1, 1, 1), 1)\\\\\n",
    "((1, 0, 0), 1)\\\\\n",
    "((1, 1, 0), 0)\\\\\n",
    "((0, 0, 1), 0)\n",
    "\\end{aligned}\n",
    "$$\n",
    "\n",
    "Suppose we wish to use this training set in order to build a decision tree of depth 2 (i.e. for each\n",
    "input we are allowed to ask two questions of the form \"$x_i = 0$?\" before deciding on the label).\n",
    "\n",
    "1. Suppose we run the ID3 algorithm up to depth 2 (namely, we pick the root node and its\n",
    "children according to the algorithm, but instead of keeping on with the recursion, we stop\n",
    "and pick leaves according to the majority label in each subtree, once we reach depth 2). \n",
    "Assume that the subroutine used to measure the quality of each feature is based on the information gain, and that if two features get the same score, one of them is picked arbitrarily. \n",
    "Show that the training error of the resulting decision tree is at least 1/4.\n",
    "2. Find a decision tree of depth 2, which attains zero training error.\n"
   ]
  },
  {
   "cell_type": "markdown",
   "metadata": {},
   "source": [
    "#### Answer 1\n",
    "\n",
    "We would split on the first digit using information gain. The other two features have different features for different classes. Taking either the 2nd or the 3rd feature as the second node, the expected error is 25%."
   ]
  },
  {
   "cell_type": "markdown",
   "metadata": {
    "colab_type": "text",
    "id": "xC7Anlwu50XD"
   },
   "source": [
    "#### Answer 2\n",
    "\n",
    "Root X2 == 0 \n",
    "    \n",
    "    true:\n",
    "      X3 == 0\n",
    "      true:\n",
    "        retrun 1\n",
    "      false:\n",
    "        return 0\n",
    "    \n",
    "    false:\n",
    "      X3 == 0\n",
    "      true:\n",
    "        retrun 0\n",
    "      false:\n",
    "        return 1"
   ]
  },
  {
   "cell_type": "markdown",
   "metadata": {
    "colab_type": "text",
    "id": "tLXpoHg64HlD"
   },
   "source": [
    "## Implementing Random Forest From Scratch\n",
    "In this exercise you will need to implement a simple version of Random Forest Regressor from scratch. Your decision tree will handle **continuous input and output** (this should actually work also for binary input attributes). \n",
    "\n",
    "* Compelete the skeleton class below (hint: you should also create a `DecisionTree` class that the `TreeEnsemble` will use)\n",
    "  - `X` is a matrix of data values (rows are samples, columns are attributes)\n",
    "  - `y` is a vector of corresponding target values\n",
    "  - `n_trees` is the number of trees to create\n",
    "  - `sample_sz` is the size of the sample set to use of each of the trees in the forest (chose the samples randomly, with or without repetition)\n",
    "  - `min_leaf` is the minimal number of samples in each leaf node of each tree in the forest\n",
    "  \n",
    "* For splitting criterion, use either **\"Train Squared Error Minimization (Reduction in Variance)\"** or **\"Train Absolute Error Minimization\"** (choose one). Whatever you choose, make sure you implement the splitting point decision efficiently (in $O(n)$ time).\n",
    "\n",
    "* The `predict` function will use mean of the target values in the leaf node matching each row of the given `X`. The result is a vector of predictions matching the number of rows in `X`.\n",
    "\n",
    "* The `oob_mse` function will compute the mean squared error over all **out of bag (oob)** samples. That is, for each sample calculate the squared error using  predictions from the trees that do not contain x in their respective bootstrap sample, then average this score for all samples. See:  [OOB Errors for Random Forests](https://scikit-learn.org/stable/auto_examples/ensemble/plot_ensemble_oob.html).\n",
    "\n",
    "* To check your random forest implementation, use the bostom dataset (`from sklearn.datasets import load_boston`)\n",
    "\n",
    "  - Use the following to estimate what are the best hyper parameters to use for your model\n",
    "```\n",
    "for n in [1,5,10,20,50,100]:\n",
    "  for sz in [50,100,300,500]:\n",
    "    for min_leaf in [1,5]:\n",
    "      forest = TreeEnsemble(X, y, n, sz, min_leaf)\n",
    "      mse = forest.oob_mse()\n",
    "      print(\"n_trees:{0}, sz:{1}, min_leaf:{2} --- oob mse: {3}\".format(n, sz, min_leaf, mse))\n",
    "```\n",
    "  \n",
    "  - Using your chosen hyperparameters as a final model, plot the predictions vs. true values of all the samples in the training set . Use something like:\n",
    "  ```\n",
    "  y_hat = forest.predict(X)  # forest is the chosen model\n",
    "  plt.scatter(y_hat, y)\n",
    "  ```\n",
    "  \n",
    "\n"
   ]
  },
  {
   "cell_type": "code",
   "execution_count": 123,
   "metadata": {},
   "outputs": [],
   "source": [
    "import numpy as np\n",
    "import math\n",
    "from sklearn.metrics import mean_squared_error"
   ]
  },
  {
   "cell_type": "code",
   "execution_count": 156,
   "metadata": {},
   "outputs": [],
   "source": [
    "class TreeEnsemble():\n",
    "\n",
    "    def __init__(self, n_trees, sample_sz, min_leaf):\n",
    "#         self.X = X\n",
    "#         self.y = y\n",
    "        self.trees = []\n",
    "        self.n_trees = n_trees\n",
    "        self.sample_sz = sample_sz\n",
    "        self.min_leaf = min_leaf\n",
    "        self.fit(X, y)\n",
    "#         return self\n",
    "        \n",
    "        \n",
    "    def fit(self, X, y):\n",
    "        for tree_i in range(self.n_trees):\n",
    "            tree = DecisionTree(self.sample_sz, self.min_leaf)\n",
    "            self.trees.append(tree.fit(X, y))\n",
    "        return self\n",
    "  \n",
    "    def predict(self, X):\n",
    "        pred = []\n",
    "        for tree in self.trees:\n",
    "            pred.append(tree.predict(X))\n",
    "        return np.asarray(pred).mean(axis=0)\n",
    "\n",
    "    def oob_mse(self):\n",
    "        errors = []\n",
    "        for tree in self.trees:\n",
    "            errors.append(tree.oob_mse())\n",
    "        return np.asarray(errors).mean()"
   ]
  },
  {
   "cell_type": "code",
   "execution_count": 152,
   "metadata": {},
   "outputs": [],
   "source": [
    "class DecisionTree():\n",
    "    \n",
    "    def __init__(self, sample_sz, min_leaf):\n",
    "        self.min_leaf = min_leaf\n",
    "        self.sample_size =  sample_sz\n",
    "\n",
    "        \n",
    "    def fit(self, X, y):\n",
    "        # sample from X\n",
    "        num_samples = X.shape[0]\n",
    "        sample = np.random.randint(0, num_samples, self.sample_size) #I don't think it's the correct function: can have twice the same result\n",
    "        self.X = X[sample]\n",
    "        self.y = y[sample]\n",
    "        not_sampled = [i for i in np.arange(num_samples) if i not in sample] # better way to do it ?\n",
    "        self.oob_X = X[not_sampled]\n",
    "        self.oob_y = y[not_sampled]\n",
    "        # call recursive builder\n",
    "        self.top_node = Node()\n",
    "        self.recursive_tree_builder(self.X, self.y, self.top_node)\n",
    "        return self\n",
    "\n",
    "    def predict(self, X):\n",
    "        # run on all trees and get proba per classes (make into vector and then avergae columns)\n",
    "        return np.apply_along_axis(self.predict_single, arr=X, axis=1)\n",
    "    \n",
    "    def predict_single(self, x):\n",
    "        node = self.top_node\n",
    "        val = node.value\n",
    "        feat_idx = node.feature\n",
    "        while(True):\n",
    "            if node.value is None or node.feature is None:\n",
    "                return node.mean\n",
    "            if x[feat_idx] > val:\n",
    "                node = node.bigger\n",
    "                val = node.value\n",
    "                feat_idx = node.feature\n",
    "            else:\n",
    "                node = node.smaller\n",
    "                val = node.value\n",
    "                feat_idx = node.feature\n",
    "                \n",
    "    def oob_mse(self):\n",
    "         return mean_squared_error(self.predict(self.oob_X), self.oob_y)\n",
    "    \n",
    "    \n",
    "    def recursive_tree_builder(self, X, y, curr_node):\n",
    "#         print(f'Recursifying size of X: {X.shape[0]}')\n",
    "        #if we have less than min leaf we return\n",
    "        if X.shape[0] <= 2 * self.min_leaf:\n",
    "            # update as end node with proba\n",
    "            curr_node.mean = np.mean(y)\n",
    "#             print(f'Pred1: {curr_node.class_probas}')\n",
    "            return\n",
    "        else:\n",
    "            # find best feature to split by\n",
    "            curr_node.feature, curr_node.value = self.best_split(X, y)\n",
    "            if curr_node.value is None:\n",
    "                curr_node.mean = np.mean(y)\n",
    "#                 print(f'Pred2: {curr_node.class_probas}')\n",
    "                return\n",
    "            bigger = X[:,curr_node.feature] > curr_node.value\n",
    "            smaller = X[:,curr_node.feature] <= curr_node.value\n",
    "            self.recursive_tree_builder(X[bigger,:], y[bigger], curr_node.set_bigger())\n",
    "            self.recursive_tree_builder(X[smaller,:], y[smaller], curr_node.set_smaller())\n",
    "            return\n",
    "            \n",
    "            \n",
    "    def best_split(self, X, y):\n",
    "        # for each feature we check 'all' points and take point with lowest\n",
    "        kwargs = {'y': y, 'min_leaf':self.min_leaf}\n",
    "        min_split_per_feature, error = np.apply_along_axis(self.get_min_split, arr=X, axis=0, **kwargs)\n",
    "        feature = np.argmin(error)\n",
    "        split_val = min_split_per_feature[feature]\n",
    "#         print(f'Feature found: {feature} Error: {np.min(error)}, Split val: {split_val}')\n",
    "        return feature, split_val\n",
    "                                   \n",
    "    def get_min_split(self, feat, y, min_leaf):\n",
    "        idxs = np.argsort(feat)\n",
    "        feat = np.sort(feat)\n",
    "        y = y[idxs]\n",
    "        bounds = feat[min_leaf: -(min_leaf + 1)]\n",
    "\n",
    "        min_error = math.inf\n",
    "        split_val = None\n",
    "        for trial in bounds:\n",
    "            if self.bad_trial(trial, feat):\n",
    "                pass\n",
    "            error = self.get_var_error(trial, feat, y)\n",
    "            if error < min_error:\n",
    "                min_error = error\n",
    "                split_val = trial\n",
    "#         print(f'Split found: {split_val} Error: {min_error}')\n",
    "        return (split_val, min_error)\n",
    "\n",
    "    def bad_trial(self, split, feat):\n",
    "        bigger = feat > split\n",
    "        smaller = feat <= split\n",
    "        return (feat[bigger].shape[0] <= self.min_leaf) or (feat[smaller].shape[0] <= self.min_leaf)\n",
    "                                \n",
    "    def get_var_error(self, split, feat, y):\n",
    "        bigger = feat > split\n",
    "        smaller = feat <= split\n",
    "\n",
    "        var_bigger = np.square(np.var(feat[bigger]))\n",
    "        var_smaller = np.square(np.var(feat[smaller]))\n",
    "        \n",
    "        bigger_size = feat[bigger].shape[0]\n",
    "        smaller_size = feat[smaller].shape[0]\n",
    "        n = feat.shape[0]\n",
    "\n",
    "        return (bigger_size/n)*var_bigger + (smaller_size/n)*var_smaller"
   ]
  },
  {
   "cell_type": "code",
   "execution_count": 154,
   "metadata": {},
   "outputs": [],
   "source": [
    "class Node:\n",
    "    \n",
    "    \n",
    "    def __init__(self):\n",
    "        self.feature = None\n",
    "        self.value = None\n",
    "        self.smaller = None\n",
    "        self.bigger = None\n",
    "        self.mean = None\n",
    "\n",
    "    def set_bigger(self):\n",
    "        \"\"\"\n",
    "        Creates child, adds to child list and returns child\n",
    "        \"\"\"\n",
    "        self.bigger = Node()\n",
    "        return self.bigger\n",
    "                                   \n",
    "    def set_smaller(self):\n",
    "        \"\"\"\n",
    "        Creates child, adds to child list and returns child\n",
    "        \"\"\"\n",
    "        self.smaller = Node()\n",
    "        return self.smaller\n",
    "\n",
    "    def is_leaf(self):\n",
    "        return self.smaller is None and self.bigger is None\n",
    "    \n",
    "    def print_tree(self, depth):\n",
    "        if self.is_leaf():\n",
    "             print(f'Probas: {self.mean}')\n",
    "        else:\n",
    "            print(f'Node level {depth}, Feature: {self.feature}, Split val: {self.value}')\n",
    "            self.smaller.print_tree(depth+1)\n",
    "            self.bigger.print_tree(depth+1)"
   ]
  },
  {
   "cell_type": "code",
   "execution_count": 144,
   "metadata": {},
   "outputs": [],
   "source": [
    "from sklearn.datasets import load_boston\n",
    "from sklearn.model_selection import train_test_split\n",
    "import pandas as pd"
   ]
  },
  {
   "cell_type": "code",
   "execution_count": 145,
   "metadata": {},
   "outputs": [],
   "source": [
    "\n",
    "X, y = load_boston(return_X_y=True)\n",
    "X_train, X_test, y_train, y_test = train_test_split(X, y, test_size=0.33, random_state=42)"
   ]
  },
  {
   "cell_type": "code",
   "execution_count": 125,
   "metadata": {},
   "outputs": [],
   "source": [
    "import warnings\n",
    "warnings.filterwarnings('ignore')"
   ]
  },
  {
   "cell_type": "code",
   "execution_count": 126,
   "metadata": {},
   "outputs": [
    {
     "name": "stdout",
     "output_type": "stream",
     "text": [
      "n_trees:1, sz:50, min_leaf:1 --- oob mse: 92.22992556281773\n",
      "n_trees:1, sz:50, min_leaf:5 --- oob mse: 83.94040637358003\n",
      "n_trees:1, sz:100, min_leaf:1 --- oob mse: 66.29988133121188\n",
      "n_trees:1, sz:100, min_leaf:5 --- oob mse: 62.71363580129761\n",
      "n_trees:1, sz:300, min_leaf:1 --- oob mse: 45.25025299463031\n",
      "n_trees:1, sz:300, min_leaf:5 --- oob mse: 61.08730297613808\n",
      "n_trees:1, sz:500, min_leaf:1 --- oob mse: 45.13956552706553\n",
      "n_trees:1, sz:500, min_leaf:5 --- oob mse: 60.600028290148536\n",
      "n_trees:5, sz:50, min_leaf:1 --- oob mse: 87.79685532579335\n",
      "n_trees:5, sz:50, min_leaf:5 --- oob mse: 78.28635558784312\n",
      "n_trees:5, sz:100, min_leaf:1 --- oob mse: 73.99497591206018\n",
      "n_trees:5, sz:100, min_leaf:5 --- oob mse: 63.02052618153009\n",
      "n_trees:5, sz:300, min_leaf:1 --- oob mse: 56.625978058208695\n",
      "n_trees:5, sz:300, min_leaf:5 --- oob mse: 50.89055491068475\n",
      "n_trees:5, sz:500, min_leaf:1 --- oob mse: 41.672099870831275\n",
      "n_trees:5, sz:500, min_leaf:5 --- oob mse: 46.60971109390486\n",
      "n_trees:10, sz:50, min_leaf:1 --- oob mse: 89.08678185049777\n",
      "n_trees:10, sz:50, min_leaf:5 --- oob mse: 74.91585936919061\n",
      "n_trees:10, sz:100, min_leaf:1 --- oob mse: 73.91217840366973\n",
      "n_trees:10, sz:100, min_leaf:5 --- oob mse: 66.9005238494076\n",
      "n_trees:10, sz:300, min_leaf:1 --- oob mse: 54.47352021869834\n",
      "n_trees:10, sz:300, min_leaf:5 --- oob mse: 54.06193013801665\n",
      "n_trees:10, sz:500, min_leaf:1 --- oob mse: 46.85016040989306\n",
      "n_trees:10, sz:500, min_leaf:5 --- oob mse: 47.79119585943122\n",
      "n_trees:20, sz:50, min_leaf:1 --- oob mse: 74.4218206158125\n",
      "n_trees:20, sz:50, min_leaf:5 --- oob mse: 70.1871818249763\n",
      "n_trees:20, sz:100, min_leaf:1 --- oob mse: 69.75219823613584\n",
      "n_trees:20, sz:100, min_leaf:5 --- oob mse: 66.38014131242475\n",
      "n_trees:20, sz:300, min_leaf:1 --- oob mse: 50.65016006595871\n",
      "n_trees:20, sz:300, min_leaf:5 --- oob mse: 53.08423544100392\n",
      "n_trees:20, sz:500, min_leaf:1 --- oob mse: 45.24706179460493\n",
      "n_trees:20, sz:500, min_leaf:5 --- oob mse: 49.95135292260775\n",
      "n_trees:50, sz:50, min_leaf:1 --- oob mse: 80.38562722197527\n",
      "n_trees:50, sz:50, min_leaf:5 --- oob mse: 74.05180171627342\n",
      "n_trees:50, sz:100, min_leaf:1 --- oob mse: 70.20359256058634\n",
      "n_trees:50, sz:100, min_leaf:5 --- oob mse: 65.60009271851725\n",
      "n_trees:50, sz:300, min_leaf:1 --- oob mse: 52.20739047667516\n",
      "n_trees:50, sz:300, min_leaf:5 --- oob mse: 53.60049682395285\n",
      "n_trees:50, sz:500, min_leaf:1 --- oob mse: 42.259112444327165\n",
      "n_trees:50, sz:500, min_leaf:5 --- oob mse: 46.757538346322036\n",
      "n_trees:100, sz:50, min_leaf:1 --- oob mse: 83.13297774219635\n",
      "n_trees:100, sz:50, min_leaf:5 --- oob mse: 74.23537254591255\n",
      "n_trees:100, sz:100, min_leaf:1 --- oob mse: 70.02387558047751\n",
      "n_trees:100, sz:100, min_leaf:5 --- oob mse: 65.58508034417369\n",
      "n_trees:100, sz:300, min_leaf:1 --- oob mse: 52.13528091646312\n",
      "n_trees:100, sz:300, min_leaf:5 --- oob mse: 55.34323870738317\n",
      "n_trees:100, sz:500, min_leaf:1 --- oob mse: 46.02346201995526\n",
      "n_trees:100, sz:500, min_leaf:5 --- oob mse: 49.005638770704756\n"
     ]
    }
   ],
   "source": [
    "for n in [1,5,10,20,50,100]:\n",
    "# for n in [5,10,20,50,100]:\n",
    "    for sz in [50,100,300,500]:\n",
    "        for min_leaf in [1,5]:\n",
    "            forest = TreeEnsemble(X, y, n, sz, min_leaf)\n",
    "#             forest.fit(X, y)\n",
    "#             forest = TreeEnsemble(data1.loc[:,0:12], data1.loc[:,12:13], n, sz, min_leaf)\n",
    "            mse = forest.oob_mse()\n",
    "            print(\"n_trees:{0}, sz:{1}, min_leaf:{2} --- oob mse: {3}\".format(n, sz, min_leaf, mse))"
   ]
  },
  {
   "cell_type": "code",
   "execution_count": 157,
   "metadata": {
    "scrolled": true
   },
   "outputs": [
    {
     "name": "stdout",
     "output_type": "stream",
     "text": [
      "getting y from my model\n",
      "getting y from my model\n"
     ]
    }
   ],
   "source": [
    "\n",
    "print(\"getting y from my model\")\n",
    "y_my_model = TreeEnsemble(n_trees=5, sample_sz=500, min_leaf=1).fit(X_train, y_train).predict(X_test)\n"
   ]
  },
  {
   "cell_type": "code",
   "execution_count": 159,
   "metadata": {},
   "outputs": [
    {
     "data": {
      "text/plain": [
       "<matplotlib.collections.PathCollection at 0x141d8d048>"
      ]
     },
     "execution_count": 159,
     "metadata": {},
     "output_type": "execute_result"
    },
    {
     "data": {
      "image/png": "[encoded data removed]",
      "text/plain": [
       "<Figure size 432x288 with 1 Axes>"
      ]
     },
     "metadata": {
      "needs_background": "light"
     },
     "output_type": "display_data"
    }
   ],
   "source": [
    "import matplotlib.pyplot as plt\n",
    "\n",
    "plt.scatter(y_my_model, y_test)"
   ]
  },
  {
   "cell_type": "markdown",
   "metadata": {
    "colab_type": "text",
    "id": "TF5TjNuvTKof"
   },
   "source": [
    "## Using Decision Tree and Random Forest for Digits Classification\n",
    "Remeber the MNIST dataset used - you will now test the power of decision trees on this problem.\n",
    "This time you are given a free hand in choosing the test and train set sizes, model parameters (such as gain function and constraints over the trees) and features (whether to use binary pixel values or the original continous gray value).\n",
    "- Choose which model parameters you wish to optimize, explain how would you do that, and find a model which you believe would have the minimal generalization error --- do this for both a single decision tree model, and a random forest.\n",
    "  - You can use `sklearn.tree.DecisionTreeClassifier` and `sklearn.ensemble.RandomForestClassifier`\n",
    "- Once you are satisfied with the model parameters, plot for each of the models (a single decision tree and random forest) the importance of each of the pixels to the final decision.\n",
    "- Last, estimate the class assignment probabilities for all the correctly classified and misclassified examples in your test data.\n",
    "- Discuss your results."
   ]
  },
  {
   "cell_type": "code",
   "execution_count": 5,
   "metadata": {
    "colab": {},
    "colab_type": "code",
    "id": "8-k9WpIV_n7Y"
   },
   "outputs": [],
   "source": [
    "# code and answer go here\n",
    "import keras\n",
    "import numpy as np\n",
    "from keras.datasets import mnist\n",
    "from sklearn import datasets\n",
    "from sklearn.ensemble import RandomForestClassifier\n",
    "from sklearn.tree import DecisionTreeClassifier\n",
    "from sklearn.metrics import accuracy_score\n",
    "from sklearn.model_selection import train_test_split\n",
    "from sklearn.linear_model import LogisticRegressionCV\n",
    "from sklearn.model_selection import GridSearchCV\n",
    "\n",
    "(X_train, y_train), (X_test, y_test) = mnist.load_data()\n",
    "X_train = X_train.reshape(X_train.shape[0], 784)\n",
    "X_test = X_test.reshape(X_test.shape[0], 784)"
   ]
  },
  {
   "cell_type": "code",
   "execution_count": 2,
   "metadata": {
    "scrolled": false
   },
   "outputs": [
    {
     "name": "stdout",
     "output_type": "stream",
     "text": [
      "Fitting 5 folds for each of 54 candidates, totalling 270 fits\n"
     ]
    },
    {
     "name": "stderr",
     "output_type": "stream",
     "text": [
      "[Parallel(n_jobs=-1)]: Using backend LokyBackend with 8 concurrent workers.\n",
      "[Parallel(n_jobs=-1)]: Done   2 tasks      | elapsed: 24.1min\n",
      "[Parallel(n_jobs=-1)]: Done   9 tasks      | elapsed: 38.0min\n",
      "[Parallel(n_jobs=-1)]: Done  16 tasks      | elapsed: 40.6min\n",
      "[Parallel(n_jobs=-1)]: Done  25 tasks      | elapsed: 43.2min\n",
      "[Parallel(n_jobs=-1)]: Done  34 tasks      | elapsed: 44.1min\n",
      "[Parallel(n_jobs=-1)]: Done  45 tasks      | elapsed: 52.0min\n",
      "[Parallel(n_jobs=-1)]: Done  56 tasks      | elapsed: 131.3min\n",
      "[Parallel(n_jobs=-1)]: Done  69 tasks      | elapsed: 135.6min\n",
      "[Parallel(n_jobs=-1)]: Done  82 tasks      | elapsed: 137.1min\n",
      "[Parallel(n_jobs=-1)]: Done  97 tasks      | elapsed: 255.3min\n",
      "[Parallel(n_jobs=-1)]: Done 112 tasks      | elapsed: 265.0min\n",
      "[Parallel(n_jobs=-1)]: Done 129 tasks      | elapsed: 267.9min\n",
      "[Parallel(n_jobs=-1)]: Done 146 tasks      | elapsed: 290.5min\n",
      "[Parallel(n_jobs=-1)]: Done 165 tasks      | elapsed: 302.7min\n",
      "[Parallel(n_jobs=-1)]: Done 184 tasks      | elapsed: 582.3min\n",
      "[Parallel(n_jobs=-1)]: Done 205 tasks      | elapsed: 1418.5min\n",
      "[Parallel(n_jobs=-1)]: Done 226 tasks      | elapsed: 1433.7min\n",
      "[Parallel(n_jobs=-1)]: Done 249 tasks      | elapsed: 1450.1min\n",
      "[Parallel(n_jobs=-1)]: Done 270 out of 270 | elapsed: 1464.8min finished\n"
     ]
    }
   ],
   "source": [
    "param_grid_RF = {\n",
    "    'n_estimators' : [10,50,100],\n",
    "    'criterion': ['gini','entropy'],\n",
    "    'max_depth' : [None,50,100],\n",
    "    'max_features' : [None,\"sqrt\",\"log2\"],\n",
    "    'bootstrap' : [True],\n",
    "    'oob_score' : [True]\n",
    "}\n",
    "\n",
    "\n",
    "clf_RF = RandomForestClassifier(random_state=0)\n",
    "search_RF = GridSearchCV(clf_RF, param_grid_RF, cv=5, verbose=10, n_jobs=-1).fit(X_train, y_train)\n",
    "best_CLF_RF = clf_RF.set_params(**search_RF.best_params_)\n",
    "best_CLF_RF.fit(X_train,y_train)\n",
    "best_CLF_RF_test_score = best_CLF_RF.score(X_test,y_test)"
   ]
  },
  {
   "cell_type": "markdown",
   "metadata": {},
   "source": [
    "It took a crazy amount of time to generate "
   ]
  },
  {
   "cell_type": "code",
   "execution_count": 7,
   "metadata": {},
   "outputs": [
    {
     "name": "stdout",
     "output_type": "stream",
     "text": [
      "===============\n",
      "RF grid results\n",
      "===============\n",
      "Best parameters : {'bootstrap': True, 'criterion': 'gini', 'max_depth': None, 'max_features': 'sqrt', 'n_estimators': 100, 'oob_score': True}\n",
      "CV accuracy : 96.7%\n",
      "test accuracy : 97.0%\n"
     ]
    }
   ],
   "source": [
    "print(\"===============\")\n",
    "print(\"RF grid results\")\n",
    "print(\"===============\")\n",
    "print(f'Best parameters : {search_RF.best_params_}')\n",
    "print(f'CV accuracy : {np.round(100*search_RF.best_score_,1)}%')\n",
    "print(f'test accuracy : {np.round(100*best_CLF_RF_test_score,1)}%')"
   ]
  },
  {
   "cell_type": "code",
   "execution_count": 6,
   "metadata": {},
   "outputs": [
    {
     "name": "stdout",
     "output_type": "stream",
     "text": [
      "Fitting 5 folds for each of 10 candidates, totalling 50 fits\n"
     ]
    },
    {
     "name": "stderr",
     "output_type": "stream",
     "text": [
      "[Parallel(n_jobs=-1)]: Using backend LokyBackend with 8 concurrent workers.\n",
      "[Parallel(n_jobs=-1)]: Done   2 tasks      | elapsed:    4.1s\n",
      "[Parallel(n_jobs=-1)]: Done   9 tasks      | elapsed:    5.6s\n",
      "[Parallel(n_jobs=-1)]: Done  16 tasks      | elapsed:    8.6s\n",
      "[Parallel(n_jobs=-1)]: Done  25 tasks      | elapsed:   32.7s\n",
      "[Parallel(n_jobs=-1)]: Done  34 tasks      | elapsed:   37.2s\n",
      "[Parallel(n_jobs=-1)]: Done  41 out of  50 | elapsed:   42.8s remaining:    9.4s\n",
      "[Parallel(n_jobs=-1)]: Done  47 out of  50 | elapsed:   58.6s remaining:    3.7s\n",
      "[Parallel(n_jobs=-1)]: Done  50 out of  50 | elapsed:  1.0min finished\n"
     ]
    },
    {
     "name": "stdout",
     "output_type": "stream",
     "text": [
      "=======+++++++========\n",
      "DT RANDOM GRID results\n",
      "=======+++++++========\n",
      "Best parameters : {'min_samples_split': 5, 'max_features': None, 'max_depth': None, 'criterion': 'entropy'}\n",
      "CV accuracy : 87.2%\n",
      "test accuracy : 88.6%\n"
     ]
    }
   ],
   "source": [
    "from sklearn.model_selection import RandomizedSearchCV\n",
    "\n",
    "random_grid_DT = {\n",
    "    'criterion': ['gini','entropy'],\n",
    "    'max_depth' : [None,10,100],\n",
    "    'max_features' : [None,\"sqrt\",\"log2\"],\n",
    "    'min_samples_split': [2,5,7]\n",
    "}\n",
    "\n",
    "clf_DT = DecisionTreeClassifier(random_state=0)\n",
    "search_DT = RandomizedSearchCV(clf_DT, random_grid_DT, cv=5, verbose=10,n_jobs=-1).fit(X_train, y_train)\n",
    "\n",
    "best_CLF_DT = clf_DT.set_params(**search_DT.best_params_)\n",
    "best_CLF_DT.fit(X_train,y_train)\n",
    "best_CLF_DT_test_score = best_CLF_DT.score(X_test,y_test)\n",
    "\n",
    "print(\"=======+++++++========\")\n",
    "print(\"DT RANDOM GRID results\")\n",
    "print(\"=======+++++++========\")\n",
    "print(f'Best parameters : {search_DT.best_params_}')\n",
    "print(f'CV accuracy : {np.round(100*search_DT.best_score_,1)}%')\n",
    "print(f'test accuracy : {np.round(100*best_CLF_DT_test_score,1)}%')"
   ]
  },
  {
   "cell_type": "code",
   "execution_count": 9,
   "metadata": {
    "scrolled": false
   },
   "outputs": [
    {
     "name": "stdout",
     "output_type": "stream",
     "text": [
      "==================\n",
      "Feature importance\n",
      "==================\n"
     ]
    },
    {
     "data": {
      "image/png": "[encoded data removed]",
      "text/plain": [
       "<Figure size 720x360 with 4 Axes>"
      ]
     },
     "metadata": {
      "needs_background": "light"
     },
     "output_type": "display_data"
    }
   ],
   "source": [
    "import matplotlib.pyplot as plt\n",
    "\n",
    "print(\"==================\")\n",
    "print(\"Feature importance\")\n",
    "print(\"==================\")\n",
    "\n",
    "plt.figure(figsize=(10,5))\n",
    "\n",
    "ax = plt.subplot(1,2,1)\n",
    "ax.set_title('Random Forest')\n",
    "im = ax.imshow(best_CLF_RF.feature_importances_.reshape((28,28)),cmap=plt.cm.gray_r);\n",
    "ax.set_xticks([])\n",
    "ax.set_yticks([]);\n",
    "plt.colorbar(im);\n",
    "\n",
    "ax = plt.subplot(1,2,2)\n",
    "ax.set_title('Decision Tree')\n",
    "im = ax.imshow(best_CLF_DT.feature_importances_.reshape((28,28)),cmap=plt.cm.gray_r);\n",
    "ax.set_xticks([])\n",
    "ax.set_yticks([]);\n",
    "plt.colorbar(im);\n",
    "\n",
    "plt.tight_layout()\n",
    "plt.show()"
   ]
  },
  {
   "cell_type": "code",
   "execution_count": 10,
   "metadata": {},
   "outputs": [
    {
     "data": {
      "image/png": "[encoded data removed]",
      "text/plain": [
       "<Figure size 720x360 with 1 Axes>"
      ]
     },
     "metadata": {
      "needs_background": "light"
     },
     "output_type": "display_data"
    }
   ],
   "source": [
    "y_hat = best_CLF_RF.predict(X_test)\n",
    "right_idxs = y_hat == y_test\n",
    "wrong_idxs = ~right_idxs\n",
    "probs = np.max(best_CLF_RF.predict_proba(X_test),axis=1)\n",
    "\n",
    "\n",
    "plt.figure(figsize=(10,5))\n",
    "\n",
    "ax = plt.subplot(1,2,1)\n",
    "\n",
    "ax.hist(probs[right_idxs],label='correct',density=True,color='g',alpha=0.5)\n",
    "ax.hist(probs[wrong_idxs],label='wrong',density=True,color='r',alpha=0.5)\n",
    "ax.legend()\n",
    "ax.set_title('Probability distribution - Random Forest')\n",
    "ax.set_xlabel('Probability')\n",
    "ax.set_ylabel('Density');"
   ]
  },
  {
   "cell_type": "markdown",
   "metadata": {
    "colab_type": "text",
    "id": "k0GSFGrtOF4B"
   },
   "source": [
    "## References\n",
    "- https://www.analyticsvidhya.com/blog/2014/06/introduction-random-forest-simplified/"
   ]
  }
 ],
 "metadata": {
  "colab": {
   "collapsed_sections": [],
   "name": "Decision Trees - Exercise.ipynb",
   "provenance": []
  },
  "kernelspec": {
   "display_name": "Python 3",
   "language": "python",
   "name": "python3"
  },
  "language_info": {
   "codemirror_mode": {
    "name": "ipython",
    "version": 3
   },
   "file_extension": ".py",
   "mimetype": "text/x-python",
   "name": "python",
   "nbconvert_exporter": "python",
   "pygments_lexer": "ipython3",
   "version": "3.7.0b4"
  }
 },
 "nbformat": 4,
 "nbformat_minor": 1
}
