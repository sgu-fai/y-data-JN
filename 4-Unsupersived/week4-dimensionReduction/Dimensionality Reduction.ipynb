{
 "cells": [
  {
   "cell_type": "markdown",
   "metadata": {},
   "source": [
    "# Dimensionality reduction"
   ]
  },
  {
   "cell_type": "markdown",
   "metadata": {},
   "source": [
    "In this task you will practice dimensionality reduction.\n",
    "Use code cells to answer the Tasks and Markdown cells for the Questions (Q's)."
   ]
  },
  {
   "cell_type": "code",
   "execution_count": 118,
   "metadata": {
    "_cell_guid": "b1076dfc-b9ad-4769-8c92-a6c4dae69d19",
    "_uuid": "8f2839f25d086af736a60e9eeb907d3b93b6e0e5"
   },
   "outputs": [],
   "source": [
    "import sklearn\n",
    "import numpy as np\n",
    "from sklearn.tree import DecisionTreeClassifier\n",
    "from sklearn.model_selection import train_test_split\n",
    "from sklearn.datasets import load_breast_cancer\n",
    "import pandas as pd\n",
    "from sklearn.metrics import accuracy_score\n",
    "from sklearn.ensemble import RandomForestClassifier\n",
    "from sklearn.decomposition import PCA\n",
    "from sklearn.datasets import load_wine\n",
    "from sklearn.linear_model import LogisticRegression\n",
    "from sklearn.preprocessing import StandardScaler\n",
    "from sklearn.pipeline import Pipeline\n",
    "from sklearn.preprocessing import Normalizer\n",
    "# from sklearn.model_selection import cross_val_score\n",
    "\n",
    "# import sklearn\n",
    "# print('sklearn: %s' % sklearn.__version__)\n",
    "import warnings\n",
    "warnings.filterwarnings(\"ignore\")"
   ]
  },
  {
   "cell_type": "markdown",
   "metadata": {},
   "source": [
    "# Load data"
   ]
  },
  {
   "cell_type": "code",
   "execution_count": 111,
   "metadata": {},
   "outputs": [],
   "source": [
    "(X, y) = load_wine(return_X_y=True)\n",
    "\n",
    "# split X into training and testing sets\n",
    "X_train, X_test, y_train, y_test = train_test_split(X, y, test_size=0.4, random_state=0,stratify=y)"
   ]
  },
  {
   "cell_type": "markdown",
   "metadata": {},
   "source": [
    "Lets take a quick look at the data:"
   ]
  },
  {
   "cell_type": "code",
   "execution_count": 112,
   "metadata": {},
   "outputs": [
    {
     "data": {
      "text/html": [
       "<div>\n",
       "<style scoped>\n",
       "    .dataframe tbody tr th:only-of-type {\n",
       "        vertical-align: middle;\n",
       "    }\n",
       "\n",
       "    .dataframe tbody tr th {\n",
       "        vertical-align: top;\n",
       "    }\n",
       "\n",
       "    .dataframe thead th {\n",
       "        text-align: right;\n",
       "    }\n",
       "</style>\n",
       "<table border=\"1\" class=\"dataframe\">\n",
       "  <thead>\n",
       "    <tr style=\"text-align: right;\">\n",
       "      <th></th>\n",
       "      <th>0</th>\n",
       "      <th>1</th>\n",
       "      <th>2</th>\n",
       "      <th>3</th>\n",
       "      <th>4</th>\n",
       "      <th>5</th>\n",
       "      <th>6</th>\n",
       "      <th>7</th>\n",
       "      <th>8</th>\n",
       "      <th>9</th>\n",
       "      <th>10</th>\n",
       "      <th>11</th>\n",
       "      <th>12</th>\n",
       "    </tr>\n",
       "  </thead>\n",
       "  <tbody>\n",
       "    <tr>\n",
       "      <th>count</th>\n",
       "      <td>106.000000</td>\n",
       "      <td>106.000000</td>\n",
       "      <td>106.000000</td>\n",
       "      <td>106.000000</td>\n",
       "      <td>106.000000</td>\n",
       "      <td>106.000000</td>\n",
       "      <td>106.000000</td>\n",
       "      <td>106.000000</td>\n",
       "      <td>106.000000</td>\n",
       "      <td>106.000000</td>\n",
       "      <td>106.000000</td>\n",
       "      <td>106.000000</td>\n",
       "      <td>106.000000</td>\n",
       "    </tr>\n",
       "    <tr>\n",
       "      <th>mean</th>\n",
       "      <td>13.031792</td>\n",
       "      <td>2.332642</td>\n",
       "      <td>2.367170</td>\n",
       "      <td>19.701887</td>\n",
       "      <td>98.556604</td>\n",
       "      <td>2.282170</td>\n",
       "      <td>1.981509</td>\n",
       "      <td>0.375755</td>\n",
       "      <td>1.620849</td>\n",
       "      <td>5.150472</td>\n",
       "      <td>0.951321</td>\n",
       "      <td>2.617830</td>\n",
       "      <td>756.915094</td>\n",
       "    </tr>\n",
       "    <tr>\n",
       "      <th>std</th>\n",
       "      <td>0.821117</td>\n",
       "      <td>1.126702</td>\n",
       "      <td>0.271797</td>\n",
       "      <td>3.159023</td>\n",
       "      <td>13.749514</td>\n",
       "      <td>0.573592</td>\n",
       "      <td>1.013492</td>\n",
       "      <td>0.124869</td>\n",
       "      <td>0.592705</td>\n",
       "      <td>2.443026</td>\n",
       "      <td>0.216509</td>\n",
       "      <td>0.680315</td>\n",
       "      <td>326.825135</td>\n",
       "    </tr>\n",
       "    <tr>\n",
       "      <th>min</th>\n",
       "      <td>11.460000</td>\n",
       "      <td>0.890000</td>\n",
       "      <td>1.700000</td>\n",
       "      <td>12.000000</td>\n",
       "      <td>70.000000</td>\n",
       "      <td>1.250000</td>\n",
       "      <td>0.470000</td>\n",
       "      <td>0.130000</td>\n",
       "      <td>0.420000</td>\n",
       "      <td>1.740000</td>\n",
       "      <td>0.480000</td>\n",
       "      <td>1.270000</td>\n",
       "      <td>278.000000</td>\n",
       "    </tr>\n",
       "    <tr>\n",
       "      <th>25%</th>\n",
       "      <td>12.332500</td>\n",
       "      <td>1.632500</td>\n",
       "      <td>2.210000</td>\n",
       "      <td>17.500000</td>\n",
       "      <td>88.000000</td>\n",
       "      <td>1.800000</td>\n",
       "      <td>1.017500</td>\n",
       "      <td>0.270000</td>\n",
       "      <td>1.252500</td>\n",
       "      <td>3.180000</td>\n",
       "      <td>0.802500</td>\n",
       "      <td>1.972500</td>\n",
       "      <td>510.000000</td>\n",
       "    </tr>\n",
       "    <tr>\n",
       "      <th>50%</th>\n",
       "      <td>13.135000</td>\n",
       "      <td>1.845000</td>\n",
       "      <td>2.350000</td>\n",
       "      <td>19.500000</td>\n",
       "      <td>97.000000</td>\n",
       "      <td>2.210000</td>\n",
       "      <td>2.035000</td>\n",
       "      <td>0.360000</td>\n",
       "      <td>1.545000</td>\n",
       "      <td>4.800000</td>\n",
       "      <td>0.960000</td>\n",
       "      <td>2.795000</td>\n",
       "      <td>675.000000</td>\n",
       "    </tr>\n",
       "    <tr>\n",
       "      <th>75%</th>\n",
       "      <td>13.677500</td>\n",
       "      <td>3.135000</td>\n",
       "      <td>2.580000</td>\n",
       "      <td>21.575000</td>\n",
       "      <td>105.750000</td>\n",
       "      <td>2.787500</td>\n",
       "      <td>2.855000</td>\n",
       "      <td>0.477500</td>\n",
       "      <td>1.970000</td>\n",
       "      <td>6.200000</td>\n",
       "      <td>1.097500</td>\n",
       "      <td>3.167500</td>\n",
       "      <td>1023.750000</td>\n",
       "    </tr>\n",
       "    <tr>\n",
       "      <th>max</th>\n",
       "      <td>14.830000</td>\n",
       "      <td>5.650000</td>\n",
       "      <td>3.230000</td>\n",
       "      <td>28.500000</td>\n",
       "      <td>151.000000</td>\n",
       "      <td>3.380000</td>\n",
       "      <td>5.080000</td>\n",
       "      <td>0.630000</td>\n",
       "      <td>3.580000</td>\n",
       "      <td>13.000000</td>\n",
       "      <td>1.420000</td>\n",
       "      <td>4.000000</td>\n",
       "      <td>1680.000000</td>\n",
       "    </tr>\n",
       "  </tbody>\n",
       "</table>\n",
       "</div>"
      ],
      "text/plain": [
       "               0           1           2           3           4           5   \\\n",
       "count  106.000000  106.000000  106.000000  106.000000  106.000000  106.000000   \n",
       "mean    13.031792    2.332642    2.367170   19.701887   98.556604    2.282170   \n",
       "std      0.821117    1.126702    0.271797    3.159023   13.749514    0.573592   \n",
       "min     11.460000    0.890000    1.700000   12.000000   70.000000    1.250000   \n",
       "25%     12.332500    1.632500    2.210000   17.500000   88.000000    1.800000   \n",
       "50%     13.135000    1.845000    2.350000   19.500000   97.000000    2.210000   \n",
       "75%     13.677500    3.135000    2.580000   21.575000  105.750000    2.787500   \n",
       "max     14.830000    5.650000    3.230000   28.500000  151.000000    3.380000   \n",
       "\n",
       "               6           7           8           9           10          11  \\\n",
       "count  106.000000  106.000000  106.000000  106.000000  106.000000  106.000000   \n",
       "mean     1.981509    0.375755    1.620849    5.150472    0.951321    2.617830   \n",
       "std      1.013492    0.124869    0.592705    2.443026    0.216509    0.680315   \n",
       "min      0.470000    0.130000    0.420000    1.740000    0.480000    1.270000   \n",
       "25%      1.017500    0.270000    1.252500    3.180000    0.802500    1.972500   \n",
       "50%      2.035000    0.360000    1.545000    4.800000    0.960000    2.795000   \n",
       "75%      2.855000    0.477500    1.970000    6.200000    1.097500    3.167500   \n",
       "max      5.080000    0.630000    3.580000   13.000000    1.420000    4.000000   \n",
       "\n",
       "                12  \n",
       "count   106.000000  \n",
       "mean    756.915094  \n",
       "std     326.825135  \n",
       "min     278.000000  \n",
       "25%     510.000000  \n",
       "50%     675.000000  \n",
       "75%    1023.750000  \n",
       "max    1680.000000  "
      ]
     },
     "execution_count": 112,
     "metadata": {},
     "output_type": "execute_result"
    }
   ],
   "source": [
    "pd.DataFrame(X_train).describe()"
   ]
  },
  {
   "cell_type": "markdown",
   "metadata": {},
   "source": [
    "# PCA + Random forest"
   ]
  },
  {
   "cell_type": "markdown",
   "metadata": {},
   "source": [
    "Task 1: Use X_train, y_train to train a random forest with the default parameters. You can read more about the algorithm in SKlearn's documentation.\n",
    "Evaluate the algorithm using accuracy score and X_test, y_test."
   ]
  },
  {
   "cell_type": "code",
   "execution_count": 113,
   "metadata": {},
   "outputs": [
    {
     "name": "stdout",
     "output_type": "stream",
     "text": [
      "RF score:97.22222222222221%\n",
      "RF mean score:94.72222222222223%\n"
     ]
    }
   ],
   "source": [
    "from sklearn.ensemble import RandomForestClassifier as RF\n",
    "from sklearn.metrics import accuracy_score\n",
    "\n",
    "mean_on_nb_elt = 10\n",
    "\n",
    "def get_rf_score():\n",
    "    rfc = RF()\n",
    "    rfc.fit(X_train, y_train)\n",
    "    y_pred = rfc.predict(X_test)\n",
    "    score = accuracy_score(y_test, y_pred)\n",
    "    return score\n",
    "\n",
    "\n",
    "rf_score = get_rf_score()\n",
    "print(\"RF score:{}%\".format(rf_score * 100))\n",
    "list_score = []\n",
    "for i in range(mean_on_nb_elt):\n",
    "    list_score.append(get_rf_score())\n",
    "print(\"RF mean score:{}%\".format(np.mean(list_score) * 100))"
   ]
  },
  {
   "cell_type": "markdown",
   "metadata": {},
   "source": [
    "Task 2: Now do the same, but use PCA.\n",
    "\n",
    "In this task, we want to keep all of the variance! No data is going to be discarded.\n",
    "You are asked to use the maximal number of componenets for PCA.\n",
    "\n",
    "Q1: Your co-worker says that the results should be at least as good as the results we had without PCA. Explain why might he say that.\n",
    "\n",
    "Print the accuracy of Random forest + PCA."
   ]
  },
  {
   "cell_type": "markdown",
   "metadata": {},
   "source": [
    "#### answer\n",
    "\n",
    "if we keep the same variance and only change the base vector we should not get worse prediction. Adjusting the base vector give hope to improve the prediction"
   ]
  },
  {
   "cell_type": "code",
   "execution_count": 116,
   "metadata": {},
   "outputs": [
    {
     "name": "stdout",
     "output_type": "stream",
     "text": [
      "PCA + RF:91.66666666666666%\n"
     ]
    }
   ],
   "source": [
    "# cpt = X_train.shape[0]*X_train.shape[1]\n",
    "# print(cpt)\n",
    "# pca = PCA(n_components=min(X_train.shape[0], X_train.shape[1]), svd_solver='full')\n",
    "ss = StandardScaler()\n",
    "ss.fit(X_train)\n",
    "X_train_scaled = ss.transform(X_train)\n",
    "X_test_scaled = ss.transform(X_test)\n",
    "pca = PCA()\n",
    "pca.fit(X_train_scaled)\n",
    "X_nd = pca.transform(X_train_scaled)\n",
    "Test_nd = pca.transform(X_test_scaled)\n",
    "\n",
    "clf = RF()\n",
    "clf = clf.fit(X_nd, y_train)\n",
    "y_pred = clf.predict(Test_nd)\n",
    "score = accuracy_score(y_test, y_pred)\n",
    "print(\"PCA + RF:{}%\".format(score * 100))\n"
   ]
  },
  {
   "cell_type": "code",
   "execution_count": 120,
   "metadata": {},
   "outputs": [
    {
     "name": "stdout",
     "output_type": "stream",
     "text": [
      "Pipeline - PCA + RF:94.44444444444444%\n"
     ]
    }
   ],
   "source": [
    "# just a try using pipeline (I tried with and without: StandardScaler, Normalizer )\n",
    "\n",
    "pipeline1 = Pipeline([(\"Scale\", StandardScaler()), (\"Pca\", PCA()), (\"Random Forest\", RF())]) \n",
    "pipeline1.fit(X_train, y_train)\n",
    "y_pred = pipeline1.predict (X_test)\n",
    "score_pca_rf = accuracy_score(y_test, y_pred)\n",
    "print(\"Pipeline - PCA + RF:{}%\".format(score_pca_rf * 100))\n"
   ]
  },
  {
   "cell_type": "code",
   "execution_count": 121,
   "metadata": {},
   "outputs": [
    {
     "name": "stdout",
     "output_type": "stream",
     "text": [
      "Pipeline - PCA + RF:93.05555555555556%\n"
     ]
    }
   ],
   "source": [
    "pipeline1 = Pipeline([(\"Normalizer\", Normalizer()),(\"Scale\", StandardScaler()), (\"Pca\", PCA()), (\"Random Forest\", RF())]) \n",
    "pipeline1.fit(X_train, y_train)\n",
    "y_pred = pipeline1.predict (X_test)\n",
    "score_pca_rf = accuracy_score(y_test, y_pred)\n",
    "print(\"Pipeline - PCA + RF:{}%\".format(score_pca_rf * 100))"
   ]
  },
  {
   "cell_type": "markdown",
   "metadata": {},
   "source": [
    "Q2: Did the results improve\\stayed the same\\got worse? "
   ]
  },
  {
   "cell_type": "markdown",
   "metadata": {},
   "source": [
    "#### answer\n",
    "\n",
    "Result are not totally stable but it seems worse.\n",
    "Just listen again PCA (coursera), we are supposed to first nomalize then scale before to use PCA"
   ]
  },
  {
   "cell_type": "markdown",
   "metadata": {},
   "source": [
    "# PCA + logistice regression"
   ]
  },
  {
   "cell_type": "markdown",
   "metadata": {},
   "source": [
    "Task 3: repeat task 1 with logistic regression.\n",
    "\n",
    "Task 4: repeast task 2 with logistic regression."
   ]
  },
  {
   "cell_type": "code",
   "execution_count": 107,
   "metadata": {},
   "outputs": [
    {
     "name": "stdout",
     "output_type": "stream",
     "text": [
      "LR score:95.83333333333334%\n"
     ]
    }
   ],
   "source": [
    "lr = LogisticRegression(random_state=0).fit(X_train, y_train)\n",
    "y_pred = lr.predict(X_test)\n",
    "score = accuracy_score(y_test, y_pred)\n",
    "print(\"LR score:{}%\".format(score * 100))"
   ]
  },
  {
   "cell_type": "code",
   "execution_count": 108,
   "metadata": {},
   "outputs": [
    {
     "name": "stdout",
     "output_type": "stream",
     "text": [
      "PCA + LR:100.0%\n"
     ]
    }
   ],
   "source": [
    "ss = StandardScaler()\n",
    "ss.fit(X_train)\n",
    "X_train_scaled = ss.transform(X_train)\n",
    "X_test_scaled = ss.transform(X_test)\n",
    "pca = PCA()\n",
    "pca.fit(X_train_scaled)\n",
    "X_nd = pca.transform(X_train_scaled)\n",
    "Test_nd = pca.transform(X_test_scaled)\n",
    "\n",
    "lr = LogisticRegression()\n",
    "lr.fit(X_nd, y_train)\n",
    "y_pred = lr.predict(Test_nd)\n",
    "score = accuracy_score(y_test, y_pred)\n",
    "print(\"PCA + LR:{}%\".format(score * 100))"
   ]
  },
  {
   "cell_type": "code",
   "execution_count": 109,
   "metadata": {},
   "outputs": [
    {
     "name": "stdout",
     "output_type": "stream",
     "text": [
      "Pipeline - PCA + LR:100.0%\n"
     ]
    }
   ],
   "source": [
    "# pipeline solution \n",
    "pipeline = Pipeline([(\"Scale\", StandardScaler()), (\"Pca\", PCA()), (\"LR\", LogisticRegression())]) \n",
    "pipeline.fit(X_train, y_train)\n",
    "y_pred = pipeline.predict(X_test)\n",
    "score_pca_lr = accuracy_score(y_test, y_pred)\n",
    "print(\"Pipeline - PCA + LR:{}%\".format(score_pca_lr * 100))"
   ]
  },
  {
   "cell_type": "code",
   "execution_count": 119,
   "metadata": {},
   "outputs": [
    {
     "name": "stdout",
     "output_type": "stream",
     "text": [
      "Pipeline - PCA + LR:95.83333333333334%\n"
     ]
    }
   ],
   "source": [
    "pipeline = Pipeline([(\"Normalizer\", Normalizer()), (\"Scale\", StandardScaler()), (\"Pca\", PCA()), (\"LR\", LogisticRegression())]) \n",
    "pipeline.fit(X_train, y_train)\n",
    "y_pred = pipeline.predict(X_test)\n",
    "score_pca_lr = accuracy_score(y_test, y_pred)\n",
    "print(\"Pipeline - PCA + LR:{}%\".format(score_pca_lr * 100))"
   ]
  },
  {
   "cell_type": "markdown",
   "metadata": {},
   "source": [
    "Q3: Did the results improved\\stayed the same\\got worse?"
   ]
  },
  {
   "cell_type": "markdown",
   "metadata": {},
   "source": [
    "#### answer\n",
    "\n",
    "It get better. 100% is little bit weird. I didn't find my error (sometime I get a less with the same code)\n"
   ]
  },
  {
   "cell_type": "markdown",
   "metadata": {},
   "source": [
    "PCA + LR seems perfect "
   ]
  },
  {
   "cell_type": "markdown",
   "metadata": {},
   "source": [
    "Q4: How can you explain the difference between answers to Q2 and Q3. Hint: think about the nature of Logistic regression and the main difference of Random forest from it."
   ]
  },
  {
   "cell_type": "markdown",
   "metadata": {},
   "source": [
    "Changing the base vectors (PCA) can improve regressions. "
   ]
  },
  {
   "cell_type": "markdown",
   "metadata": {},
   "source": [
    "# Visualizing"
   ]
  },
  {
   "cell_type": "markdown",
   "metadata": {},
   "source": [
    "Task 5: Use locally linear embedding in sklearn to visualize the data. Plot the results.\n",
    "Optimze the n_neighbors by running at least 5 times and use the best looking result you can find."
   ]
  },
  {
   "cell_type": "code",
   "execution_count": 80,
   "metadata": {},
   "outputs": [],
   "source": [
    "from tqdm.auto import tqdm\n",
    "from sklearn.metrics import silhouette_score\n",
    "from sklearn.cluster import DBSCAN\n",
    "\n",
    "def search_best_fit(func, n_clusters, index_min, index_max):\n",
    "    score_list = []\n",
    "    for index in tqdm(range(index_min, index_max)):\n",
    "        class_func = func(index)\n",
    "        X_transformed = class_func.fit(X).transform(X)\n",
    "#         y_pred = DBSCAN(eps=0.5, min_samples=50).fit_predict(X_transformed)        \n",
    "        kmeans = KMeans(n_clusters=n_clusters)\n",
    "        kmeans.fit(X_transformed)\n",
    "        y_pred = kmeans.predict(X_transformed)        \n",
    "        score = adjusted_rand_score(y_pred, y)\n",
    "        score_list.append(score)\n",
    "    best_index = np.argmax(score_list) + index_min\n",
    "    print(f\"best score:{score_list[best_index - index_min]}, with index:{best_index}\")\n",
    "    return best_index\n",
    "    "
   ]
  },
  {
   "cell_type": "code",
   "execution_count": 81,
   "metadata": {},
   "outputs": [
    {
     "data": {
      "application/vnd.jupyter.widget-view+json": {
       "model_id": "c16e86cc0325426ab39de51054646216",
       "version_major": 2,
       "version_minor": 0
      },
      "text/plain": [
       "HBox(children=(IntProgress(value=0, max=99), HTML(value='')))"
      ]
     },
     "metadata": {},
     "output_type": "display_data"
    },
    {
     "name": "stdout",
     "output_type": "stream",
     "text": [
      "\n",
      "best score:0.4274627856395638, with index:15\n"
     ]
    },
    {
     "data": {
      "image/png": "[encoded data removed]",
      "text/plain": [
       "<Figure size 504x504 with 1 Axes>"
      ]
     },
     "metadata": {},
     "output_type": "display_data"
    }
   ],
   "source": [
    "import matplotlib.pyplot as plt\n",
    "from sklearn.cluster import KMeans\n",
    "from sklearn.manifold import LocallyLinearEmbedding\n",
    "from sklearn.metrics.cluster import adjusted_rand_score\n",
    "\n",
    "n_clusters = 3\n",
    "ll_min = 1\n",
    "ll_max = 100\n",
    "\n",
    "best_ll_index = search_best_fit(LocallyLinearEmbedding, n_clusters, ll_min, ll_max)\n",
    "X_transformed = LocallyLinearEmbedding(best_ll_index).fit(X).transform(X)\n",
    "plt.figure(figsize=(7,7))\n",
    "plt.scatter(X_transformed[:,0],X_transformed[:,1], c=y)\n",
    "plt.show()    "
   ]
  },
  {
   "cell_type": "markdown",
   "metadata": {},
   "source": [
    "Task 6: Use t-SNE to visualize the data. Plot the results."
   ]
  },
  {
   "cell_type": "code",
   "execution_count": 87,
   "metadata": {},
   "outputs": [
    {
     "name": "stdout",
     "output_type": "stream",
     "text": [
      "(178, 2)\n"
     ]
    },
    {
     "data": {
      "image/png": "[encoded data removed]",
      "text/plain": [
       "<Figure size 504x504 with 1 Axes>"
      ]
     },
     "metadata": {},
     "output_type": "display_data"
    }
   ],
   "source": [
    "from sklearn.manifold import TSNE\n",
    "X_embedded = TSNE(n_components=2).fit_transform(X)\n",
    "print(X_embedded.shape)\n",
    "plt.figure(figsize=(7,7))\n",
    "plt.scatter(X_embedded[:,0],X_embedded[:,1], c=y)\n",
    "plt.show()"
   ]
  },
  {
   "cell_type": "markdown",
   "metadata": {},
   "source": [
    "Task 7: Use UMAP to visualize the data. Plot the results."
   ]
  },
  {
   "cell_type": "code",
   "execution_count": 101,
   "metadata": {},
   "outputs": [
    {
     "name": "stdout",
     "output_type": "stream",
     "text": [
      "X.shape:(178, 13)\n",
      "X_embedded.shape:(178, 2)\n"
     ]
    },
    {
     "data": {
      "image/png": "[encoded data removed]",
      "text/plain": [
       "<Figure size 504x504 with 1 Axes>"
      ]
     },
     "metadata": {},
     "output_type": "display_data"
    }
   ],
   "source": [
    "import umap\n",
    "\n",
    "mapper = umap.UMAP().fit(X)\n",
    "print(f\"X.shape:{X.shape}\")\n",
    "X_embedded =  mapper.transform(X)\n",
    "print(f\"X_embedded.shape:{X_embedded.shape}\")\n",
    "\n",
    "plt.figure(figsize=(7,7))\n",
    "plt.scatter(X_embedded[:,0], X_embedded[:,1], c=y, cmap='Spectral')\n",
    "plt.gca().set_aspect('equal', 'datalim')\n",
    "plt.title('UMAP projection of the wine dataset', fontsize=24);\n",
    "plt.show()"
   ]
  },
  {
   "cell_type": "code",
   "execution_count": 96,
   "metadata": {},
   "outputs": [
    {
     "data": {
      "application/vnd.jupyter.widget-view+json": {
       "model_id": "1bafd0b02f9c434e817a0b223b7806d6",
       "version_major": 2,
       "version_minor": 0
      },
      "text/plain": [
       "HBox(children=(IntProgress(value=0, max=18), HTML(value='')))"
      ]
     },
     "metadata": {},
     "output_type": "display_data"
    },
    {
     "name": "stdout",
     "output_type": "stream",
     "text": [
      "\n",
      "best score:0.4007269360356033, with index:8\n"
     ]
    },
    {
     "data": {
      "image/png": "[encoded data removed]",
      "text/plain": [
       "<Figure size 504x504 with 1 Axes>"
      ]
     },
     "metadata": {},
     "output_type": "display_data"
    }
   ],
   "source": [
    "import umap\n",
    "\n",
    "n_clusters = 3\n",
    "umap_min = 2\n",
    "umap_max = 20\n",
    "\n",
    "best_umap_index = search_best_fit(umap.UMAP, n_clusters, umap_min, umap_max)\n",
    "X_transformed = umap.UMAP(best_umap_index).fit(X).transform(X)\n",
    "plt.figure(figsize=(7,7))\n",
    "plt.scatter(X_transformed[:,0],X_transformed[:,1], c=y)\n",
    "plt.title('UMAP projection of the wine dataset', fontsize=24);\n",
    "plt.show()"
   ]
  },
  {
   "cell_type": "markdown",
   "metadata": {},
   "source": [
    "Q5: If we run one of this visualziaing algorithms various times with the default parameters, are we guranteed to see the same results? Why?"
   ]
  },
  {
   "cell_type": "markdown",
   "metadata": {},
   "source": [
    "most of those algo start at a random point so it gives a different result"
   ]
  }
 ],
 "metadata": {
  "kernelspec": {
   "display_name": "Python 3",
   "language": "python",
   "name": "python3"
  },
  "language_info": {
   "codemirror_mode": {
    "name": "ipython",
    "version": 3
   },
   "file_extension": ".py",
   "mimetype": "text/x-python",
   "name": "python",
   "nbconvert_exporter": "python",
   "pygments_lexer": "ipython3",
   "version": "3.7.0b4"
  }
 },
 "nbformat": 4,
 "nbformat_minor": 1
}
